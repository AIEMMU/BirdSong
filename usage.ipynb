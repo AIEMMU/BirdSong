{
 "cells": [
  {
   "cell_type": "code",
   "execution_count": 1,
   "id": "loving-three",
   "metadata": {},
   "outputs": [],
   "source": [
    "%load_ext autoreload\n",
    "%autoreload 2"
   ]
  },
  {
   "cell_type": "code",
   "execution_count": 2,
   "id": "numerous-saudi",
   "metadata": {},
   "outputs": [
    {
     "name": "stderr",
     "output_type": "stream",
     "text": [
      "D:\\ProgramFiles\\anaconda3\\envs\\pytorch\\lib\\site-packages\\torchaudio\\extension\\extension.py:14: UserWarning: torchaudio C++ extension is not available.\n",
      "  warnings.warn('torchaudio C++ extension is not available.')\n",
      "D:\\ProgramFiles\\anaconda3\\envs\\pytorch\\lib\\site-packages\\torchaudio\\backend\\utils.py:64: UserWarning: The interface of \"soundfile\" backend is planned to change in 0.8.0 to match that of \"sox_io\" backend and the current interface will be removed in 0.9.0. To use the new interface, do `torchaudio.USE_SOUNDFILE_LEGACY_INTERFACE = False` before setting the backend to \"soundfile\". Please refer to https://github.com/pytorch/audio/issues/903 for the detail.\n",
      "  'The interface of \"soundfile\" backend is planned to change in 0.8.0 to '\n"
     ]
    }
   ],
   "source": [
    "#Load in the libraries we need \n",
    "import torch\n",
    "import numpy as np\n",
    "import pandas as pd\n",
    "import argparse\n",
    "from glob import glob\n",
    "import librosa\n",
    "from model import get_model, create_model # this creates our model\n",
    "\n",
    "from dataloader import get_dataloader, get_dataloader_single_clip # this is the data file\n",
    "from metrics import LWLRAP, label_ranking_average_precision_score # metrics\n",
    "from tqdm.auto import tqdm"
   ]
  },
  {
   "cell_type": "markdown",
   "id": "latter-highland",
   "metadata": {},
   "source": [
    "### Load in the dataset to evaluate or test on\n",
    "\n",
    "Here we are using Christian's test set"
   ]
  },
  {
   "cell_type": "code",
   "execution_count": 3,
   "id": "flying-shade",
   "metadata": {
    "scrolled": true
   },
   "outputs": [
    {
     "data": {
      "text/html": [
       "<div>\n",
       "<style scoped>\n",
       "    .dataframe tbody tr th:only-of-type {\n",
       "        vertical-align: middle;\n",
       "    }\n",
       "\n",
       "    .dataframe tbody tr th {\n",
       "        vertical-align: top;\n",
       "    }\n",
       "\n",
       "    .dataframe thead th {\n",
       "        text-align: right;\n",
       "    }\n",
       "</style>\n",
       "<table border=\"1\" class=\"dataframe\">\n",
       "  <thead>\n",
       "    <tr style=\"text-align: right;\">\n",
       "      <th></th>\n",
       "      <th>Label</th>\n",
       "      <th>File</th>\n",
       "      <th>Event_ID</th>\n",
       "      <th>X_min</th>\n",
       "      <th>X_max</th>\n",
       "      <th>Y_min</th>\n",
       "      <th>Y_max</th>\n",
       "      <th>Species</th>\n",
       "      <th>EngName</th>\n",
       "      <th>Group</th>\n",
       "      <th>Date</th>\n",
       "      <th>recID</th>\n",
       "      <th>wave</th>\n",
       "      <th>duration</th>\n",
       "    </tr>\n",
       "  </thead>\n",
       "  <tbody>\n",
       "    <tr>\n",
       "      <th>0</th>\n",
       "      <td>AshDro</td>\n",
       "      <td>extr_1670_B09_20190727_060000_All_Day_3h.txt</td>\n",
       "      <td>AshDro_1</td>\n",
       "      <td>3657.588</td>\n",
       "      <td>9824.903</td>\n",
       "      <td>1.788462</td>\n",
       "      <td>4.250000</td>\n",
       "      <td>Dicrurus leucophaeus</td>\n",
       "      <td>Ashy Drongo</td>\n",
       "      <td>Birds</td>\n",
       "      <td>27/07/2019</td>\n",
       "      <td>B09</td>\n",
       "      <td>extr_1670_B09_20190727_060000_All_Day_3h.wav</td>\n",
       "      <td>6167.315</td>\n",
       "    </tr>\n",
       "    <tr>\n",
       "      <th>1</th>\n",
       "      <td>AshDro</td>\n",
       "      <td>extr_1670_B09_20190727_060000_All_Day_3h.txt</td>\n",
       "      <td>AshDro_2</td>\n",
       "      <td>10622.568</td>\n",
       "      <td>12178.988</td>\n",
       "      <td>2.153846</td>\n",
       "      <td>4.153846</td>\n",
       "      <td>Dicrurus leucophaeus</td>\n",
       "      <td>Ashy Drongo</td>\n",
       "      <td>Birds</td>\n",
       "      <td>27/07/2019</td>\n",
       "      <td>B09</td>\n",
       "      <td>extr_1670_B09_20190727_060000_All_Day_3h.wav</td>\n",
       "      <td>1556.420</td>\n",
       "    </tr>\n",
       "    <tr>\n",
       "      <th>2</th>\n",
       "      <td>AshDro</td>\n",
       "      <td>extr_1676_B01_20190718_060000_All_Day_3h.txt</td>\n",
       "      <td>AshDro_3</td>\n",
       "      <td>291.829</td>\n",
       "      <td>2295.720</td>\n",
       "      <td>1.361702</td>\n",
       "      <td>3.593381</td>\n",
       "      <td>Dicrurus leucophaeus</td>\n",
       "      <td>Ashy Drongo</td>\n",
       "      <td>Birds</td>\n",
       "      <td>18/07/2019</td>\n",
       "      <td>B01</td>\n",
       "      <td>extr_1676_B01_20190718_060000_All_Day_3h.wav</td>\n",
       "      <td>2003.891</td>\n",
       "    </tr>\n",
       "    <tr>\n",
       "      <th>3</th>\n",
       "      <td>AshDro2</td>\n",
       "      <td>extr_1463_B05_20181212_000009_All_Day.txt</td>\n",
       "      <td>AshDro2_1</td>\n",
       "      <td>5243.020</td>\n",
       "      <td>8965.874</td>\n",
       "      <td>1.732360</td>\n",
       "      <td>2.355231</td>\n",
       "      <td>Dicrurus leucophaeus</td>\n",
       "      <td>Ashy Drongo</td>\n",
       "      <td>Birds</td>\n",
       "      <td>12/12/2018</td>\n",
       "      <td>B05</td>\n",
       "      <td>extr_1463_B05_20181212_000009_All_Day.wav</td>\n",
       "      <td>3722.854</td>\n",
       "    </tr>\n",
       "    <tr>\n",
       "      <th>4</th>\n",
       "      <td>AshDro3</td>\n",
       "      <td>extr_1673_B05_20190729_060000_All_Day_3h.txt</td>\n",
       "      <td>AshDro3_1</td>\n",
       "      <td>5700.389</td>\n",
       "      <td>7821.012</td>\n",
       "      <td>1.734940</td>\n",
       "      <td>5.686747</td>\n",
       "      <td>Dicrurus leucophaeus</td>\n",
       "      <td>Ashy Drongo</td>\n",
       "      <td>Birds</td>\n",
       "      <td>29/07/2019</td>\n",
       "      <td>B05</td>\n",
       "      <td>extr_1673_B05_20190729_060000_All_Day_3h.wav</td>\n",
       "      <td>2120.623</td>\n",
       "    </tr>\n",
       "  </tbody>\n",
       "</table>\n",
       "</div>"
      ],
      "text/plain": [
       "     Label                                          File   Event_ID  \\\n",
       "0   AshDro  extr_1670_B09_20190727_060000_All_Day_3h.txt   AshDro_1   \n",
       "1   AshDro  extr_1670_B09_20190727_060000_All_Day_3h.txt   AshDro_2   \n",
       "2   AshDro  extr_1676_B01_20190718_060000_All_Day_3h.txt   AshDro_3   \n",
       "3  AshDro2     extr_1463_B05_20181212_000009_All_Day.txt  AshDro2_1   \n",
       "4  AshDro3  extr_1673_B05_20190729_060000_All_Day_3h.txt  AshDro3_1   \n",
       "\n",
       "       X_min      X_max     Y_min     Y_max               Species  \\\n",
       "0   3657.588   9824.903  1.788462  4.250000  Dicrurus leucophaeus   \n",
       "1  10622.568  12178.988  2.153846  4.153846  Dicrurus leucophaeus   \n",
       "2    291.829   2295.720  1.361702  3.593381  Dicrurus leucophaeus   \n",
       "3   5243.020   8965.874  1.732360  2.355231  Dicrurus leucophaeus   \n",
       "4   5700.389   7821.012  1.734940  5.686747  Dicrurus leucophaeus   \n",
       "\n",
       "       EngName  Group        Date recID  \\\n",
       "0  Ashy Drongo  Birds  27/07/2019   B09   \n",
       "1  Ashy Drongo  Birds  27/07/2019   B09   \n",
       "2  Ashy Drongo  Birds  18/07/2019   B01   \n",
       "3  Ashy Drongo  Birds  12/12/2018   B05   \n",
       "4  Ashy Drongo  Birds  29/07/2019   B05   \n",
       "\n",
       "                                           wave  duration  \n",
       "0  extr_1670_B09_20190727_060000_All_Day_3h.wav  6167.315  \n",
       "1  extr_1670_B09_20190727_060000_All_Day_3h.wav  1556.420  \n",
       "2  extr_1676_B01_20190718_060000_All_Day_3h.wav  2003.891  \n",
       "3     extr_1463_B05_20181212_000009_All_Day.wav  3722.854  \n",
       "4  extr_1673_B05_20190729_060000_All_Day_3h.wav  2120.623  "
      ]
     },
     "execution_count": 3,
     "metadata": {},
     "output_type": "execute_result"
    }
   ],
   "source": [
    "df = pd.read_csv('../labels_test_CD_20210309.csv');df.head()"
   ]
  },
  {
   "cell_type": "code",
   "execution_count": 4,
   "id": "radio-welding",
   "metadata": {},
   "outputs": [],
   "source": [
    "df['filepath'] = df.wave"
   ]
  },
  {
   "cell_type": "markdown",
   "id": "intermediate-folks",
   "metadata": {},
   "source": [
    "## Load the classes\n",
    "We need to load the classes that the models were trained on, in this case, that is the 51 class model"
   ]
  },
  {
   "cell_type": "code",
   "execution_count": 5,
   "id": "ranking-annual",
   "metadata": {},
   "outputs": [],
   "source": [
    "classes = np.loadtxt('class_birds_51.txt', dtype='str', delimiter='\\n')\n",
    "classes = list(classes)"
   ]
  },
  {
   "cell_type": "markdown",
   "id": "regional-minute",
   "metadata": {},
   "source": [
    "We first preprocess the data, so that it can be used by our dataloaders. \n",
    "\n",
    "This includes adding a recording_id so that it may load the correct audio file, and a species_id if you are evaluating some data. There is also the oppertunity to drop classes that are not in the classes file to test how well it performs on just these classes.  \n",
    "\n",
    "This function below ouputs a a preprocessed CSV file, a prediction and labels file as well. "
   ]
  },
  {
   "cell_type": "code",
   "execution_count": 1,
   "id": "posted-martial",
   "metadata": {},
   "outputs": [],
   "source": [
    "def preprocess(df, classes=[], drop_classes= False, mode='test'):\n",
    "           \n",
    "    #appends a species id\n",
    "    #if the species is not within the classes it is labeled as an unknown#\n",
    "    if mode !='test':\n",
    "        df['species_id'] = [-1 if s not in classes else classes.index(s) for s in df.Species] #change here if you have chosen to use label instead of species. \n",
    "        if drop_classes == True:\n",
    "            df = df[df.Species.isin(classes)] #you need to change this too if you have changed to label\n",
    "    df = df.reset_index(drop=True)\n",
    "    #preprare a output file of the predictions from the model\n",
    "    species_cols = [f'{classes[i]}' for i in range(len(classes))]\n",
    "    cv_preds = pd.DataFrame(columns=species_cols)\n",
    "    cv_preds['filepath'] = df['filepath'].drop_duplicates()\n",
    "    cv_preds.loc[:, species_cols] = 0\n",
    "    cv_preds = cv_preds.reset_index(drop=True)\n",
    "    \n",
    "    if mode == 'test':\n",
    "        return df, cv_preds, species_cols\n",
    "    return df, cv_preds,species_cols, cv_preds.copy()"
   ]
  },
  {
   "cell_type": "markdown",
   "id": "pharmaceutical-heather",
   "metadata": {},
   "source": [
    "## Evaluation loop\n",
    "\n",
    "This is the evaluation loop, that loads the model, creates a dataloader and passes the data to the model. It then processes the predictions from the model, and addits it to a prediction csv, and the appropriate label to the labels csv file. \n"
   ]
  },
  {
   "cell_type": "code",
   "execution_count": 7,
   "id": "native-trustee",
   "metadata": {},
   "outputs": [],
   "source": [
    "def evaluation_loop(paths,species_cols, df, config, cv_preds, labels_df, model, device):\n",
    "\n",
    "    for path in paths:\n",
    "        print(f'loading model {path}')\n",
    "        model.load_state_dict(torch.load(path))\n",
    "        model.eval()\n",
    "        #load the data into dataloaders\n",
    "        dataloader = get_dataloader(df, config=config, mode='val')\n",
    "        tk = tqdm(dataloader, total=len(dataloader))\n",
    "        sub_index = 0\n",
    "        with torch.no_grad():\n",
    "            #we go through all of the data\n",
    "            for i, (im,l) in enumerate(tk):\n",
    "                i=1\n",
    "                #pass it to the cpu or gpu\n",
    "                im = im.to(device)\n",
    "                #predict on the data\n",
    "                for i, x_partial in enumerate(torch.split(im, 1, dim=1)):\n",
    "                    x_partial = x_partial.squeeze(1)\n",
    "                    if i == 0:\n",
    "                        preds = model(x_partial)\n",
    "                    else:\n",
    "                        # take max over predictions\n",
    "                        preds = torch.max(preds, model(x_partial))\n",
    "                    #get the confidence score of each species and add it to the csv file\n",
    "                o = preds.sigmoid().cpu().numpy()\n",
    "                for val, ll in zip(o,l.cpu().numpy()):\n",
    "                    cv_preds.loc[sub_index, species_cols] += val\n",
    "                    labels_df.loc[sub_index, species_cols] = ll\n",
    "                    sub_index += 1\n",
    "    return cv_preds, labels_df"
   ]
  },
  {
   "cell_type": "markdown",
   "id": "sublime-person",
   "metadata": {},
   "source": [
    "## Inference loop\n",
    "This is similar to the above loop, the only difference is that it only passes a predictions csv file back.  \n",
    "This is the loop you would use to predict on data, you don't know what is within the audio files. "
   ]
  },
  {
   "cell_type": "code",
   "execution_count": 8,
   "id": "surprising-uniform",
   "metadata": {},
   "outputs": [],
   "source": [
    "def inference_loop(paths,species_cols, df,config, cv_preds,  model, device):\n",
    "\n",
    "    for path in paths:\n",
    "        print(f'loading model {path}')\n",
    "        model.load_state_dict(torch.load(path))\n",
    "        model.eval()\n",
    "        #load the data into dataloaders\n",
    "        dataloader = get_dataloader(df, config=config, mode='test')\n",
    "\n",
    "        tk = tqdm(dataloader, total=len(dataloader))\n",
    "        sub_index = 0\n",
    "        with torch.no_grad():\n",
    "            #we go through all of the data\n",
    "            for i, im in enumerate(tk):\n",
    "                i=1\n",
    "                #pass it to the cpu or gpu\n",
    "                im = im.to(device)\n",
    "                #predict on the data\n",
    "                for i, x_partial in enumerate(torch.split(im, 1, dim=1)):\n",
    "                    x_partial = x_partial.squeeze(1)\n",
    "                    if i == 0:\n",
    "                        preds = model(x_partial)\n",
    "                    else:\n",
    "                        # take max over predictions\n",
    "                        preds = torch.max(preds, model(x_partial))\n",
    "                    #get the confidence score of each species and add it to the csv file\n",
    "                o = preds.sigmoid().cpu().numpy()\n",
    "                for val in o:\n",
    "                    cv_preds.loc[sub_index, species_cols] += val\n",
    "                    sub_index += 1\n",
    "    return cv_preds"
   ]
  },
  {
   "cell_type": "markdown",
   "id": "hungarian-given",
   "metadata": {},
   "source": [
    "## Config\n",
    "The config controls, the batch size( number of images on the GPU), num_works, the sliding window length, duration and other  parameters that may be changed. It also contains the path to where the models weights reside and the folder that contains the audio files.  "
   ]
  },
  {
   "cell_type": "code",
   "execution_count": 9,
   "id": "falling-detection",
   "metadata": {},
   "outputs": [],
   "source": [
    "class Config:\n",
    "    batch_size = 8 #number of images on the GPU. if you have out of memory issues, reducing  this number may help. \n",
    "    num_workers = 0 #number of threads to use when processing, more means faster but can be unstable on windows. \n",
    "    sliding_window = 2.98 #sliding window length\n",
    "    num_classes = len(classes) #number of classes\n",
    "    sr = 32000 #the samplerate to resample the audio file too\n",
    "    fmin=0\n",
    "    fmax=13000\n",
    "    duration = 2.98 # duration of the frame to look at \n",
    "    total_duration = 14.9 # duration of the audio files\n",
    "    nmels = 128 # number of nmel buckets to use when creating a melspectrogram\n",
    "    data_root = '../test_data_cd' #change this if you wish for it to point to another audio root\n",
    "    model_path = 'models_51' #change this to use other models\n",
    "    mode = 'val'\n",
    "    output_csv = 'output.csv'"
   ]
  },
  {
   "cell_type": "code",
   "execution_count": 10,
   "id": "invalid-planning",
   "metadata": {},
   "outputs": [],
   "source": [
    "def main(df,classes=[], drop_classes=False, config=Config()):\n",
    "    #we preprocess the data\n",
    "    proccessed = preprocess(df, classes=classes, drop_classes=drop_classes, mode = config.mode)\n",
    "    if config.mode =='test':\n",
    "        df, cv_preds, species_cols = proccessed\n",
    "    else:\n",
    "        df, cv_preds, species_cols, labels_df = proccessed\n",
    "    # if there is a GPU we load the audio onto the GPU\n",
    "    device = torch.device(\"cuda\" if torch.cuda.is_available() else \"cpu\")\n",
    "    #we load a model from the models class\n",
    "    #and get the paths of models from the models path\n",
    "    paths = glob(f'{config.model_path}/*.pth')\n",
    "    model = create_model(len(classes))\n",
    "    model.to(device)\n",
    "    if config.mode !='test':\n",
    "        cv_preds, labels_df = evaluation_loop(paths,species_cols, df,config,  cv_preds, labels_df, model, device)\n",
    "    else:\n",
    "        cv_preds = inference_loop(paths,species_cols, df,config,  cv_preds,  model, device)\n",
    "    #divide by length of folds\n",
    "    cv_preds.loc[:, species_cols] /=len(paths)\n",
    "\n",
    "    print(f'Saving predictions to {config.output_csv}')\n",
    "    cv_preds.to_csv(config.output_csv, index=False)\n",
    "    if config.mode=='test':\n",
    "        return cv_preds\n",
    "    #we evaluate the model using LWlRAP and LRAP\n",
    "    preds = cv_preds.loc[:,species_cols].values.astype(np.float32)\n",
    "    preds = torch.from_numpy(preds)\n",
    "\n",
    "    labels = labels_df.loc[:,species_cols].values.astype(np.float32)\n",
    "    labels = torch.from_numpy(labels)\n",
    "\n",
    "    print(f\"Label weighted label ranking average precision: {LWLRAP(preds, labels):.6}\")\n",
    "    preds = preds.numpy()\n",
    "    labels = labels.numpy()\n",
    "    print(f'Label ranking average precision:{label_ranking_average_precision_score(labels, preds):.6}')\n",
    "    return cv_preds, labels_df"
   ]
  },
  {
   "cell_type": "markdown",
   "id": "figured-blowing",
   "metadata": {},
   "source": [
    "This will evaluate on all of the data within the CSV file"
   ]
  },
  {
   "cell_type": "code",
   "execution_count": 11,
   "id": "cubic-evidence",
   "metadata": {},
   "outputs": [
    {
     "name": "stdout",
     "output_type": "stream",
     "text": [
      "loading model models_51\\model_0.pth\n"
     ]
    },
    {
     "data": {
      "application/vnd.jupyter.widget-view+json": {
       "model_id": "61950497e9b24a058fdc94dce03262a6",
       "version_major": 2,
       "version_minor": 0
      },
      "text/plain": [
       "  0%|          | 0/20 [00:00<?, ?it/s]"
      ]
     },
     "metadata": {},
     "output_type": "display_data"
    },
    {
     "name": "stdout",
     "output_type": "stream",
     "text": [
      "loading model models_51\\model_1.pth\n"
     ]
    },
    {
     "data": {
      "application/vnd.jupyter.widget-view+json": {
       "model_id": "b9536ec66eba4aef82b4d33d24bec559",
       "version_major": 2,
       "version_minor": 0
      },
      "text/plain": [
       "  0%|          | 0/20 [00:00<?, ?it/s]"
      ]
     },
     "metadata": {},
     "output_type": "display_data"
    },
    {
     "name": "stdout",
     "output_type": "stream",
     "text": [
      "loading model models_51\\model_2.pth\n"
     ]
    },
    {
     "data": {
      "application/vnd.jupyter.widget-view+json": {
       "model_id": "217dfb6036fb4b1e83a3370036e42952",
       "version_major": 2,
       "version_minor": 0
      },
      "text/plain": [
       "  0%|          | 0/20 [00:00<?, ?it/s]"
      ]
     },
     "metadata": {},
     "output_type": "display_data"
    },
    {
     "name": "stdout",
     "output_type": "stream",
     "text": [
      "loading model models_51\\model_3.pth\n"
     ]
    },
    {
     "data": {
      "application/vnd.jupyter.widget-view+json": {
       "model_id": "0b6bf355bdcd448f8966fa1dced20e83",
       "version_major": 2,
       "version_minor": 0
      },
      "text/plain": [
       "  0%|          | 0/20 [00:00<?, ?it/s]"
      ]
     },
     "metadata": {},
     "output_type": "display_data"
    },
    {
     "name": "stdout",
     "output_type": "stream",
     "text": [
      "loading model models_51\\model_4.pth\n"
     ]
    },
    {
     "data": {
      "application/vnd.jupyter.widget-view+json": {
       "model_id": "2da565ee13c94246a7a69746d3e62aa4",
       "version_major": 2,
       "version_minor": 0
      },
      "text/plain": [
       "  0%|          | 0/20 [00:00<?, ?it/s]"
      ]
     },
     "metadata": {},
     "output_type": "display_data"
    },
    {
     "name": "stdout",
     "output_type": "stream",
     "text": [
      "Saving predictions to output.csv\n",
      "Label weighted label ranking average precision: 0.620193\n",
      "Label ranking average precision:0.624025\n"
     ]
    }
   ],
   "source": [
    "p,l = main(df, classes, drop_classes=False)"
   ]
  },
  {
   "cell_type": "markdown",
   "id": "administrative-grass",
   "metadata": {},
   "source": [
    "This will evaluate on only classes the model has been trained with, and that are within the CSV file"
   ]
  },
  {
   "cell_type": "code",
   "execution_count": 12,
   "id": "proud-irish",
   "metadata": {},
   "outputs": [
    {
     "name": "stdout",
     "output_type": "stream",
     "text": [
      "loading model models_51\\model_0.pth\n"
     ]
    },
    {
     "data": {
      "application/vnd.jupyter.widget-view+json": {
       "model_id": "0a57ccee7ed548b99b68fec4dd0799bf",
       "version_major": 2,
       "version_minor": 0
      },
      "text/plain": [
       "  0%|          | 0/18 [00:00<?, ?it/s]"
      ]
     },
     "metadata": {},
     "output_type": "display_data"
    },
    {
     "name": "stdout",
     "output_type": "stream",
     "text": [
      "loading model models_51\\model_1.pth\n"
     ]
    },
    {
     "data": {
      "application/vnd.jupyter.widget-view+json": {
       "model_id": "4e3879198880427abb2c1098377eb1ef",
       "version_major": 2,
       "version_minor": 0
      },
      "text/plain": [
       "  0%|          | 0/18 [00:00<?, ?it/s]"
      ]
     },
     "metadata": {},
     "output_type": "display_data"
    },
    {
     "name": "stdout",
     "output_type": "stream",
     "text": [
      "loading model models_51\\model_2.pth\n"
     ]
    },
    {
     "data": {
      "application/vnd.jupyter.widget-view+json": {
       "model_id": "70156147d2dd4b69beee2ccdbdab1998",
       "version_major": 2,
       "version_minor": 0
      },
      "text/plain": [
       "  0%|          | 0/18 [00:00<?, ?it/s]"
      ]
     },
     "metadata": {},
     "output_type": "display_data"
    },
    {
     "name": "stdout",
     "output_type": "stream",
     "text": [
      "loading model models_51\\model_3.pth\n"
     ]
    },
    {
     "data": {
      "application/vnd.jupyter.widget-view+json": {
       "model_id": "ce826aae597c4202bfcc760c1778e6a6",
       "version_major": 2,
       "version_minor": 0
      },
      "text/plain": [
       "  0%|          | 0/18 [00:00<?, ?it/s]"
      ]
     },
     "metadata": {},
     "output_type": "display_data"
    },
    {
     "name": "stdout",
     "output_type": "stream",
     "text": [
      "loading model models_51\\model_4.pth\n"
     ]
    },
    {
     "data": {
      "application/vnd.jupyter.widget-view+json": {
       "model_id": "66004ad116784b01befbea2ad4d3a933",
       "version_major": 2,
       "version_minor": 0
      },
      "text/plain": [
       "  0%|          | 0/18 [00:00<?, ?it/s]"
      ]
     },
     "metadata": {},
     "output_type": "display_data"
    },
    {
     "name": "stdout",
     "output_type": "stream",
     "text": [
      "Saving predictions to output.csv\n",
      "Label weighted label ranking average precision: 0.65085\n",
      "Label ranking average precision:0.637668\n"
     ]
    }
   ],
   "source": [
    "p,l = main(df, classes, drop_classes=True)"
   ]
  },
  {
   "cell_type": "code",
   "execution_count": 13,
   "id": "imperial-saturn",
   "metadata": {},
   "outputs": [],
   "source": [
    "#changing the mode of the config file from eval to test\n",
    "config = Config()\n",
    "config.mode='test'"
   ]
  },
  {
   "cell_type": "markdown",
   "id": "nominated-gasoline",
   "metadata": {},
   "source": [
    "This will predict on the audio files that are within the CSV file, it will not evaluate on the CSV file. "
   ]
  },
  {
   "cell_type": "code",
   "execution_count": 14,
   "id": "practical-fitting",
   "metadata": {},
   "outputs": [
    {
     "name": "stdout",
     "output_type": "stream",
     "text": [
      "loading model models_51\\model_0.pth\n"
     ]
    },
    {
     "data": {
      "application/vnd.jupyter.widget-view+json": {
       "model_id": "b03d3522064143dd9b2059c62d2c8dd4",
       "version_major": 2,
       "version_minor": 0
      },
      "text/plain": [
       "  0%|          | 0/20 [00:00<?, ?it/s]"
      ]
     },
     "metadata": {},
     "output_type": "display_data"
    },
    {
     "name": "stdout",
     "output_type": "stream",
     "text": [
      "loading model models_51\\model_1.pth\n"
     ]
    },
    {
     "data": {
      "application/vnd.jupyter.widget-view+json": {
       "model_id": "edd07ccc0b8a45c2b038c6c2d7b1fa53",
       "version_major": 2,
       "version_minor": 0
      },
      "text/plain": [
       "  0%|          | 0/20 [00:00<?, ?it/s]"
      ]
     },
     "metadata": {},
     "output_type": "display_data"
    },
    {
     "name": "stdout",
     "output_type": "stream",
     "text": [
      "loading model models_51\\model_2.pth\n"
     ]
    },
    {
     "data": {
      "application/vnd.jupyter.widget-view+json": {
       "model_id": "d95a0b804e684411bd0dcb0bc15f08fc",
       "version_major": 2,
       "version_minor": 0
      },
      "text/plain": [
       "  0%|          | 0/20 [00:00<?, ?it/s]"
      ]
     },
     "metadata": {},
     "output_type": "display_data"
    },
    {
     "name": "stdout",
     "output_type": "stream",
     "text": [
      "loading model models_51\\model_3.pth\n"
     ]
    },
    {
     "data": {
      "application/vnd.jupyter.widget-view+json": {
       "model_id": "96c0772a169f42fda6c619cff05c0820",
       "version_major": 2,
       "version_minor": 0
      },
      "text/plain": [
       "  0%|          | 0/20 [00:00<?, ?it/s]"
      ]
     },
     "metadata": {},
     "output_type": "display_data"
    },
    {
     "name": "stdout",
     "output_type": "stream",
     "text": [
      "loading model models_51\\model_4.pth\n"
     ]
    },
    {
     "data": {
      "application/vnd.jupyter.widget-view+json": {
       "model_id": "1e67c9d0607943ca9130b0c5710ce3c4",
       "version_major": 2,
       "version_minor": 0
      },
      "text/plain": [
       "  0%|          | 0/20 [00:00<?, ?it/s]"
      ]
     },
     "metadata": {},
     "output_type": "display_data"
    },
    {
     "name": "stdout",
     "output_type": "stream",
     "text": [
      "Saving predictions to output.csv\n"
     ]
    }
   ],
   "source": [
    "p = main(df, classes, drop_classes=False, config=config)"
   ]
  },
  {
   "cell_type": "code",
   "execution_count": 15,
   "id": "comparable-charter",
   "metadata": {},
   "outputs": [],
   "source": [
    "## To predict on images that can't fit in memory"
   ]
  },
  {
   "cell_type": "code",
   "execution_count": 16,
   "id": "collectible-scroll",
   "metadata": {},
   "outputs": [],
   "source": [
    "def prediction_for_clip(clip: np.ndarray, config,  model, device):\n",
    "    \n",
    "    dataloader = get_dataloader_single_clip(clip, config)\n",
    "    preds_ = []\n",
    "    for i, (x) in enumerate(dataloader):\n",
    "        with torch.no_grad():\n",
    "            x = x.to(device)\n",
    "            x = x.float()\n",
    "            preds = model(x)# We do the same as above, but we don't mix the labels up, \n",
    "\n",
    "        preds_.extend(preds.sigmoid().cpu().numpy())\n",
    "\n",
    "    return np.array(preds_).max(axis=0) #return the CSV"
   ]
  },
  {
   "cell_type": "code",
   "execution_count": 17,
   "id": "spread-circus",
   "metadata": {},
   "outputs": [],
   "source": [
    "from collections import defaultdict\n",
    "def prediction(test_df,classes, config, path,): \n",
    "    #framewise predictions for getting the onset and offset of bird calls\n",
    "    #using one model\n",
    "    df, cv_preds, species_cols = preprocess(test_df, classes=classes, drop_classes=False, mode = config.mode)\n",
    "    \n",
    "    model = get_model(path, n_class = len(classes))\n",
    "    device = torch.device(\"cuda\" if torch.cuda.is_available() else \"cpu\")\n",
    "    model.eval()\n",
    "    model.to(device)\n",
    "    sub_idx=0\n",
    "    for filepath in tqdm(cv_preds.filepath): # for the audio files\n",
    "        clip, _ = librosa.load(f'{config.data_root}/{filepath}',sr=None,\n",
    "                               res_type=\"kaiser_fast\") #we load the audio\n",
    "\n",
    "        pred = prediction_for_clip(clip, config,  model, device)\n",
    "\n",
    "        cv_preds.loc[sub_idx,species_cols] = pred\n",
    "        sub_idx+=1\n",
    "    print(f'Saving predictions to {config.output_csv}')\n",
    "    cv_preds.to_csv(config.output_csv, index=False)\n",
    "    return cv_preds"
   ]
  },
  {
   "cell_type": "code",
   "execution_count": 18,
   "id": "funded-emission",
   "metadata": {},
   "outputs": [
    {
     "data": {
      "application/vnd.jupyter.widget-view+json": {
       "model_id": "0b26e547477b4e06961f2fcd5670554e",
       "version_major": 2,
       "version_minor": 0
      },
      "text/plain": [
       "  0%|          | 0/153 [00:00<?, ?it/s]"
      ]
     },
     "metadata": {},
     "output_type": "display_data"
    },
    {
     "name": "stdout",
     "output_type": "stream",
     "text": [
      "Saving predictions to output.csv\n"
     ]
    }
   ],
   "source": [
    "preds = prediction(df, classes, config, glob(f'{config.model_path}/*.pth')[0])"
   ]
  },
  {
   "cell_type": "code",
   "execution_count": 19,
   "id": "static-arrow",
   "metadata": {},
   "outputs": [
    {
     "data": {
      "text/html": [
       "<div>\n",
       "<style scoped>\n",
       "    .dataframe tbody tr th:only-of-type {\n",
       "        vertical-align: middle;\n",
       "    }\n",
       "\n",
       "    .dataframe tbody tr th {\n",
       "        vertical-align: top;\n",
       "    }\n",
       "\n",
       "    .dataframe thead th {\n",
       "        text-align: right;\n",
       "    }\n",
       "</style>\n",
       "<table border=\"1\" class=\"dataframe\">\n",
       "  <thead>\n",
       "    <tr style=\"text-align: right;\">\n",
       "      <th></th>\n",
       "      <th>Tawny-bellied screech-owl</th>\n",
       "      <th>Pygmy owl</th>\n",
       "      <th>Silky-tailed nightjar</th>\n",
       "      <th>Barred owl - variable</th>\n",
       "      <th>Laughing falcon</th>\n",
       "      <th>Little chachalaca</th>\n",
       "      <th>Spectacled owl</th>\n",
       "      <th>Chicken</th>\n",
       "      <th>Grey mourner</th>\n",
       "      <th>White-winged potoo</th>\n",
       "      <th>...</th>\n",
       "      <th>Horornis vulcanius</th>\n",
       "      <th>Psilopogon armillaris</th>\n",
       "      <th>Heleia javanica</th>\n",
       "      <th>Alcippe pyrrhoptera</th>\n",
       "      <th>Psilopogon corvinus</th>\n",
       "      <th>long-tailed potoo</th>\n",
       "      <th>Pteruthius aenobarbus</th>\n",
       "      <th>Ficedula hyperythra</th>\n",
       "      <th>Arborophila javanica</th>\n",
       "      <th>filepath</th>\n",
       "    </tr>\n",
       "  </thead>\n",
       "  <tbody>\n",
       "    <tr>\n",
       "      <th>0</th>\n",
       "      <td>0.008259</td>\n",
       "      <td>0.029858</td>\n",
       "      <td>0.009418</td>\n",
       "      <td>0.008108</td>\n",
       "      <td>0.002204</td>\n",
       "      <td>0.002622</td>\n",
       "      <td>0.004517</td>\n",
       "      <td>0.016741</td>\n",
       "      <td>0.002744</td>\n",
       "      <td>0.002361</td>\n",
       "      <td>...</td>\n",
       "      <td>0.005706</td>\n",
       "      <td>0.005329</td>\n",
       "      <td>0.032830</td>\n",
       "      <td>0.031523</td>\n",
       "      <td>0.008304</td>\n",
       "      <td>0.005790</td>\n",
       "      <td>0.143888</td>\n",
       "      <td>0.015439</td>\n",
       "      <td>0.009301</td>\n",
       "      <td>extr_1670_B09_20190727_060000_All_Day_3h.wav</td>\n",
       "    </tr>\n",
       "    <tr>\n",
       "      <th>1</th>\n",
       "      <td>0.000369</td>\n",
       "      <td>0.016525</td>\n",
       "      <td>0.001364</td>\n",
       "      <td>0.001553</td>\n",
       "      <td>0.000612</td>\n",
       "      <td>0.002166</td>\n",
       "      <td>0.001092</td>\n",
       "      <td>0.000475</td>\n",
       "      <td>0.001020</td>\n",
       "      <td>0.000520</td>\n",
       "      <td>...</td>\n",
       "      <td>0.052136</td>\n",
       "      <td>0.019826</td>\n",
       "      <td>0.292184</td>\n",
       "      <td>0.282649</td>\n",
       "      <td>0.009682</td>\n",
       "      <td>0.000432</td>\n",
       "      <td>0.032428</td>\n",
       "      <td>0.144607</td>\n",
       "      <td>0.019558</td>\n",
       "      <td>extr_1676_B01_20190718_060000_All_Day_3h.wav</td>\n",
       "    </tr>\n",
       "    <tr>\n",
       "      <th>2</th>\n",
       "      <td>0.005511</td>\n",
       "      <td>0.009227</td>\n",
       "      <td>0.004814</td>\n",
       "      <td>0.001872</td>\n",
       "      <td>0.002108</td>\n",
       "      <td>0.006632</td>\n",
       "      <td>0.006717</td>\n",
       "      <td>0.013879</td>\n",
       "      <td>0.003887</td>\n",
       "      <td>0.001219</td>\n",
       "      <td>...</td>\n",
       "      <td>0.001675</td>\n",
       "      <td>0.005838</td>\n",
       "      <td>0.001983</td>\n",
       "      <td>0.029115</td>\n",
       "      <td>0.000848</td>\n",
       "      <td>0.001020</td>\n",
       "      <td>0.012286</td>\n",
       "      <td>0.006302</td>\n",
       "      <td>0.002228</td>\n",
       "      <td>extr_1463_B05_20181212_000009_All_Day.wav</td>\n",
       "    </tr>\n",
       "    <tr>\n",
       "      <th>3</th>\n",
       "      <td>0.003901</td>\n",
       "      <td>0.005864</td>\n",
       "      <td>0.003884</td>\n",
       "      <td>0.007020</td>\n",
       "      <td>0.003759</td>\n",
       "      <td>0.004148</td>\n",
       "      <td>0.033579</td>\n",
       "      <td>0.007160</td>\n",
       "      <td>0.002459</td>\n",
       "      <td>0.005101</td>\n",
       "      <td>...</td>\n",
       "      <td>0.072637</td>\n",
       "      <td>0.010719</td>\n",
       "      <td>0.031941</td>\n",
       "      <td>0.088450</td>\n",
       "      <td>0.010597</td>\n",
       "      <td>0.003352</td>\n",
       "      <td>0.168614</td>\n",
       "      <td>0.012370</td>\n",
       "      <td>0.079762</td>\n",
       "      <td>extr_1673_B05_20190729_060000_All_Day_3h.wav</td>\n",
       "    </tr>\n",
       "    <tr>\n",
       "      <th>4</th>\n",
       "      <td>0.004797</td>\n",
       "      <td>0.010295</td>\n",
       "      <td>0.005602</td>\n",
       "      <td>0.007318</td>\n",
       "      <td>0.003046</td>\n",
       "      <td>0.002011</td>\n",
       "      <td>0.002527</td>\n",
       "      <td>0.005770</td>\n",
       "      <td>0.003906</td>\n",
       "      <td>0.003106</td>\n",
       "      <td>...</td>\n",
       "      <td>0.028021</td>\n",
       "      <td>0.017732</td>\n",
       "      <td>0.132747</td>\n",
       "      <td>0.031087</td>\n",
       "      <td>0.027683</td>\n",
       "      <td>0.003280</td>\n",
       "      <td>0.023212</td>\n",
       "      <td>0.438726</td>\n",
       "      <td>0.022567</td>\n",
       "      <td>extr_2153_B04_20190226_000231_All_Day.wav</td>\n",
       "    </tr>\n",
       "    <tr>\n",
       "      <th>...</th>\n",
       "      <td>...</td>\n",
       "      <td>...</td>\n",
       "      <td>...</td>\n",
       "      <td>...</td>\n",
       "      <td>...</td>\n",
       "      <td>...</td>\n",
       "      <td>...</td>\n",
       "      <td>...</td>\n",
       "      <td>...</td>\n",
       "      <td>...</td>\n",
       "      <td>...</td>\n",
       "      <td>...</td>\n",
       "      <td>...</td>\n",
       "      <td>...</td>\n",
       "      <td>...</td>\n",
       "      <td>...</td>\n",
       "      <td>...</td>\n",
       "      <td>...</td>\n",
       "      <td>...</td>\n",
       "      <td>...</td>\n",
       "      <td>...</td>\n",
       "    </tr>\n",
       "    <tr>\n",
       "      <th>148</th>\n",
       "      <td>0.007061</td>\n",
       "      <td>0.012608</td>\n",
       "      <td>0.004447</td>\n",
       "      <td>0.212155</td>\n",
       "      <td>0.009318</td>\n",
       "      <td>0.001985</td>\n",
       "      <td>0.002980</td>\n",
       "      <td>0.010450</td>\n",
       "      <td>0.009558</td>\n",
       "      <td>0.003434</td>\n",
       "      <td>...</td>\n",
       "      <td>0.166098</td>\n",
       "      <td>0.234202</td>\n",
       "      <td>0.006446</td>\n",
       "      <td>0.016063</td>\n",
       "      <td>0.025584</td>\n",
       "      <td>0.006624</td>\n",
       "      <td>0.009194</td>\n",
       "      <td>0.045231</td>\n",
       "      <td>0.012313</td>\n",
       "      <td>extr_1607_B12_20190726_060014_All_Day_3h.wav</td>\n",
       "    </tr>\n",
       "    <tr>\n",
       "      <th>149</th>\n",
       "      <td>0.010535</td>\n",
       "      <td>0.021525</td>\n",
       "      <td>0.030080</td>\n",
       "      <td>0.031205</td>\n",
       "      <td>0.005755</td>\n",
       "      <td>0.003748</td>\n",
       "      <td>0.011632</td>\n",
       "      <td>0.004574</td>\n",
       "      <td>0.026140</td>\n",
       "      <td>0.016765</td>\n",
       "      <td>...</td>\n",
       "      <td>0.995829</td>\n",
       "      <td>0.015496</td>\n",
       "      <td>0.020828</td>\n",
       "      <td>0.023169</td>\n",
       "      <td>0.012823</td>\n",
       "      <td>0.002989</td>\n",
       "      <td>0.048845</td>\n",
       "      <td>0.024853</td>\n",
       "      <td>0.006212</td>\n",
       "      <td>extr_5014_B06_20181006_064554_All_Day [-7.2658...</td>\n",
       "    </tr>\n",
       "    <tr>\n",
       "      <th>150</th>\n",
       "      <td>0.015084</td>\n",
       "      <td>0.008051</td>\n",
       "      <td>0.007471</td>\n",
       "      <td>0.022827</td>\n",
       "      <td>0.004960</td>\n",
       "      <td>0.004617</td>\n",
       "      <td>0.008907</td>\n",
       "      <td>0.019349</td>\n",
       "      <td>0.027564</td>\n",
       "      <td>0.005640</td>\n",
       "      <td>...</td>\n",
       "      <td>0.132943</td>\n",
       "      <td>0.010238</td>\n",
       "      <td>0.062941</td>\n",
       "      <td>0.050058</td>\n",
       "      <td>0.007866</td>\n",
       "      <td>0.007683</td>\n",
       "      <td>0.052997</td>\n",
       "      <td>0.045417</td>\n",
       "      <td>0.011808</td>\n",
       "      <td>extr_5001_B01_20180925_064600_All_Day [-7.2861...</td>\n",
       "    </tr>\n",
       "    <tr>\n",
       "      <th>151</th>\n",
       "      <td>0.196457</td>\n",
       "      <td>0.008152</td>\n",
       "      <td>0.000743</td>\n",
       "      <td>0.010174</td>\n",
       "      <td>0.001055</td>\n",
       "      <td>0.000259</td>\n",
       "      <td>0.001998</td>\n",
       "      <td>0.044363</td>\n",
       "      <td>0.003152</td>\n",
       "      <td>0.001199</td>\n",
       "      <td>...</td>\n",
       "      <td>0.433292</td>\n",
       "      <td>0.020000</td>\n",
       "      <td>0.077400</td>\n",
       "      <td>0.040497</td>\n",
       "      <td>0.129467</td>\n",
       "      <td>0.001289</td>\n",
       "      <td>0.011987</td>\n",
       "      <td>0.028881</td>\n",
       "      <td>0.001424</td>\n",
       "      <td>extr_5003_B02_20180920_063200_All_Day [-7.2733...</td>\n",
       "    </tr>\n",
       "    <tr>\n",
       "      <th>152</th>\n",
       "      <td>0.000639</td>\n",
       "      <td>0.000087</td>\n",
       "      <td>0.000479</td>\n",
       "      <td>0.002637</td>\n",
       "      <td>0.000349</td>\n",
       "      <td>0.000786</td>\n",
       "      <td>0.000287</td>\n",
       "      <td>0.001490</td>\n",
       "      <td>0.000506</td>\n",
       "      <td>0.000056</td>\n",
       "      <td>...</td>\n",
       "      <td>0.000199</td>\n",
       "      <td>0.012920</td>\n",
       "      <td>0.028407</td>\n",
       "      <td>0.001095</td>\n",
       "      <td>0.000590</td>\n",
       "      <td>0.000166</td>\n",
       "      <td>0.001136</td>\n",
       "      <td>0.001975</td>\n",
       "      <td>0.002910</td>\n",
       "      <td>extr_5007_B01_20180910_064734_All_Day [-7.2963...</td>\n",
       "    </tr>\n",
       "  </tbody>\n",
       "</table>\n",
       "<p>153 rows × 52 columns</p>\n",
       "</div>"
      ],
      "text/plain": [
       "     Tawny-bellied screech-owl  Pygmy owl  Silky-tailed nightjar  \\\n",
       "0                     0.008259   0.029858               0.009418   \n",
       "1                     0.000369   0.016525               0.001364   \n",
       "2                     0.005511   0.009227               0.004814   \n",
       "3                     0.003901   0.005864               0.003884   \n",
       "4                     0.004797   0.010295               0.005602   \n",
       "..                         ...        ...                    ...   \n",
       "148                   0.007061   0.012608               0.004447   \n",
       "149                   0.010535   0.021525               0.030080   \n",
       "150                   0.015084   0.008051               0.007471   \n",
       "151                   0.196457   0.008152               0.000743   \n",
       "152                   0.000639   0.000087               0.000479   \n",
       "\n",
       "     Barred owl - variable  Laughing falcon  Little chachalaca  \\\n",
       "0                 0.008108         0.002204           0.002622   \n",
       "1                 0.001553         0.000612           0.002166   \n",
       "2                 0.001872         0.002108           0.006632   \n",
       "3                 0.007020         0.003759           0.004148   \n",
       "4                 0.007318         0.003046           0.002011   \n",
       "..                     ...              ...                ...   \n",
       "148               0.212155         0.009318           0.001985   \n",
       "149               0.031205         0.005755           0.003748   \n",
       "150               0.022827         0.004960           0.004617   \n",
       "151               0.010174         0.001055           0.000259   \n",
       "152               0.002637         0.000349           0.000786   \n",
       "\n",
       "     Spectacled owl   Chicken  Grey mourner  White-winged potoo  ...  \\\n",
       "0          0.004517  0.016741      0.002744            0.002361  ...   \n",
       "1          0.001092  0.000475      0.001020            0.000520  ...   \n",
       "2          0.006717  0.013879      0.003887            0.001219  ...   \n",
       "3          0.033579  0.007160      0.002459            0.005101  ...   \n",
       "4          0.002527  0.005770      0.003906            0.003106  ...   \n",
       "..              ...       ...           ...                 ...  ...   \n",
       "148        0.002980  0.010450      0.009558            0.003434  ...   \n",
       "149        0.011632  0.004574      0.026140            0.016765  ...   \n",
       "150        0.008907  0.019349      0.027564            0.005640  ...   \n",
       "151        0.001998  0.044363      0.003152            0.001199  ...   \n",
       "152        0.000287  0.001490      0.000506            0.000056  ...   \n",
       "\n",
       "     Horornis vulcanius  Psilopogon armillaris  Heleia javanica  \\\n",
       "0              0.005706               0.005329         0.032830   \n",
       "1              0.052136               0.019826         0.292184   \n",
       "2              0.001675               0.005838         0.001983   \n",
       "3              0.072637               0.010719         0.031941   \n",
       "4              0.028021               0.017732         0.132747   \n",
       "..                  ...                    ...              ...   \n",
       "148            0.166098               0.234202         0.006446   \n",
       "149            0.995829               0.015496         0.020828   \n",
       "150            0.132943               0.010238         0.062941   \n",
       "151            0.433292               0.020000         0.077400   \n",
       "152            0.000199               0.012920         0.028407   \n",
       "\n",
       "     Alcippe pyrrhoptera  Psilopogon corvinus  long-tailed potoo  \\\n",
       "0               0.031523             0.008304           0.005790   \n",
       "1               0.282649             0.009682           0.000432   \n",
       "2               0.029115             0.000848           0.001020   \n",
       "3               0.088450             0.010597           0.003352   \n",
       "4               0.031087             0.027683           0.003280   \n",
       "..                   ...                  ...                ...   \n",
       "148             0.016063             0.025584           0.006624   \n",
       "149             0.023169             0.012823           0.002989   \n",
       "150             0.050058             0.007866           0.007683   \n",
       "151             0.040497             0.129467           0.001289   \n",
       "152             0.001095             0.000590           0.000166   \n",
       "\n",
       "     Pteruthius aenobarbus  Ficedula hyperythra  Arborophila javanica  \\\n",
       "0                 0.143888             0.015439              0.009301   \n",
       "1                 0.032428             0.144607              0.019558   \n",
       "2                 0.012286             0.006302              0.002228   \n",
       "3                 0.168614             0.012370              0.079762   \n",
       "4                 0.023212             0.438726              0.022567   \n",
       "..                     ...                  ...                   ...   \n",
       "148               0.009194             0.045231              0.012313   \n",
       "149               0.048845             0.024853              0.006212   \n",
       "150               0.052997             0.045417              0.011808   \n",
       "151               0.011987             0.028881              0.001424   \n",
       "152               0.001136             0.001975              0.002910   \n",
       "\n",
       "                                              filepath  \n",
       "0         extr_1670_B09_20190727_060000_All_Day_3h.wav  \n",
       "1         extr_1676_B01_20190718_060000_All_Day_3h.wav  \n",
       "2            extr_1463_B05_20181212_000009_All_Day.wav  \n",
       "3         extr_1673_B05_20190729_060000_All_Day_3h.wav  \n",
       "4            extr_2153_B04_20190226_000231_All_Day.wav  \n",
       "..                                                 ...  \n",
       "148       extr_1607_B12_20190726_060014_All_Day_3h.wav  \n",
       "149  extr_5014_B06_20181006_064554_All_Day [-7.2658...  \n",
       "150  extr_5001_B01_20180925_064600_All_Day [-7.2861...  \n",
       "151  extr_5003_B02_20180920_063200_All_Day [-7.2733...  \n",
       "152  extr_5007_B01_20180910_064734_All_Day [-7.2963...  \n",
       "\n",
       "[153 rows x 52 columns]"
      ]
     },
     "execution_count": 19,
     "metadata": {},
     "output_type": "execute_result"
    }
   ],
   "source": [
    "preds"
   ]
  },
  {
   "cell_type": "code",
   "execution_count": null,
   "id": "twenty-certification",
   "metadata": {},
   "outputs": [],
   "source": []
  }
 ],
 "metadata": {
  "kernelspec": {
   "display_name": "Python 3",
   "language": "python",
   "name": "python3"
  },
  "language_info": {
   "codemirror_mode": {
    "name": "ipython",
    "version": 3
   },
   "file_extension": ".py",
   "mimetype": "text/x-python",
   "name": "python",
   "nbconvert_exporter": "python",
   "pygments_lexer": "ipython3",
   "version": "3.7.9"
  }
 },
 "nbformat": 4,
 "nbformat_minor": 5
}
