{
 "cells": [
  {
   "cell_type": "markdown",
   "metadata": {},
   "source": [
    "## Preprocessing the data\n",
    "\n",
    "This notebook will show you how to create a 5 kfold cross validation CSV file, that can be used to train a network to automatically classify bird calls in an audio call. \n",
    "\n",
    "We use pandas, numpy as sklearn to create the file"
   ]
  },
  {
   "cell_type": "code",
   "execution_count": 1,
   "metadata": {},
   "outputs": [],
   "source": [
    "import pandas as pd\n",
    "import numpy as np\n",
    "from sklearn.model_selection import StratifiedKFold"
   ]
  },
  {
   "cell_type": "markdown",
   "metadata": {},
   "source": [
    "We load in a csv file with pandas"
   ]
  },
  {
   "cell_type": "code",
   "execution_count": 2,
   "metadata": {
    "scrolled": false
   },
   "outputs": [
    {
     "data": {
      "text/html": [
       "<div>\n",
       "<style scoped>\n",
       "    .dataframe tbody tr th:only-of-type {\n",
       "        vertical-align: middle;\n",
       "    }\n",
       "\n",
       "    .dataframe tbody tr th {\n",
       "        vertical-align: top;\n",
       "    }\n",
       "\n",
       "    .dataframe thead th {\n",
       "        text-align: right;\n",
       "    }\n",
       "</style>\n",
       "<table border=\"1\" class=\"dataframe\">\n",
       "  <thead>\n",
       "    <tr style=\"text-align: right;\">\n",
       "      <th></th>\n",
       "      <th>Label</th>\n",
       "      <th>File</th>\n",
       "      <th>Event_ID</th>\n",
       "      <th>X_min</th>\n",
       "      <th>X_max</th>\n",
       "      <th>Y_min</th>\n",
       "      <th>Y_max</th>\n",
       "      <th>filepaths</th>\n",
       "      <th>wavepath</th>\n",
       "      <th>Group</th>\n",
       "      <th>Species</th>\n",
       "      <th>duration</th>\n",
       "    </tr>\n",
       "  </thead>\n",
       "  <tbody>\n",
       "    <tr>\n",
       "      <th>0</th>\n",
       "      <td>alobel</td>\n",
       "      <td>20190226_B69T11_2018-06-29_00-12-30.wav</td>\n",
       "      <td>58</td>\n",
       "      <td>7250.45</td>\n",
       "      <td>7285.30</td>\n",
       "      <td>0.302</td>\n",
       "      <td>0.690</td>\n",
       "      <td>Spectros_OM/20190226_B69T11_2018-06-29_00-12-3...</td>\n",
       "      <td>Wavs_OM/20190226_B69T11_2018-06-29_00-12-30.wav</td>\n",
       "      <td>mammal</td>\n",
       "      <td>Howler monkey</td>\n",
       "      <td>34.85</td>\n",
       "    </tr>\n",
       "    <tr>\n",
       "      <th>1</th>\n",
       "      <td>alobel</td>\n",
       "      <td>20190222_B261T8_2018-06-13_03-37-00.wav</td>\n",
       "      <td>137</td>\n",
       "      <td>8954.20</td>\n",
       "      <td>8960.00</td>\n",
       "      <td>1.120</td>\n",
       "      <td>1.248</td>\n",
       "      <td>Spectros_OM/20190222_B261T8_2018-06-13_03-37-0...</td>\n",
       "      <td>Wavs_OM/20190222_B261T8_2018-06-13_03-37-00.wav</td>\n",
       "      <td>mammal</td>\n",
       "      <td>Howler monkey</td>\n",
       "      <td>5.80</td>\n",
       "    </tr>\n",
       "    <tr>\n",
       "      <th>2</th>\n",
       "      <td>alobel</td>\n",
       "      <td>20190226_B69T11_2018-06-29_00-20-30.wav</td>\n",
       "      <td>132</td>\n",
       "      <td>11583.85</td>\n",
       "      <td>11615.80</td>\n",
       "      <td>0.172</td>\n",
       "      <td>0.388</td>\n",
       "      <td>Spectros_OM/20190226_B69T11_2018-06-29_00-20-3...</td>\n",
       "      <td>Wavs_OM/20190226_B69T11_2018-06-29_00-20-30.wav</td>\n",
       "      <td>mammal</td>\n",
       "      <td>Howler monkey</td>\n",
       "      <td>31.95</td>\n",
       "    </tr>\n",
       "    <tr>\n",
       "      <th>3</th>\n",
       "      <td>alobel</td>\n",
       "      <td>20190226_B69T11_2018-06-29_00-22-45.wav</td>\n",
       "      <td>30</td>\n",
       "      <td>1645.70</td>\n",
       "      <td>1706.65</td>\n",
       "      <td>1.336</td>\n",
       "      <td>1.722</td>\n",
       "      <td>Spectros_OM/20190226_B69T11_2018-06-29_00-22-4...</td>\n",
       "      <td>Wavs_OM/20190226_B69T11_2018-06-29_00-22-45.wav</td>\n",
       "      <td>mammal</td>\n",
       "      <td>Howler monkey</td>\n",
       "      <td>60.95</td>\n",
       "    </tr>\n",
       "    <tr>\n",
       "      <th>4</th>\n",
       "      <td>alobel</td>\n",
       "      <td>20190226_B69T11_2018-06-29_00-13-00.wav</td>\n",
       "      <td>37</td>\n",
       "      <td>3462.70</td>\n",
       "      <td>3526.55</td>\n",
       "      <td>0.344</td>\n",
       "      <td>0.776</td>\n",
       "      <td>Spectros_OM/20190226_B69T11_2018-06-29_00-13-0...</td>\n",
       "      <td>Wavs_OM/20190226_B69T11_2018-06-29_00-13-00.wav</td>\n",
       "      <td>mammal</td>\n",
       "      <td>Howler monkey</td>\n",
       "      <td>63.85</td>\n",
       "    </tr>\n",
       "  </tbody>\n",
       "</table>\n",
       "</div>"
      ],
      "text/plain": [
       "    Label                                     File  Event_ID     X_min  \\\n",
       "0  alobel  20190226_B69T11_2018-06-29_00-12-30.wav        58   7250.45   \n",
       "1  alobel  20190222_B261T8_2018-06-13_03-37-00.wav       137   8954.20   \n",
       "2  alobel  20190226_B69T11_2018-06-29_00-20-30.wav       132  11583.85   \n",
       "3  alobel  20190226_B69T11_2018-06-29_00-22-45.wav        30   1645.70   \n",
       "4  alobel  20190226_B69T11_2018-06-29_00-13-00.wav        37   3462.70   \n",
       "\n",
       "      X_max  Y_min  Y_max                                          filepaths  \\\n",
       "0   7285.30  0.302  0.690  Spectros_OM/20190226_B69T11_2018-06-29_00-12-3...   \n",
       "1   8960.00  1.120  1.248  Spectros_OM/20190222_B261T8_2018-06-13_03-37-0...   \n",
       "2  11615.80  0.172  0.388  Spectros_OM/20190226_B69T11_2018-06-29_00-20-3...   \n",
       "3   1706.65  1.336  1.722  Spectros_OM/20190226_B69T11_2018-06-29_00-22-4...   \n",
       "4   3526.55  0.344  0.776  Spectros_OM/20190226_B69T11_2018-06-29_00-13-0...   \n",
       "\n",
       "                                          wavepath   Group        Species  \\\n",
       "0  Wavs_OM/20190226_B69T11_2018-06-29_00-12-30.wav  mammal  Howler monkey   \n",
       "1  Wavs_OM/20190222_B261T8_2018-06-13_03-37-00.wav  mammal  Howler monkey   \n",
       "2  Wavs_OM/20190226_B69T11_2018-06-29_00-20-30.wav  mammal  Howler monkey   \n",
       "3  Wavs_OM/20190226_B69T11_2018-06-29_00-22-45.wav  mammal  Howler monkey   \n",
       "4  Wavs_OM/20190226_B69T11_2018-06-29_00-13-00.wav  mammal  Howler monkey   \n",
       "\n",
       "   duration  \n",
       "0     34.85  \n",
       "1      5.80  \n",
       "2     31.95  \n",
       "3     60.95  \n",
       "4     63.85  "
      ]
     },
     "execution_count": 2,
     "metadata": {},
     "output_type": "execute_result"
    }
   ],
   "source": [
    "df = pd.read_csv('../labels_OM_david.csv')\n",
    "df.head()"
   ]
  },
  {
   "cell_type": "markdown",
   "metadata": {},
   "source": [
    "We put this into a form that can be used by our network changing the x_min,x_max to seconds and the frequecy to hz."
   ]
  },
  {
   "cell_type": "code",
   "execution_count": 3,
   "metadata": {
    "scrolled": true
   },
   "outputs": [
    {
     "data": {
      "text/html": [
       "<div>\n",
       "<style scoped>\n",
       "    .dataframe tbody tr th:only-of-type {\n",
       "        vertical-align: middle;\n",
       "    }\n",
       "\n",
       "    .dataframe tbody tr th {\n",
       "        vertical-align: top;\n",
       "    }\n",
       "\n",
       "    .dataframe thead th {\n",
       "        text-align: right;\n",
       "    }\n",
       "</style>\n",
       "<table border=\"1\" class=\"dataframe\">\n",
       "  <thead>\n",
       "    <tr style=\"text-align: right;\">\n",
       "      <th></th>\n",
       "      <th>Label</th>\n",
       "      <th>File</th>\n",
       "      <th>Event_ID</th>\n",
       "      <th>X_min</th>\n",
       "      <th>X_max</th>\n",
       "      <th>Y_min</th>\n",
       "      <th>Y_max</th>\n",
       "      <th>filepaths</th>\n",
       "      <th>wavepath</th>\n",
       "      <th>Group</th>\n",
       "      <th>Species</th>\n",
       "      <th>duration</th>\n",
       "    </tr>\n",
       "  </thead>\n",
       "  <tbody>\n",
       "    <tr>\n",
       "      <th>0</th>\n",
       "      <td>alobel</td>\n",
       "      <td>20190226_B69T11_2018-06-29_00-12-30.wav</td>\n",
       "      <td>58</td>\n",
       "      <td>7.25045</td>\n",
       "      <td>7.28530</td>\n",
       "      <td>302.0</td>\n",
       "      <td>690.0</td>\n",
       "      <td>Spectros_OM/20190226_B69T11_2018-06-29_00-12-3...</td>\n",
       "      <td>Wavs_OM/20190226_B69T11_2018-06-29_00-12-30.wav</td>\n",
       "      <td>mammal</td>\n",
       "      <td>Howler monkey</td>\n",
       "      <td>34.85</td>\n",
       "    </tr>\n",
       "    <tr>\n",
       "      <th>1</th>\n",
       "      <td>alobel</td>\n",
       "      <td>20190222_B261T8_2018-06-13_03-37-00.wav</td>\n",
       "      <td>137</td>\n",
       "      <td>8.95420</td>\n",
       "      <td>8.96000</td>\n",
       "      <td>1120.0</td>\n",
       "      <td>1248.0</td>\n",
       "      <td>Spectros_OM/20190222_B261T8_2018-06-13_03-37-0...</td>\n",
       "      <td>Wavs_OM/20190222_B261T8_2018-06-13_03-37-00.wav</td>\n",
       "      <td>mammal</td>\n",
       "      <td>Howler monkey</td>\n",
       "      <td>5.80</td>\n",
       "    </tr>\n",
       "    <tr>\n",
       "      <th>2</th>\n",
       "      <td>alobel</td>\n",
       "      <td>20190226_B69T11_2018-06-29_00-20-30.wav</td>\n",
       "      <td>132</td>\n",
       "      <td>11.58385</td>\n",
       "      <td>11.61580</td>\n",
       "      <td>172.0</td>\n",
       "      <td>388.0</td>\n",
       "      <td>Spectros_OM/20190226_B69T11_2018-06-29_00-20-3...</td>\n",
       "      <td>Wavs_OM/20190226_B69T11_2018-06-29_00-20-30.wav</td>\n",
       "      <td>mammal</td>\n",
       "      <td>Howler monkey</td>\n",
       "      <td>31.95</td>\n",
       "    </tr>\n",
       "    <tr>\n",
       "      <th>3</th>\n",
       "      <td>alobel</td>\n",
       "      <td>20190226_B69T11_2018-06-29_00-22-45.wav</td>\n",
       "      <td>30</td>\n",
       "      <td>1.64570</td>\n",
       "      <td>1.70665</td>\n",
       "      <td>1336.0</td>\n",
       "      <td>1722.0</td>\n",
       "      <td>Spectros_OM/20190226_B69T11_2018-06-29_00-22-4...</td>\n",
       "      <td>Wavs_OM/20190226_B69T11_2018-06-29_00-22-45.wav</td>\n",
       "      <td>mammal</td>\n",
       "      <td>Howler monkey</td>\n",
       "      <td>60.95</td>\n",
       "    </tr>\n",
       "    <tr>\n",
       "      <th>4</th>\n",
       "      <td>alobel</td>\n",
       "      <td>20190226_B69T11_2018-06-29_00-13-00.wav</td>\n",
       "      <td>37</td>\n",
       "      <td>3.46270</td>\n",
       "      <td>3.52655</td>\n",
       "      <td>344.0</td>\n",
       "      <td>776.0</td>\n",
       "      <td>Spectros_OM/20190226_B69T11_2018-06-29_00-13-0...</td>\n",
       "      <td>Wavs_OM/20190226_B69T11_2018-06-29_00-13-00.wav</td>\n",
       "      <td>mammal</td>\n",
       "      <td>Howler monkey</td>\n",
       "      <td>63.85</td>\n",
       "    </tr>\n",
       "  </tbody>\n",
       "</table>\n",
       "</div>"
      ],
      "text/plain": [
       "    Label                                     File  Event_ID     X_min  \\\n",
       "0  alobel  20190226_B69T11_2018-06-29_00-12-30.wav        58   7.25045   \n",
       "1  alobel  20190222_B261T8_2018-06-13_03-37-00.wav       137   8.95420   \n",
       "2  alobel  20190226_B69T11_2018-06-29_00-20-30.wav       132  11.58385   \n",
       "3  alobel  20190226_B69T11_2018-06-29_00-22-45.wav        30   1.64570   \n",
       "4  alobel  20190226_B69T11_2018-06-29_00-13-00.wav        37   3.46270   \n",
       "\n",
       "      X_max   Y_min   Y_max  \\\n",
       "0   7.28530   302.0   690.0   \n",
       "1   8.96000  1120.0  1248.0   \n",
       "2  11.61580   172.0   388.0   \n",
       "3   1.70665  1336.0  1722.0   \n",
       "4   3.52655   344.0   776.0   \n",
       "\n",
       "                                           filepaths  \\\n",
       "0  Spectros_OM/20190226_B69T11_2018-06-29_00-12-3...   \n",
       "1  Spectros_OM/20190222_B261T8_2018-06-13_03-37-0...   \n",
       "2  Spectros_OM/20190226_B69T11_2018-06-29_00-20-3...   \n",
       "3  Spectros_OM/20190226_B69T11_2018-06-29_00-22-4...   \n",
       "4  Spectros_OM/20190226_B69T11_2018-06-29_00-13-0...   \n",
       "\n",
       "                                          wavepath   Group        Species  \\\n",
       "0  Wavs_OM/20190226_B69T11_2018-06-29_00-12-30.wav  mammal  Howler monkey   \n",
       "1  Wavs_OM/20190222_B261T8_2018-06-13_03-37-00.wav  mammal  Howler monkey   \n",
       "2  Wavs_OM/20190226_B69T11_2018-06-29_00-20-30.wav  mammal  Howler monkey   \n",
       "3  Wavs_OM/20190226_B69T11_2018-06-29_00-22-45.wav  mammal  Howler monkey   \n",
       "4  Wavs_OM/20190226_B69T11_2018-06-29_00-13-00.wav  mammal  Howler monkey   \n",
       "\n",
       "   duration  \n",
       "0     34.85  \n",
       "1      5.80  \n",
       "2     31.95  \n",
       "3     60.95  \n",
       "4     63.85  "
      ]
     },
     "execution_count": 3,
     "metadata": {},
     "output_type": "execute_result"
    }
   ],
   "source": [
    "df.X_min /=1000\n",
    "df.X_max /=1000\n",
    "df.Y_min *=1000\n",
    "df.Y_max *=1000\n",
    "df.head()"
   ]
  },
  {
   "cell_type": "markdown",
   "metadata": {},
   "source": [
    "We can use pandas to check the number of items we have per a particular column, and identify the unique number of classes of that column. \n",
    "Here is an example of the Label column"
   ]
  },
  {
   "cell_type": "code",
   "execution_count": 4,
   "metadata": {
    "scrolled": true
   },
   "outputs": [
    {
     "data": {
      "text/plain": [
       "(alobel           7387\n",
       " cicada           7028\n",
       " NO               6856\n",
       " megwat_social    5177\n",
       " leppen           3845\n",
       "                  ... \n",
       " mam5                2\n",
       " mam11               2\n",
       " sf30                1\n",
       " phyvai              1\n",
       " bird13              1\n",
       " Name: Label, Length: 146, dtype: int64,\n",
       " 146)"
      ]
     },
     "execution_count": 4,
     "metadata": {},
     "output_type": "execute_result"
    }
   ],
   "source": [
    "df.Label.value_counts(), df.Label.nunique()"
   ]
  },
  {
   "cell_type": "markdown",
   "metadata": {},
   "source": [
    "We can remove labels using pandas if they are below a certain count. \n",
    "Here we will remove Labels that have less than 5 entries in the CSV file"
   ]
  },
  {
   "cell_type": "code",
   "execution_count": 5,
   "metadata": {},
   "outputs": [],
   "source": [
    "df = df.groupby(\"Label\").filter(lambda x: len(x)>10)"
   ]
  },
  {
   "cell_type": "code",
   "execution_count": 6,
   "metadata": {
    "scrolled": true
   },
   "outputs": [
    {
     "data": {
      "text/plain": [
       "(alobel           7387\n",
       " cicada           7028\n",
       " NO               6856\n",
       " megwat_social    5177\n",
       " leppen           3845\n",
       "                  ... \n",
       " adesp              14\n",
       " bird6              14\n",
       " nycaet_call        12\n",
       " bird11             11\n",
       " bird24             11\n",
       " Name: Label, Length: 120, dtype: int64,\n",
       " 120)"
      ]
     },
     "execution_count": 6,
     "metadata": {},
     "output_type": "execute_result"
    }
   ],
   "source": [
    "df.Label.value_counts(), df.Label.nunique()"
   ]
  },
  {
   "cell_type": "markdown",
   "metadata": {},
   "source": [
    "## Deciding on species\n",
    "\n",
    "We can also filter by the type of animal and bird callwithin the file"
   ]
  },
  {
   "cell_type": "code",
   "execution_count": 7,
   "metadata": {
    "scrolled": true
   },
   "outputs": [
    {
     "data": {
      "text/plain": [
       "bird           27190\n",
       "no-call        14009\n",
       "frog           12675\n",
       "mammal         11981\n",
       "insect         11426\n",
       "frog/insect     3444\n",
       "noise           1351\n",
       "reptile         1272\n",
       "Mammal           768\n",
       "?                354\n",
       "Name: Group, dtype: int64"
      ]
     },
     "execution_count": 7,
     "metadata": {},
     "output_type": "execute_result"
    }
   ],
   "source": [
    "df.Group.value_counts()"
   ]
  },
  {
   "cell_type": "code",
   "execution_count": 8,
   "metadata": {},
   "outputs": [
    {
     "data": {
      "text/plain": [
       "44"
      ]
     },
     "execution_count": 8,
     "metadata": {},
     "output_type": "execute_result"
    }
   ],
   "source": [
    "df = df[df.Group.isin(['bird'])]; df.Label.nunique()"
   ]
  },
  {
   "cell_type": "markdown",
   "metadata": {},
   "source": [
    "We need to save a list of the classes so that when we come to evaluate the a test set or predict on an audio file, we know which class is represneted by the position in the final prediction vector"
   ]
  },
  {
   "cell_type": "code",
   "execution_count": 9,
   "metadata": {},
   "outputs": [
    {
     "data": {
      "text/plain": [
       "array(['antser', 'cff', 'crysou', 'cryvar', 'cryvar_call2',\n",
       "       'glahar_social', 'hercac', 'hercac_call', 'lopcri_social',\n",
       "       'lursem_social', 'megcho', 'megcho3', 'megwat_social', 'nightsp',\n",
       "       'nycaet_cic', 'nycalb', 'nycalb2', 'nycgra_social', 'nycgri',\n",
       "       'nycleu', 'nycoce', 'odoguj', 'odoguj_call', 'ortmot', 'owl6',\n",
       "       'pulper_social', 'rhysim_alarm', 'rhysim_call', 'rhysim_social',\n",
       "       'rooster', 'strhuh_call2', 'strhuh_small', 'strhuh_social',\n",
       "       'tintao_song', 'wd', 'wd2', 'tingut_social', 'nycgra_call',\n",
       "       'bird3', 'nycaet_call', 'strhuh_call', 'megwat_alarm', 'pipcuj',\n",
       "       'nycaet_song'], dtype=object)"
      ]
     },
     "execution_count": 9,
     "metadata": {},
     "output_type": "execute_result"
    }
   ],
   "source": [
    "classes = df.Label.unique(); classes"
   ]
  },
  {
   "cell_type": "code",
   "execution_count": 10,
   "metadata": {},
   "outputs": [],
   "source": [
    "np.savetxt('classes.txt',classes, fmt='%s') #this save it as a string array"
   ]
  },
  {
   "cell_type": "code",
   "execution_count": 11,
   "metadata": {},
   "outputs": [],
   "source": [
    "classes = list(np.loadtxt('classes.txt', delimiter='\\n', dtype=str))"
   ]
  },
  {
   "cell_type": "code",
   "execution_count": 12,
   "metadata": {},
   "outputs": [
    {
     "data": {
      "text/plain": [
       "['antser',\n",
       " 'cff',\n",
       " 'crysou',\n",
       " 'cryvar',\n",
       " 'cryvar_call2',\n",
       " 'glahar_social',\n",
       " 'hercac',\n",
       " 'hercac_call',\n",
       " 'lopcri_social',\n",
       " 'lursem_social',\n",
       " 'megcho',\n",
       " 'megcho3',\n",
       " 'megwat_social',\n",
       " 'nightsp',\n",
       " 'nycaet_cic',\n",
       " 'nycalb',\n",
       " 'nycalb2',\n",
       " 'nycgra_social',\n",
       " 'nycgri',\n",
       " 'nycleu',\n",
       " 'nycoce',\n",
       " 'odoguj',\n",
       " 'odoguj_call',\n",
       " 'ortmot',\n",
       " 'owl6',\n",
       " 'pulper_social',\n",
       " 'rhysim_alarm',\n",
       " 'rhysim_call',\n",
       " 'rhysim_social',\n",
       " 'rooster',\n",
       " 'strhuh_call2',\n",
       " 'strhuh_small',\n",
       " 'strhuh_social',\n",
       " 'tintao_song',\n",
       " 'wd',\n",
       " 'wd2',\n",
       " 'tingut_social',\n",
       " 'nycgra_call',\n",
       " 'bird3',\n",
       " 'nycaet_call',\n",
       " 'strhuh_call',\n",
       " 'megwat_alarm',\n",
       " 'pipcuj',\n",
       " 'nycaet_song']"
      ]
     },
     "execution_count": 12,
     "metadata": {},
     "output_type": "execute_result"
    }
   ],
   "source": [
    "classes"
   ]
  },
  {
   "cell_type": "markdown",
   "metadata": {},
   "source": [
    "We can now add a recording_id of the audio file, and a species id to the CSV file as well using list comprehensions in python.\n",
    "The filepath is used to load audio files, the species id is the class that has been converted to a number. "
   ]
  },
  {
   "cell_type": "code",
   "execution_count": 13,
   "metadata": {},
   "outputs": [],
   "source": [
    "df['species_id'] = [classes.index(l) for l in df.Label] #we are adding the id for the classes we are training on."
   ]
  },
  {
   "cell_type": "code",
   "execution_count": 14,
   "metadata": {},
   "outputs": [],
   "source": [
    "df['filepath'] =[f'Wavs_OM/{f}'for f in df.File]"
   ]
  },
  {
   "cell_type": "markdown",
   "metadata": {},
   "source": [
    "We also filter the rows of the CSV file, to make sure we do not have any birdcalls that have a duration of 0 seconds. \n",
    "This can be changed to filter out other thresholds such as below 30 ms"
   ]
  },
  {
   "cell_type": "code",
   "execution_count": 15,
   "metadata": {},
   "outputs": [],
   "source": [
    "df['t_diff'] = df['X_max'] - df['X_min']; len(df)\n",
    "df = df[df.t_diff != 0.0];"
   ]
  },
  {
   "cell_type": "markdown",
   "metadata": {},
   "source": [
    "We can also filter audio files that are less than the total duration, or possibly could cause issues with training, such as not having an exact length or has the wrong sample rate"
   ]
  },
  {
   "cell_type": "code",
   "execution_count": 16,
   "metadata": {},
   "outputs": [
    {
     "ename": "ModuleNotFoundError",
     "evalue": "No module named 'librosa'",
     "output_type": "error",
     "traceback": [
      "\u001b[1;31m---------------------------------------------------------------------------\u001b[0m",
      "\u001b[1;31mModuleNotFoundError\u001b[0m                       Traceback (most recent call last)",
      "\u001b[1;32m<ipython-input-16-989066361697>\u001b[0m in \u001b[0;36m<module>\u001b[1;34m\u001b[0m\n\u001b[1;32m----> 1\u001b[1;33m \u001b[1;32mimport\u001b[0m \u001b[0mlibrosa\u001b[0m\u001b[1;33m\u001b[0m\u001b[1;33m\u001b[0m\u001b[0m\n\u001b[0m",
      "\u001b[1;31mModuleNotFoundError\u001b[0m: No module named 'librosa'"
     ]
    }
   ],
   "source": [
    "import librosa"
   ]
  },
  {
   "cell_type": "code",
   "execution_count": null,
   "metadata": {
    "scrolled": true
   },
   "outputs": [],
   "source": [
    "fns=[]\n",
    "for i, fn in enumerate(df.filepath.unique()):\n",
    "    if i%100==0:\n",
    "        print(i)\n",
    "    y,sr = librosa.load(f'../{fn}',sr=None)\n",
    "    if sr!=44100:\n",
    "        fns.append(fn)\n",
    "    if librosa.get_duration(y,sr=sr) < 14.9:\n",
    "        fns.append(fn)"
   ]
  },
  {
   "cell_type": "code",
   "execution_count": null,
   "metadata": {},
   "outputs": [],
   "source": [
    "len(fns), df.filepath.nunique()"
   ]
  },
  {
   "cell_type": "code",
   "execution_count": 17,
   "metadata": {},
   "outputs": [
    {
     "ename": "NameError",
     "evalue": "name 'fns' is not defined",
     "output_type": "error",
     "traceback": [
      "\u001b[1;31m---------------------------------------------------------------------------\u001b[0m",
      "\u001b[1;31mNameError\u001b[0m                                 Traceback (most recent call last)",
      "\u001b[1;32m<ipython-input-17-e73e250f36e0>\u001b[0m in \u001b[0;36m<module>\u001b[1;34m\u001b[0m\n\u001b[1;32m----> 1\u001b[1;33m \u001b[0mdf\u001b[0m \u001b[1;33m=\u001b[0m\u001b[0mdf\u001b[0m\u001b[1;33m[\u001b[0m\u001b[1;33m~\u001b[0m\u001b[0mdf\u001b[0m\u001b[1;33m.\u001b[0m\u001b[0mfilepath\u001b[0m\u001b[1;33m.\u001b[0m\u001b[0misin\u001b[0m\u001b[1;33m(\u001b[0m\u001b[0mfns\u001b[0m\u001b[1;33m)\u001b[0m\u001b[1;33m]\u001b[0m\u001b[1;33m;\u001b[0m\u001b[1;33m\u001b[0m\u001b[1;33m\u001b[0m\u001b[0m\n\u001b[0m",
      "\u001b[1;31mNameError\u001b[0m: name 'fns' is not defined"
     ]
    }
   ],
   "source": [
    "df =df[~df.filepath.isin(fns)];"
   ]
  },
  {
   "cell_type": "markdown",
   "metadata": {},
   "source": [
    "We also need to filter out samples where the X_max maybe be above the time we are looking for. "
   ]
  },
  {
   "cell_type": "code",
   "execution_count": 37,
   "metadata": {},
   "outputs": [],
   "source": [
    "df = df[df.X_max > 14.9];"
   ]
  },
  {
   "cell_type": "markdown",
   "metadata": {},
   "source": [
    "We Now create the kfolds and store them within the CSV file"
   ]
  },
  {
   "cell_type": "code",
   "execution_count": 41,
   "metadata": {},
   "outputs": [
    {
     "data": {
      "text/plain": [
       "342"
      ]
     },
     "execution_count": 41,
     "metadata": {},
     "output_type": "execute_result"
    }
   ],
   "source": [
    "len(df)"
   ]
  },
  {
   "cell_type": "code",
   "execution_count": 38,
   "metadata": {},
   "outputs": [
    {
     "name": "stdout",
     "output_type": "stream",
     "text": [
      "4    74\n",
      "1    70\n",
      "2    67\n",
      "3    66\n",
      "0    65\n",
      "Name: kfold, dtype: int64\n"
     ]
    },
    {
     "name": "stderr",
     "output_type": "stream",
     "text": [
      "D:\\ProgramFiles\\anaconda3\\envs\\pytorch\\lib\\site-packages\\sklearn\\model_selection\\_split.py:668: UserWarning: The least populated class in y has only 1 members, which is less than n_splits=5.\n",
      "  % (min_groups, self.n_splits)), UserWarning)\n"
     ]
    }
   ],
   "source": [
    "FOLDS = 5 # Number of folds, this can be changed \n",
    "SEED = 42 # The setting the random seed, so that the same set of data will be generated again. \n",
    "\n",
    "# We use unique recording ids with their species ids to create a CSV so that all recording ids are within the same\n",
    "# fold\n",
    "train_gby = df.groupby(\"filepath\")[[\"species_id\"]].first().reset_index()\n",
    "train_gby = train_gby.sample(frac=1, random_state=SEED).reset_index(drop=True)\n",
    "train_gby.loc[:, 'kfold'] = -1\n",
    "\n",
    "X = train_gby[\"filepath\"].values\n",
    "y = train_gby[\"species_id\"].values\n",
    "\n",
    "kfold = StratifiedKFold(n_splits=FOLDS)\n",
    "for fold, (t_idx, v_idx) in enumerate(kfold.split(X, y)):\n",
    "    train_gby.loc[v_idx, \"kfold\"] = fold\n",
    "\n",
    "train = df.merge(train_gby[['filepath', 'kfold']], on=\"filepath\", how=\"left\")\n",
    "print(train.kfold.value_counts())\n",
    "train.to_csv(\"train_folds.csv\", index=False)"
   ]
  },
  {
   "cell_type": "markdown",
   "metadata": {},
   "source": [
    "the CSV file has been  saved out as train_folds.csv.\n",
    "\n",
    "The above warning means that the one of the classes only appears within one of the kfolds, and doesn't appear in another. "
   ]
  },
  {
   "cell_type": "markdown",
   "metadata": {},
   "source": [
    "### Fin"
   ]
  },
  {
   "cell_type": "code",
   "execution_count": 40,
   "metadata": {},
   "outputs": [
    {
     "data": {
      "text/plain": [
       "342"
      ]
     },
     "execution_count": 40,
     "metadata": {},
     "output_type": "execute_result"
    }
   ],
   "source": [
    "len(train)"
   ]
  },
  {
   "cell_type": "code",
   "execution_count": null,
   "metadata": {},
   "outputs": [],
   "source": []
  }
 ],
 "metadata": {
  "kernelspec": {
   "display_name": "Python 3",
   "language": "python",
   "name": "python3"
  },
  "language_info": {
   "codemirror_mode": {
    "name": "ipython",
    "version": 3
   },
   "file_extension": ".py",
   "mimetype": "text/x-python",
   "name": "python",
   "nbconvert_exporter": "python",
   "pygments_lexer": "ipython3",
   "version": "3.8.5"
  }
 },
 "nbformat": 4,
 "nbformat_minor": 4
}
