{
 "cells": [
  {
   "cell_type": "markdown",
   "metadata": {},
   "source": [
    "## Preprocessing the data\n",
    "\n",
    "This notebook will show you how to create a 5 kfold cross validation CSV file, that can be used to train a network to automatically classify bird calls in an audio call. \n",
    "\n",
    "We use pandas, numpy as sklearn to create the file"
   ]
  },
  {
   "cell_type": "code",
   "execution_count": 15,
   "metadata": {},
   "outputs": [],
   "source": [
    "import pandas as pd\n",
    "import numpy as np\n",
    "from sklearn.model_selection import StratifiedKFold"
   ]
  },
  {
   "cell_type": "markdown",
   "metadata": {},
   "source": [
    "We load in a csv file with pandas"
   ]
  },
  {
   "cell_type": "code",
   "execution_count": 16,
   "metadata": {
    "scrolled": false
   },
   "outputs": [
    {
     "data": {
      "text/html": [
       "<div>\n",
       "<style scoped>\n",
       "    .dataframe tbody tr th:only-of-type {\n",
       "        vertical-align: middle;\n",
       "    }\n",
       "\n",
       "    .dataframe tbody tr th {\n",
       "        vertical-align: top;\n",
       "    }\n",
       "\n",
       "    .dataframe thead th {\n",
       "        text-align: right;\n",
       "    }\n",
       "</style>\n",
       "<table border=\"1\" class=\"dataframe\">\n",
       "  <thead>\n",
       "    <tr style=\"text-align: right;\">\n",
       "      <th></th>\n",
       "      <th>Label</th>\n",
       "      <th>File</th>\n",
       "      <th>Event_ID</th>\n",
       "      <th>X_min</th>\n",
       "      <th>X_max</th>\n",
       "      <th>Y_min</th>\n",
       "      <th>Y_max</th>\n",
       "      <th>Species</th>\n",
       "      <th>EngName</th>\n",
       "      <th>Group</th>\n",
       "      <th>Date</th>\n",
       "      <th>recID</th>\n",
       "      <th>wave</th>\n",
       "      <th>duration</th>\n",
       "    </tr>\n",
       "  </thead>\n",
       "  <tbody>\n",
       "    <tr>\n",
       "      <th>0</th>\n",
       "      <td>AshDro</td>\n",
       "      <td>extr_0117_pt1_B08_20190525_060000_All_Day_3h.txt</td>\n",
       "      <td>AshDro_1</td>\n",
       "      <td>2256.809</td>\n",
       "      <td>3151.751</td>\n",
       "      <td>2.422658</td>\n",
       "      <td>3.538126</td>\n",
       "      <td>Dicrurus leucophaeus</td>\n",
       "      <td>Ashy Drongo</td>\n",
       "      <td>Birds</td>\n",
       "      <td>25/05/2019</td>\n",
       "      <td>B08</td>\n",
       "      <td>extr_0117_pt1_B08_20190525_060000_All_Day_3h.wav</td>\n",
       "      <td>894.942</td>\n",
       "    </tr>\n",
       "    <tr>\n",
       "      <th>1</th>\n",
       "      <td>AshDro</td>\n",
       "      <td>extr_0195_pt1_B03_20190410_060000_All_Day_3h.txt</td>\n",
       "      <td>AshDro_2</td>\n",
       "      <td>4970.817</td>\n",
       "      <td>5963.035</td>\n",
       "      <td>2.232967</td>\n",
       "      <td>3.621978</td>\n",
       "      <td>Dicrurus leucophaeus</td>\n",
       "      <td>Ashy Drongo</td>\n",
       "      <td>Birds</td>\n",
       "      <td>10/04/2019</td>\n",
       "      <td>B03</td>\n",
       "      <td>extr_0195_pt1_B03_20190410_060000_All_Day_3h.wav</td>\n",
       "      <td>992.218</td>\n",
       "    </tr>\n",
       "    <tr>\n",
       "      <th>2</th>\n",
       "      <td>AshDro</td>\n",
       "      <td>extr_0043_pt2_B10_20190903_060000_All_Day_3h.txt</td>\n",
       "      <td>AshDro_3</td>\n",
       "      <td>9394.572</td>\n",
       "      <td>10615.866</td>\n",
       "      <td>2.133333</td>\n",
       "      <td>3.183333</td>\n",
       "      <td>Dicrurus leucophaeus</td>\n",
       "      <td>Ashy Drongo</td>\n",
       "      <td>Birds</td>\n",
       "      <td>03/09/2019</td>\n",
       "      <td>B10</td>\n",
       "      <td>extr_0043_pt2_B10_20190903_060000_All_Day_3h.wav</td>\n",
       "      <td>1221.294</td>\n",
       "    </tr>\n",
       "    <tr>\n",
       "      <th>3</th>\n",
       "      <td>AshDro</td>\n",
       "      <td>extr_1185_B02_20191002_060013_All_Day_3h.txt</td>\n",
       "      <td>AshDro_4</td>\n",
       "      <td>1481.481</td>\n",
       "      <td>3379.630</td>\n",
       "      <td>1.634409</td>\n",
       "      <td>3.561290</td>\n",
       "      <td>Dicrurus leucophaeus</td>\n",
       "      <td>Ashy Drongo</td>\n",
       "      <td>Birds</td>\n",
       "      <td>02/10/2019</td>\n",
       "      <td>B02</td>\n",
       "      <td>extr_1185_B02_20191002_060013_All_Day_3h.wav</td>\n",
       "      <td>1898.149</td>\n",
       "    </tr>\n",
       "    <tr>\n",
       "      <th>4</th>\n",
       "      <td>AshDro</td>\n",
       "      <td>extr_1185_B02_20191002_060013_All_Day_3h.txt</td>\n",
       "      <td>AshDro_5</td>\n",
       "      <td>8128.205</td>\n",
       "      <td>10487.179</td>\n",
       "      <td>1.608392</td>\n",
       "      <td>3.426573</td>\n",
       "      <td>Dicrurus leucophaeus</td>\n",
       "      <td>Ashy Drongo</td>\n",
       "      <td>Birds</td>\n",
       "      <td>02/10/2019</td>\n",
       "      <td>B02</td>\n",
       "      <td>extr_1185_B02_20191002_060013_All_Day_3h.wav</td>\n",
       "      <td>2358.974</td>\n",
       "    </tr>\n",
       "  </tbody>\n",
       "</table>\n",
       "</div>"
      ],
      "text/plain": [
       "    Label                                              File  Event_ID  \\\n",
       "0  AshDro  extr_0117_pt1_B08_20190525_060000_All_Day_3h.txt  AshDro_1   \n",
       "1  AshDro  extr_0195_pt1_B03_20190410_060000_All_Day_3h.txt  AshDro_2   \n",
       "2  AshDro  extr_0043_pt2_B10_20190903_060000_All_Day_3h.txt  AshDro_3   \n",
       "3  AshDro      extr_1185_B02_20191002_060013_All_Day_3h.txt  AshDro_4   \n",
       "4  AshDro      extr_1185_B02_20191002_060013_All_Day_3h.txt  AshDro_5   \n",
       "\n",
       "      X_min      X_max     Y_min     Y_max               Species      EngName  \\\n",
       "0  2256.809   3151.751  2.422658  3.538126  Dicrurus leucophaeus  Ashy Drongo   \n",
       "1  4970.817   5963.035  2.232967  3.621978  Dicrurus leucophaeus  Ashy Drongo   \n",
       "2  9394.572  10615.866  2.133333  3.183333  Dicrurus leucophaeus  Ashy Drongo   \n",
       "3  1481.481   3379.630  1.634409  3.561290  Dicrurus leucophaeus  Ashy Drongo   \n",
       "4  8128.205  10487.179  1.608392  3.426573  Dicrurus leucophaeus  Ashy Drongo   \n",
       "\n",
       "   Group        Date recID                                              wave  \\\n",
       "0  Birds  25/05/2019   B08  extr_0117_pt1_B08_20190525_060000_All_Day_3h.wav   \n",
       "1  Birds  10/04/2019   B03  extr_0195_pt1_B03_20190410_060000_All_Day_3h.wav   \n",
       "2  Birds  03/09/2019   B10  extr_0043_pt2_B10_20190903_060000_All_Day_3h.wav   \n",
       "3  Birds  02/10/2019   B02      extr_1185_B02_20191002_060013_All_Day_3h.wav   \n",
       "4  Birds  02/10/2019   B02      extr_1185_B02_20191002_060013_All_Day_3h.wav   \n",
       "\n",
       "   duration  \n",
       "0   894.942  \n",
       "1   992.218  \n",
       "2  1221.294  \n",
       "3  1898.149  \n",
       "4  2358.974  "
      ]
     },
     "execution_count": 16,
     "metadata": {},
     "output_type": "execute_result"
    }
   ],
   "source": [
    "df = pd.read_csv('../labels_CD_20210309.csv')\n",
    "df.head()"
   ]
  },
  {
   "cell_type": "markdown",
   "metadata": {},
   "source": [
    "We put this into a form that can be used by our network changing the x_min,x_max to seconds and the frequecy to hz."
   ]
  },
  {
   "cell_type": "code",
   "execution_count": 17,
   "metadata": {
    "scrolled": true
   },
   "outputs": [
    {
     "data": {
      "text/html": [
       "<div>\n",
       "<style scoped>\n",
       "    .dataframe tbody tr th:only-of-type {\n",
       "        vertical-align: middle;\n",
       "    }\n",
       "\n",
       "    .dataframe tbody tr th {\n",
       "        vertical-align: top;\n",
       "    }\n",
       "\n",
       "    .dataframe thead th {\n",
       "        text-align: right;\n",
       "    }\n",
       "</style>\n",
       "<table border=\"1\" class=\"dataframe\">\n",
       "  <thead>\n",
       "    <tr style=\"text-align: right;\">\n",
       "      <th></th>\n",
       "      <th>Label</th>\n",
       "      <th>File</th>\n",
       "      <th>Event_ID</th>\n",
       "      <th>X_min</th>\n",
       "      <th>X_max</th>\n",
       "      <th>Y_min</th>\n",
       "      <th>Y_max</th>\n",
       "      <th>Species</th>\n",
       "      <th>EngName</th>\n",
       "      <th>Group</th>\n",
       "      <th>Date</th>\n",
       "      <th>recID</th>\n",
       "      <th>wave</th>\n",
       "      <th>duration</th>\n",
       "    </tr>\n",
       "  </thead>\n",
       "  <tbody>\n",
       "    <tr>\n",
       "      <th>0</th>\n",
       "      <td>AshDro</td>\n",
       "      <td>extr_0117_pt1_B08_20190525_060000_All_Day_3h.txt</td>\n",
       "      <td>AshDro_1</td>\n",
       "      <td>2.256809</td>\n",
       "      <td>3.151751</td>\n",
       "      <td>2422.657959</td>\n",
       "      <td>3538.126465</td>\n",
       "      <td>Dicrurus leucophaeus</td>\n",
       "      <td>Ashy Drongo</td>\n",
       "      <td>Birds</td>\n",
       "      <td>25/05/2019</td>\n",
       "      <td>B08</td>\n",
       "      <td>extr_0117_pt1_B08_20190525_060000_All_Day_3h.wav</td>\n",
       "      <td>894.942</td>\n",
       "    </tr>\n",
       "    <tr>\n",
       "      <th>1</th>\n",
       "      <td>AshDro</td>\n",
       "      <td>extr_0195_pt1_B03_20190410_060000_All_Day_3h.txt</td>\n",
       "      <td>AshDro_2</td>\n",
       "      <td>4.970817</td>\n",
       "      <td>5.963035</td>\n",
       "      <td>2232.967041</td>\n",
       "      <td>3621.978027</td>\n",
       "      <td>Dicrurus leucophaeus</td>\n",
       "      <td>Ashy Drongo</td>\n",
       "      <td>Birds</td>\n",
       "      <td>10/04/2019</td>\n",
       "      <td>B03</td>\n",
       "      <td>extr_0195_pt1_B03_20190410_060000_All_Day_3h.wav</td>\n",
       "      <td>992.218</td>\n",
       "    </tr>\n",
       "    <tr>\n",
       "      <th>2</th>\n",
       "      <td>AshDro</td>\n",
       "      <td>extr_0043_pt2_B10_20190903_060000_All_Day_3h.txt</td>\n",
       "      <td>AshDro_3</td>\n",
       "      <td>9.394572</td>\n",
       "      <td>10.615866</td>\n",
       "      <td>2133.333496</td>\n",
       "      <td>3183.333496</td>\n",
       "      <td>Dicrurus leucophaeus</td>\n",
       "      <td>Ashy Drongo</td>\n",
       "      <td>Birds</td>\n",
       "      <td>03/09/2019</td>\n",
       "      <td>B10</td>\n",
       "      <td>extr_0043_pt2_B10_20190903_060000_All_Day_3h.wav</td>\n",
       "      <td>1221.294</td>\n",
       "    </tr>\n",
       "    <tr>\n",
       "      <th>3</th>\n",
       "      <td>AshDro</td>\n",
       "      <td>extr_1185_B02_20191002_060013_All_Day_3h.txt</td>\n",
       "      <td>AshDro_4</td>\n",
       "      <td>1.481481</td>\n",
       "      <td>3.379630</td>\n",
       "      <td>1634.408569</td>\n",
       "      <td>3561.290283</td>\n",
       "      <td>Dicrurus leucophaeus</td>\n",
       "      <td>Ashy Drongo</td>\n",
       "      <td>Birds</td>\n",
       "      <td>02/10/2019</td>\n",
       "      <td>B02</td>\n",
       "      <td>extr_1185_B02_20191002_060013_All_Day_3h.wav</td>\n",
       "      <td>1898.149</td>\n",
       "    </tr>\n",
       "    <tr>\n",
       "      <th>4</th>\n",
       "      <td>AshDro</td>\n",
       "      <td>extr_1185_B02_20191002_060013_All_Day_3h.txt</td>\n",
       "      <td>AshDro_5</td>\n",
       "      <td>8.128205</td>\n",
       "      <td>10.487179</td>\n",
       "      <td>1608.391602</td>\n",
       "      <td>3426.573486</td>\n",
       "      <td>Dicrurus leucophaeus</td>\n",
       "      <td>Ashy Drongo</td>\n",
       "      <td>Birds</td>\n",
       "      <td>02/10/2019</td>\n",
       "      <td>B02</td>\n",
       "      <td>extr_1185_B02_20191002_060013_All_Day_3h.wav</td>\n",
       "      <td>2358.974</td>\n",
       "    </tr>\n",
       "  </tbody>\n",
       "</table>\n",
       "</div>"
      ],
      "text/plain": [
       "    Label                                              File  Event_ID  \\\n",
       "0  AshDro  extr_0117_pt1_B08_20190525_060000_All_Day_3h.txt  AshDro_1   \n",
       "1  AshDro  extr_0195_pt1_B03_20190410_060000_All_Day_3h.txt  AshDro_2   \n",
       "2  AshDro  extr_0043_pt2_B10_20190903_060000_All_Day_3h.txt  AshDro_3   \n",
       "3  AshDro      extr_1185_B02_20191002_060013_All_Day_3h.txt  AshDro_4   \n",
       "4  AshDro      extr_1185_B02_20191002_060013_All_Day_3h.txt  AshDro_5   \n",
       "\n",
       "      X_min      X_max        Y_min        Y_max               Species  \\\n",
       "0  2.256809   3.151751  2422.657959  3538.126465  Dicrurus leucophaeus   \n",
       "1  4.970817   5.963035  2232.967041  3621.978027  Dicrurus leucophaeus   \n",
       "2  9.394572  10.615866  2133.333496  3183.333496  Dicrurus leucophaeus   \n",
       "3  1.481481   3.379630  1634.408569  3561.290283  Dicrurus leucophaeus   \n",
       "4  8.128205  10.487179  1608.391602  3426.573486  Dicrurus leucophaeus   \n",
       "\n",
       "       EngName  Group        Date recID  \\\n",
       "0  Ashy Drongo  Birds  25/05/2019   B08   \n",
       "1  Ashy Drongo  Birds  10/04/2019   B03   \n",
       "2  Ashy Drongo  Birds  03/09/2019   B10   \n",
       "3  Ashy Drongo  Birds  02/10/2019   B02   \n",
       "4  Ashy Drongo  Birds  02/10/2019   B02   \n",
       "\n",
       "                                               wave  duration  \n",
       "0  extr_0117_pt1_B08_20190525_060000_All_Day_3h.wav   894.942  \n",
       "1  extr_0195_pt1_B03_20190410_060000_All_Day_3h.wav   992.218  \n",
       "2  extr_0043_pt2_B10_20190903_060000_All_Day_3h.wav  1221.294  \n",
       "3      extr_1185_B02_20191002_060013_All_Day_3h.wav  1898.149  \n",
       "4      extr_1185_B02_20191002_060013_All_Day_3h.wav  2358.974  "
      ]
     },
     "execution_count": 17,
     "metadata": {},
     "output_type": "execute_result"
    }
   ],
   "source": [
    "df.X_min /=1000\n",
    "df.X_max /=1000\n",
    "df.Y_min *=1000\n",
    "df.Y_max *=1000\n",
    "df.head()"
   ]
  },
  {
   "cell_type": "markdown",
   "metadata": {},
   "source": [
    "We can use pandas to check the number of items we have per a particular column, and identify the unique number of classes of that column. \n",
    "Here is an example of the Label column"
   ]
  },
  {
   "cell_type": "code",
   "execution_count": 18,
   "metadata": {
    "scrolled": true
   },
   "outputs": [
    {
     "data": {
      "text/plain": [
       "(PieShrVir     151\n",
       " HorWreBab1    127\n",
       " SunCuc1       123\n",
       " PygCup1       112\n",
       " JavTes1       104\n",
       "              ... \n",
       " JavHel1         1\n",
       " JavSho1         1\n",
       " JavKin          1\n",
       " JavHawEag       1\n",
       " CheThrYel3      1\n",
       " Name: Label, Length: 133, dtype: int64,\n",
       " 133)"
      ]
     },
     "execution_count": 18,
     "metadata": {},
     "output_type": "execute_result"
    }
   ],
   "source": [
    "df.Label.value_counts(), df.Label.nunique()"
   ]
  },
  {
   "cell_type": "markdown",
   "metadata": {},
   "source": [
    "We can remove labels using pandas if they are below a certain count. \n",
    "Here we will remove Labels that have less than 5 entries in the CSV file"
   ]
  },
  {
   "cell_type": "code",
   "execution_count": 19,
   "metadata": {},
   "outputs": [],
   "source": [
    "df = df.groupby(\"Label\").filter(lambda x: len(x)>10)"
   ]
  },
  {
   "cell_type": "code",
   "execution_count": 20,
   "metadata": {},
   "outputs": [
    {
     "data": {
      "text/plain": [
       "(PieShrVir     151\n",
       " HorWreBab1    127\n",
       " SunCuc1       123\n",
       " PygCup1       112\n",
       " JavTes1       104\n",
       " EyeWreBab1    100\n",
       " MouLeaWar1     92\n",
       " MouLea         91\n",
       " SunWar         90\n",
       " CreCheBab1     87\n",
       " GreHeaCan      62\n",
       " JavTes3        56\n",
       " SunBusWar      49\n",
       " LitPieFly1     48\n",
       " FlaFroBar1     39\n",
       " SunBruCuc1     34\n",
       " JavFul1        31\n",
       " SunBruCuc2     29\n",
       " JavHel2        27\n",
       " LitPieFly3     27\n",
       " LitPieFly2     26\n",
       " BroThrBar1     26\n",
       " CheBelPar      25\n",
       " TriShrVir1     20\n",
       " LesSho         20\n",
       " BarCucDov      19\n",
       " PygCup2        16\n",
       " SunCucShr1     14\n",
       " JavLau1        12\n",
       " JavCoc1        12\n",
       " LitSpi2        11\n",
       " SnoBroFly2     11\n",
       " MouLeaWar2     11\n",
       " BroThrBar3     11\n",
       " SnoBroFly1     11\n",
       " PygCup3        11\n",
       " HorWreBab3     11\n",
       " Name: Label, dtype: int64,\n",
       " 37)"
      ]
     },
     "execution_count": 20,
     "metadata": {},
     "output_type": "execute_result"
    }
   ],
   "source": [
    "df.Label.value_counts(), df.Label.nunique()"
   ]
  },
  {
   "cell_type": "markdown",
   "metadata": {},
   "source": [
    "We need to save a list of the classes so that when we come to evaluate the a test set or predict on an audio file, we know which class is represneted by the position in the final prediction vector"
   ]
  },
  {
   "cell_type": "code",
   "execution_count": 21,
   "metadata": {},
   "outputs": [
    {
     "data": {
      "text/plain": [
       "array(['BarCucDov', 'BroThrBar1', 'BroThrBar3', 'CheBelPar', 'CreCheBab1',\n",
       "       'EyeWreBab1', 'FlaFroBar1', 'GreHeaCan', 'HorWreBab1',\n",
       "       'HorWreBab3', 'JavCoc1', 'JavFul1', 'JavHel2', 'JavLau1',\n",
       "       'JavTes1', 'JavTes3', 'LesSho', 'LitPieFly1', 'LitPieFly2',\n",
       "       'LitPieFly3', 'LitSpi2', 'MouLea', 'MouLeaWar1', 'MouLeaWar2',\n",
       "       'PieShrVir', 'PygCup1', 'PygCup2', 'PygCup3', 'SnoBroFly1',\n",
       "       'SnoBroFly2', 'SunBruCuc1', 'SunBruCuc2', 'SunBusWar', 'SunCuc1',\n",
       "       'SunCucShr1', 'SunWar', 'TriShrVir1'], dtype=object)"
      ]
     },
     "execution_count": 21,
     "metadata": {},
     "output_type": "execute_result"
    }
   ],
   "source": [
    "classes = df.Label.unique(); classes"
   ]
  },
  {
   "cell_type": "code",
   "execution_count": 22,
   "metadata": {},
   "outputs": [],
   "source": [
    "np.savetxt('classes.txt',classes, fmt='%s') #this save it as a string array"
   ]
  },
  {
   "cell_type": "code",
   "execution_count": 23,
   "metadata": {},
   "outputs": [],
   "source": [
    "classes = list(np.loadtxt('classes.txt', delimiter='\\n', dtype=str))"
   ]
  },
  {
   "cell_type": "code",
   "execution_count": 24,
   "metadata": {},
   "outputs": [
    {
     "data": {
      "text/plain": [
       "['BarCucDov',\n",
       " 'BroThrBar1',\n",
       " 'BroThrBar3',\n",
       " 'CheBelPar',\n",
       " 'CreCheBab1',\n",
       " 'EyeWreBab1',\n",
       " 'FlaFroBar1',\n",
       " 'GreHeaCan',\n",
       " 'HorWreBab1',\n",
       " 'HorWreBab3',\n",
       " 'JavCoc1',\n",
       " 'JavFul1',\n",
       " 'JavHel2',\n",
       " 'JavLau1',\n",
       " 'JavTes1',\n",
       " 'JavTes3',\n",
       " 'LesSho',\n",
       " 'LitPieFly1',\n",
       " 'LitPieFly2',\n",
       " 'LitPieFly3',\n",
       " 'LitSpi2',\n",
       " 'MouLea',\n",
       " 'MouLeaWar1',\n",
       " 'MouLeaWar2',\n",
       " 'PieShrVir',\n",
       " 'PygCup1',\n",
       " 'PygCup2',\n",
       " 'PygCup3',\n",
       " 'SnoBroFly1',\n",
       " 'SnoBroFly2',\n",
       " 'SunBruCuc1',\n",
       " 'SunBruCuc2',\n",
       " 'SunBusWar',\n",
       " 'SunCuc1',\n",
       " 'SunCucShr1',\n",
       " 'SunWar',\n",
       " 'TriShrVir1']"
      ]
     },
     "execution_count": 24,
     "metadata": {},
     "output_type": "execute_result"
    }
   ],
   "source": [
    "classes"
   ]
  },
  {
   "cell_type": "markdown",
   "metadata": {},
   "source": [
    "We can now add a recording_id of the audio file, and a species id to the CSV file as well using list comprehensions in python.\n",
    "The recording id is used to load audio files, the species id is the class that has been converted to a number. "
   ]
  },
  {
   "cell_type": "code",
   "execution_count": 30,
   "metadata": {},
   "outputs": [],
   "source": [
    "df['species_id'] = [classes.index(l) for l in df.Label]\n",
    "df['recording_id'] = [f[:-4] for f in df.File]"
   ]
  },
  {
   "cell_type": "markdown",
   "metadata": {},
   "source": [
    "We also filter the rows of the CSV file, to make sure we do not have any birdcalls that have a duration of 0 seconds. \n",
    "This can be changed to filter out other thresholds such as below 30 ms"
   ]
  },
  {
   "cell_type": "code",
   "execution_count": 35,
   "metadata": {},
   "outputs": [],
   "source": [
    "df['t_diff'] = df['X_max'] - df['X_min']; len(df)\n",
    "df = df[df.t_diff != 0.0];"
   ]
  },
  {
   "cell_type": "markdown",
   "metadata": {},
   "source": [
    "We Now create the kfolds and store them within the CSV file"
   ]
  },
  {
   "cell_type": "code",
   "execution_count": 43,
   "metadata": {},
   "outputs": [
    {
     "name": "stdout",
     "output_type": "stream",
     "text": [
      "4    373\n",
      "0    356\n",
      "1    348\n",
      "3    339\n",
      "2    330\n",
      "Name: kfold, dtype: int64\n"
     ]
    },
    {
     "name": "stderr",
     "output_type": "stream",
     "text": [
      "/home/david/anaconda3/envs/fastai4/lib/python3.7/site-packages/sklearn/model_selection/_split.py:672: UserWarning: The least populated class in y has only 1 members, which is less than n_splits=5.\n",
      "  % (min_groups, self.n_splits)), UserWarning)\n"
     ]
    }
   ],
   "source": [
    "FOLDS = 5 # Number of folds, this can be changed \n",
    "SEED = 42 # The setting the random seed, so that the same set of data will be generated again. \n",
    "\n",
    "# We use unique recording ids with their species ids to create a CSV so that all recording ids are within the same\n",
    "# fold\n",
    "train_gby = df.groupby(\"recording_id\")[[\"species_id\"]].first().reset_index()\n",
    "train_gby = train_gby.sample(frac=1, random_state=SEED).reset_index(drop=True)\n",
    "train_gby.loc[:, 'kfold'] = -1\n",
    "\n",
    "X = train_gby[\"recording_id\"].values\n",
    "y = train_gby[\"species_id\"].values\n",
    "\n",
    "kfold = StratifiedKFold(n_splits=FOLDS)\n",
    "for fold, (t_idx, v_idx) in enumerate(kfold.split(X, y)):\n",
    "    train_gby.loc[v_idx, \"kfold\"] = fold\n",
    "\n",
    "train = df.merge(train_gby[['recording_id', 'kfold']], on=\"recording_id\", how=\"left\")\n",
    "print(train.kfold.value_counts())\n",
    "train.to_csv(\"train_folds.csv\", index=False)"
   ]
  },
  {
   "cell_type": "markdown",
   "metadata": {},
   "source": [
    "the CSV file has been  saved out as train_folds.csv.\n",
    "\n",
    "The above warning means that the one of the classes only appears within one of the kfolds, and doesn't appear in another. "
   ]
  },
  {
   "cell_type": "markdown",
   "metadata": {},
   "source": [
    "### Fin"
   ]
  }
 ],
 "metadata": {
  "kernelspec": {
   "display_name": "Python 3",
   "language": "python",
   "name": "python3"
  },
  "language_info": {
   "codemirror_mode": {
    "name": "ipython",
    "version": 3
   },
   "file_extension": ".py",
   "mimetype": "text/x-python",
   "name": "python",
   "nbconvert_exporter": "python",
   "pygments_lexer": "ipython3",
   "version": "3.7.9"
  }
 },
 "nbformat": 4,
 "nbformat_minor": 4
}
