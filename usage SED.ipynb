{
 "cells": [
  {
   "cell_type": "code",
   "execution_count": 1,
   "id": "attended-algebra",
   "metadata": {},
   "outputs": [],
   "source": [
    "%load_ext autoreload\n",
    "%autoreload 2"
   ]
  },
  {
   "cell_type": "code",
   "execution_count": 2,
   "id": "numerous-saudi",
   "metadata": {},
   "outputs": [
    {
     "name": "stderr",
     "output_type": "stream",
     "text": [
      "D:\\ProgramFiles\\anaconda3\\envs\\pytorch\\lib\\site-packages\\torchaudio\\extension\\extension.py:14: UserWarning: torchaudio C++ extension is not available.\n",
      "  warnings.warn('torchaudio C++ extension is not available.')\n",
      "D:\\ProgramFiles\\anaconda3\\envs\\pytorch\\lib\\site-packages\\torchaudio\\backend\\utils.py:64: UserWarning: The interface of \"soundfile\" backend is planned to change in 0.8.0 to match that of \"sox_io\" backend and the current interface will be removed in 0.9.0. To use the new interface, do `torchaudio.USE_SOUNDFILE_LEGACY_INTERFACE = False` before setting the backend to \"soundfile\". Please refer to https://github.com/pytorch/audio/issues/903 for the detail.\n",
      "  'The interface of \"soundfile\" backend is planned to change in 0.8.0 to '\n"
     ]
    }
   ],
   "source": [
    "#Load in the libraries we need \n",
    "import torch\n",
    "import numpy as np\n",
    "import pandas as pd\n",
    "import argparse\n",
    "from glob import glob\n",
    "import librosa\n",
    "from sed_model import load_model # this creates our model\n",
    "\n",
    "from sed_dataloader import * # this is the data file\n",
    "from metrics import LWLRAP\n",
    "from tqdm.auto import tqdm"
   ]
  },
  {
   "cell_type": "markdown",
   "id": "latter-highland",
   "metadata": {},
   "source": [
    "### Load in the dataset to evaluate or test on\n",
    "\n",
    "Here we are using Christian's test set"
   ]
  },
  {
   "cell_type": "code",
   "execution_count": 3,
   "id": "flying-shade",
   "metadata": {},
   "outputs": [
    {
     "data": {
      "text/html": [
       "<div>\n",
       "<style scoped>\n",
       "    .dataframe tbody tr th:only-of-type {\n",
       "        vertical-align: middle;\n",
       "    }\n",
       "\n",
       "    .dataframe tbody tr th {\n",
       "        vertical-align: top;\n",
       "    }\n",
       "\n",
       "    .dataframe thead th {\n",
       "        text-align: right;\n",
       "    }\n",
       "</style>\n",
       "<table border=\"1\" class=\"dataframe\">\n",
       "  <thead>\n",
       "    <tr style=\"text-align: right;\">\n",
       "      <th></th>\n",
       "      <th>Label</th>\n",
       "      <th>File</th>\n",
       "      <th>Event_ID</th>\n",
       "      <th>X_min</th>\n",
       "      <th>X_max</th>\n",
       "      <th>Y_min</th>\n",
       "      <th>Y_max</th>\n",
       "      <th>Species</th>\n",
       "      <th>EngName</th>\n",
       "      <th>Group</th>\n",
       "      <th>Date</th>\n",
       "      <th>recID</th>\n",
       "      <th>wave</th>\n",
       "      <th>duration</th>\n",
       "    </tr>\n",
       "  </thead>\n",
       "  <tbody>\n",
       "    <tr>\n",
       "      <th>0</th>\n",
       "      <td>AshDro</td>\n",
       "      <td>extr_1670_B09_20190727_060000_All_Day_3h.txt</td>\n",
       "      <td>AshDro_1</td>\n",
       "      <td>3657.588</td>\n",
       "      <td>9824.903</td>\n",
       "      <td>1.788462</td>\n",
       "      <td>4.250000</td>\n",
       "      <td>Dicrurus leucophaeus</td>\n",
       "      <td>Ashy Drongo</td>\n",
       "      <td>Birds</td>\n",
       "      <td>27/07/2019</td>\n",
       "      <td>B09</td>\n",
       "      <td>extr_1670_B09_20190727_060000_All_Day_3h.wav</td>\n",
       "      <td>6167.315</td>\n",
       "    </tr>\n",
       "    <tr>\n",
       "      <th>1</th>\n",
       "      <td>AshDro</td>\n",
       "      <td>extr_1670_B09_20190727_060000_All_Day_3h.txt</td>\n",
       "      <td>AshDro_2</td>\n",
       "      <td>10622.568</td>\n",
       "      <td>12178.988</td>\n",
       "      <td>2.153846</td>\n",
       "      <td>4.153846</td>\n",
       "      <td>Dicrurus leucophaeus</td>\n",
       "      <td>Ashy Drongo</td>\n",
       "      <td>Birds</td>\n",
       "      <td>27/07/2019</td>\n",
       "      <td>B09</td>\n",
       "      <td>extr_1670_B09_20190727_060000_All_Day_3h.wav</td>\n",
       "      <td>1556.420</td>\n",
       "    </tr>\n",
       "    <tr>\n",
       "      <th>2</th>\n",
       "      <td>AshDro</td>\n",
       "      <td>extr_1676_B01_20190718_060000_All_Day_3h.txt</td>\n",
       "      <td>AshDro_3</td>\n",
       "      <td>291.829</td>\n",
       "      <td>2295.720</td>\n",
       "      <td>1.361702</td>\n",
       "      <td>3.593381</td>\n",
       "      <td>Dicrurus leucophaeus</td>\n",
       "      <td>Ashy Drongo</td>\n",
       "      <td>Birds</td>\n",
       "      <td>18/07/2019</td>\n",
       "      <td>B01</td>\n",
       "      <td>extr_1676_B01_20190718_060000_All_Day_3h.wav</td>\n",
       "      <td>2003.891</td>\n",
       "    </tr>\n",
       "    <tr>\n",
       "      <th>3</th>\n",
       "      <td>AshDro2</td>\n",
       "      <td>extr_1463_B05_20181212_000009_All_Day.txt</td>\n",
       "      <td>AshDro2_1</td>\n",
       "      <td>5243.020</td>\n",
       "      <td>8965.874</td>\n",
       "      <td>1.732360</td>\n",
       "      <td>2.355231</td>\n",
       "      <td>Dicrurus leucophaeus</td>\n",
       "      <td>Ashy Drongo</td>\n",
       "      <td>Birds</td>\n",
       "      <td>12/12/2018</td>\n",
       "      <td>B05</td>\n",
       "      <td>extr_1463_B05_20181212_000009_All_Day.wav</td>\n",
       "      <td>3722.854</td>\n",
       "    </tr>\n",
       "    <tr>\n",
       "      <th>4</th>\n",
       "      <td>AshDro3</td>\n",
       "      <td>extr_1673_B05_20190729_060000_All_Day_3h.txt</td>\n",
       "      <td>AshDro3_1</td>\n",
       "      <td>5700.389</td>\n",
       "      <td>7821.012</td>\n",
       "      <td>1.734940</td>\n",
       "      <td>5.686747</td>\n",
       "      <td>Dicrurus leucophaeus</td>\n",
       "      <td>Ashy Drongo</td>\n",
       "      <td>Birds</td>\n",
       "      <td>29/07/2019</td>\n",
       "      <td>B05</td>\n",
       "      <td>extr_1673_B05_20190729_060000_All_Day_3h.wav</td>\n",
       "      <td>2120.623</td>\n",
       "    </tr>\n",
       "  </tbody>\n",
       "</table>\n",
       "</div>"
      ],
      "text/plain": [
       "     Label                                          File   Event_ID  \\\n",
       "0   AshDro  extr_1670_B09_20190727_060000_All_Day_3h.txt   AshDro_1   \n",
       "1   AshDro  extr_1670_B09_20190727_060000_All_Day_3h.txt   AshDro_2   \n",
       "2   AshDro  extr_1676_B01_20190718_060000_All_Day_3h.txt   AshDro_3   \n",
       "3  AshDro2     extr_1463_B05_20181212_000009_All_Day.txt  AshDro2_1   \n",
       "4  AshDro3  extr_1673_B05_20190729_060000_All_Day_3h.txt  AshDro3_1   \n",
       "\n",
       "       X_min      X_max     Y_min     Y_max               Species  \\\n",
       "0   3657.588   9824.903  1.788462  4.250000  Dicrurus leucophaeus   \n",
       "1  10622.568  12178.988  2.153846  4.153846  Dicrurus leucophaeus   \n",
       "2    291.829   2295.720  1.361702  3.593381  Dicrurus leucophaeus   \n",
       "3   5243.020   8965.874  1.732360  2.355231  Dicrurus leucophaeus   \n",
       "4   5700.389   7821.012  1.734940  5.686747  Dicrurus leucophaeus   \n",
       "\n",
       "       EngName  Group        Date recID  \\\n",
       "0  Ashy Drongo  Birds  27/07/2019   B09   \n",
       "1  Ashy Drongo  Birds  27/07/2019   B09   \n",
       "2  Ashy Drongo  Birds  18/07/2019   B01   \n",
       "3  Ashy Drongo  Birds  12/12/2018   B05   \n",
       "4  Ashy Drongo  Birds  29/07/2019   B05   \n",
       "\n",
       "                                           wave  duration  \n",
       "0  extr_1670_B09_20190727_060000_All_Day_3h.wav  6167.315  \n",
       "1  extr_1670_B09_20190727_060000_All_Day_3h.wav  1556.420  \n",
       "2  extr_1676_B01_20190718_060000_All_Day_3h.wav  2003.891  \n",
       "3     extr_1463_B05_20181212_000009_All_Day.wav  3722.854  \n",
       "4  extr_1673_B05_20190729_060000_All_Day_3h.wav  2120.623  "
      ]
     },
     "execution_count": 3,
     "metadata": {},
     "output_type": "execute_result"
    }
   ],
   "source": [
    "df = pd.read_csv('../labels_test_CD_20210309.csv');df.head()"
   ]
  },
  {
   "cell_type": "markdown",
   "id": "intermediate-folks",
   "metadata": {},
   "source": [
    "## Load the classes\n",
    "We need to load the classes that the models were trained on, in this case, that is the 51 class model"
   ]
  },
  {
   "cell_type": "code",
   "execution_count": 4,
   "id": "ranking-annual",
   "metadata": {},
   "outputs": [],
   "source": [
    "classes = np.loadtxt('classes.txt', dtype='str', delimiter='\\n')\n",
    "classes = list(classes)"
   ]
  },
  {
   "cell_type": "markdown",
   "id": "regional-minute",
   "metadata": {},
   "source": [
    "We first preprocess the data, so that it can be used by our dataloaders. \n",
    "\n",
    "This includes adding a recording_id so that it may load the correct audio file, and a species_id if you are evaluating some data. There is also the oppertunity to drop classes that are not in the classes file to test how well it performs on just these classes.  \n",
    "\n",
    "This function below ouputs a a preprocessed CSV file, a prediction and labels file as well. "
   ]
  },
  {
   "cell_type": "code",
   "execution_count": 5,
   "id": "posted-martial",
   "metadata": {},
   "outputs": [],
   "source": [
    "def preprocess(df, classes=[], drop_classes= False, mode='test'):\n",
    "           \n",
    "    #appends a species id\n",
    "    #if the species is not within the classes it is labeled as an unknown#\n",
    "    if mode !='test':\n",
    "        df['species_id'] = [-1 if s not in classes else classes.index(s) for s in df.Label] #we choose what we are looking at \n",
    "        if drop_classes == True:\n",
    "            df = df[df.Species.isin(classes)]\n",
    "    df = df.reset_index(drop=True)\n",
    "    #preprare a output file of the predictions from the model\n",
    "    species_cols = [f'{classes[i]}' for i in range(len(classes))]\n",
    "    cv_preds = pd.DataFrame(columns=species_cols)\n",
    "    cv_preds['filepath'] = df['filepath'].drop_duplicates()\n",
    "    cv_preds.loc[:, species_cols] = 0\n",
    "    cv_preds = cv_preds.reset_index(drop=True)\n",
    "    \n",
    "    if mode == 'test':\n",
    "        return df, cv_preds, species_cols\n",
    "    return df, cv_preds,species_cols, cv_preds.copy()"
   ]
  },
  {
   "cell_type": "markdown",
   "id": "pharmaceutical-heather",
   "metadata": {},
   "source": [
    "## Evaluation loop\n",
    "\n",
    "This is the evaluation loop, that loads the model, creates a dataloader and passes the data to the model. It then processes the predictions from the model, and addits it to a prediction csv, and the appropriate label to the labels csv file. \n"
   ]
  },
  {
   "cell_type": "code",
   "execution_count": 6,
   "id": "native-trustee",
   "metadata": {},
   "outputs": [],
   "source": [
    "def evaluation_loop(paths,species_cols, df, config, cv_preds, label_df, device):\n",
    "\n",
    "    for path in paths:\n",
    "        print(f'loading model {path}')\n",
    "        model = load_model(path, config)\n",
    "        model.to(device)\n",
    "        #load the data into dataloaders\n",
    "        dataloader = get_dataloader(df, config=config, mode='valid')\n",
    "\n",
    "        tk = tqdm(dataloader, total=len(dataloader))\n",
    "        sub_index = 0\n",
    "        with torch.no_grad():\n",
    "            #pass it to the cpu or gpu\n",
    "            _preds, labels =[],[]\n",
    "            for i, (x,l) in enumerate(tk):\n",
    "            \n",
    "                x = x.to(device)\n",
    "                l = l.to(device)\n",
    "                bs, seq, w = x.shape #we need to reshape the input it as contains lots of segments of raw audio files that are not in the right shape for the CNN\n",
    "                x = x.reshape(bs*seq, w)\n",
    "                x = x.float()\n",
    "                preds = model(x, None, None)# We do the same as above, but we don't mix the labels up, \n",
    "\n",
    "                #we also need to reshape the framewise output to calculate the evaluation metric\n",
    "                preds = torch.sigmoid(torch.max(preds['framewise_output'], dim=1)[0])\n",
    "                preds = preds.reshape(bs, seq, -1)\n",
    "                preds = torch.sum(preds, dim=1)\n",
    "                val_lwlrap = LWLRAP(preds, l)#get metrics and log them\n",
    "                o = preds.cpu().numpy()\n",
    "                _preds.extend(o)\n",
    "                labels.extend(l.cpu().numpy())\n",
    "                for val, ll in zip(o,l.cpu().numpy()):\n",
    "                    cv_preds.loc[sub_index, species_cols] += list(val)\n",
    "                    label_df.loc[sub_index, species_cols] = ll\n",
    "                    sub_index += 1\n",
    "    \n",
    "            p = torch.from_numpy(np.array(_preds)) \n",
    "            t = torch.from_numpy(np.array(labels))\n",
    "            print(f\"lwlrap: {LWLRAP(p, t):.6}\")\n",
    "    return cv_preds, label_df"
   ]
  },
  {
   "cell_type": "markdown",
   "id": "sublime-person",
   "metadata": {},
   "source": [
    "## Inference loop\n",
    "This is similar to the above loop, the only difference is that it only passes a predictions csv file back.  \n",
    "This is the loop you would use to predict on data, you don't know what is within the audio files. "
   ]
  },
  {
   "cell_type": "code",
   "execution_count": 7,
   "id": "surprising-uniform",
   "metadata": {},
   "outputs": [],
   "source": [
    "def inference_loop(paths,species_cols, df,config, cv_preds,device):\n",
    "\n",
    "    for path in paths:\n",
    "        print(f'loading model {path}')\n",
    "        model = load_model(path, config)\n",
    "        model.to(device)\n",
    "        #load the data into dataloaders\n",
    "        dataloader = get_dataloader(df, config=config, mode='test')\n",
    "\n",
    "        tk = tqdm(dataloader, total=len(dataloader))\n",
    "        sub_index = 0\n",
    "        with torch.no_grad():\n",
    "\n",
    "            for i, (x,l) in enumerate(tk):\n",
    "            \n",
    "                x = x.to(device)\n",
    "                bs, seq, w = x.shape #we need to reshape the input it as contains lots of segments of raw audio files that are not in the right shape for the CNN\n",
    "                x = x.reshape(bs*seq, w)\n",
    "                x = x.float()\n",
    "                preds = model(x, None, None)# We do the same as above, but we don't mix the labels up, \n",
    "\n",
    "                #we also need to reshape the framewise output to calculate the evaluation metric\n",
    "                preds = torch.sigmoid(torch.max(preds['framewise_output'], dim=1)[0])\n",
    "                preds = preds.reshape(bs, seq, -1)\n",
    "                preds = torch.sum(preds, dim=1)\n",
    "\n",
    "                o = preds.cpu().numpy()\n",
    "\n",
    "                for val in o:\n",
    "                    cv_preds.loc[sub_index, species_cols] += list(val)\n",
    "                    sub_index += 1\n",
    "\n",
    "    return cv_preds"
   ]
  },
  {
   "cell_type": "markdown",
   "id": "hungarian-given",
   "metadata": {},
   "source": [
    "## Config\n",
    "The config controls, the batch size( number of images on the GPU), num_works, the sliding window length, duration and other  parameters that may be changed. It also contains the path to where the models weights reside and the folder that contains the audio files.  "
   ]
  },
  {
   "cell_type": "code",
   "execution_count": 8,
   "id": "genuine-thickness",
   "metadata": {},
   "outputs": [],
   "source": [
    "df['filepath'] = df.wave"
   ]
  },
  {
   "cell_type": "code",
   "execution_count": 9,
   "id": "falling-detection",
   "metadata": {},
   "outputs": [],
   "source": [
    "num_classes = len(classes) #this is the number of classes we are using check to make sure this is label\n",
    "class Config:\n",
    "    exp_name = \"Efficientnet_B0\" #experiment and save path\n",
    "    save_path = 'weights'\n",
    "    pretrain_weights = None \n",
    "    model_param = {\n",
    "        'encoder' : 'tf_efficientnet_b3_ns', #we pass in which pretrained CNN we wish to you\n",
    "        'sample_rate': 44100,\n",
    "        'window_size' : 512, #1024 for better results\n",
    "        'hop_size' : 512, # #mel spectrogram params\n",
    "        'mel_bins' : 128, # 60\n",
    "        'fmin' : 0,\n",
    "        'fmax' : 13000,\n",
    "        'classes_num' : num_classes #this is the number of classes that you are training on.\n",
    "    }\n",
    "    duration = 4 #if you set this less than 4 it will cause the training to crash\n",
    "    stride=4\n",
    "    original_sr = 44100\n",
    "    num_classes = num_classes \n",
    "    ROOT = '.'\n",
    "    total_duration =15.\n",
    "    batch_size = 16 #number of images that are passed to the GPU\n",
    "    num_workers = 0# number of workers, this must be 0 on windows! \n",
    "    data_root = osp.join(ROOT, \"../Test_data_CD\")\n",
    "    output_csv = 'output.csv'\n",
    "    model_path = f'{save_path}/{exp_name}/models' #path to where models are kept\n",
    "    mode='val'\n",
    "config = Config()\n"
   ]
  },
  {
   "cell_type": "code",
   "execution_count": 10,
   "id": "invalid-planning",
   "metadata": {},
   "outputs": [],
   "source": [
    "def main(df,classes=[], drop_classes=False, config=Config()):\n",
    "    #we preprocess the data\n",
    "    proccessed = preprocess(df, classes=classes, drop_classes=drop_classes, mode = config.mode)\n",
    "    if config.mode =='test':\n",
    "        df, cv_preds, species_cols = proccessed\n",
    "    else:\n",
    "        df, cv_preds, species_cols, labels_df = proccessed\n",
    "    # if there is a GPU we load the audio onto the GPU\n",
    "    device = torch.device(\"cuda\" if torch.cuda.is_available() else \"cpu\")\n",
    "    #we load a model from the models class\n",
    "    #and get the paths of models from the models path\n",
    "    paths = glob(f'{config.model_path}/*.pth')\n",
    "\n",
    "    if config.mode !='test':\n",
    "        cv_preds, labels_df = evaluation_loop(paths,species_cols, df,config,  cv_preds, labels_df, device)\n",
    "    else:\n",
    "        cv_preds = inference_loop(paths,species_cols, df,config, cv_preds,device)\n",
    "    #divide by length of folds\n",
    "    cv_preds.loc[:, species_cols] /=len(paths)\n",
    "\n",
    "    print(f'Saving predictions to {config.output_csv}')\n",
    "    cv_preds.to_csv(config.output_csv, index=False)\n",
    "    if config.mode=='test':\n",
    "        return cv_preds\n",
    "    #we evaluate the model using LWlRAP and LRAP\n",
    "    preds = cv_preds.loc[:,species_cols].values.astype(np.float32)\n",
    "    preds = torch.from_numpy(preds)\n",
    "\n",
    "    labels = labels_df.loc[:,species_cols].values.astype(np.float32)\n",
    "    labels = torch.from_numpy(labels)\n",
    "\n",
    "    print(f\"Label weighted label ranking average precision: {LWLRAP(preds, labels):.6}\")\n",
    "    return cv_preds, labels_df"
   ]
  },
  {
   "cell_type": "markdown",
   "id": "figured-blowing",
   "metadata": {},
   "source": [
    "This will evaluate on all of the data within the CSV file"
   ]
  },
  {
   "cell_type": "code",
   "execution_count": 11,
   "id": "generic-thomson",
   "metadata": {
    "scrolled": true
   },
   "outputs": [
    {
     "name": "stdout",
     "output_type": "stream",
     "text": [
      "loading model weights/Efficientnet_B0/models\\model_0.pth\n"
     ]
    },
    {
     "name": "stderr",
     "output_type": "stream",
     "text": [
      "D:\\ProgramFiles\\anaconda3\\envs\\pytorch\\lib\\site-packages\\librosa\\filters.py:239: UserWarning: Empty filters detected in mel frequency basis. Some channels will produce empty responses. Try increasing your sampling rate (and fmax) or reducing n_mels.\n",
      "  \"Empty filters detected in mel frequency basis. \"\n"
     ]
    },
    {
     "data": {
      "application/vnd.jupyter.widget-view+json": {
       "model_id": "ec12174705274110bee19a08df427b6c",
       "version_major": 2,
       "version_minor": 0
      },
      "text/plain": [
       "  0%|          | 0/10 [00:00<?, ?it/s]"
      ]
     },
     "metadata": {},
     "output_type": "display_data"
    },
    {
     "name": "stdout",
     "output_type": "stream",
     "text": [
      "lwlrap: 0.610217\n",
      "Saving predictions to output.csv\n",
      "Label weighted label ranking average precision: 0.610217\n"
     ]
    }
   ],
   "source": [
    "p,l = main(df, classes, drop_classes=False)"
   ]
  },
  {
   "cell_type": "markdown",
   "id": "administrative-grass",
   "metadata": {},
   "source": [
    "This will evaluate on only classes the model has been trained with, and that are within the CSV file"
   ]
  },
  {
   "cell_type": "code",
   "execution_count": 12,
   "id": "imperial-saturn",
   "metadata": {},
   "outputs": [],
   "source": [
    "#changing the mode of the config file from eval to test\n",
    "config = Config()\n",
    "config.mode='test'"
   ]
  },
  {
   "cell_type": "markdown",
   "id": "nominated-gasoline",
   "metadata": {},
   "source": [
    "This will predict on the audio files that are within the CSV file, it will not evaluate on the CSV file. "
   ]
  },
  {
   "cell_type": "code",
   "execution_count": 13,
   "id": "practical-fitting",
   "metadata": {},
   "outputs": [
    {
     "name": "stdout",
     "output_type": "stream",
     "text": [
      "loading model weights/Efficientnet_B0/models\\model_0.pth\n"
     ]
    },
    {
     "data": {
      "application/vnd.jupyter.widget-view+json": {
       "model_id": "3bedce7c8c244e9bb917750fd085cac9",
       "version_major": 2,
       "version_minor": 0
      },
      "text/plain": [
       "  0%|          | 0/10 [00:00<?, ?it/s]"
      ]
     },
     "metadata": {},
     "output_type": "display_data"
    },
    {
     "name": "stdout",
     "output_type": "stream",
     "text": [
      "Saving predictions to output.csv\n"
     ]
    }
   ],
   "source": [
    "p = main(df, classes, drop_classes=False, config=config) "
   ]
  },
  {
   "cell_type": "markdown",
   "id": "still-turkish",
   "metadata": {},
   "source": [
    "### Inference on longer clips"
   ]
  },
  {
   "cell_type": "code",
   "execution_count": 85,
   "id": "intense-hayes",
   "metadata": {},
   "outputs": [],
   "source": [
    "def prediction_for_clip(clip: np.ndarray, config,  model, device):\n",
    "    \n",
    "    dataloader = get_dataloader_single_clip(clip, config)\n",
    "    preds_ = []\n",
    "    for i, (x) in enumerate(dataloader):\n",
    "        with torch.no_grad():\n",
    "            x = x.to(device)\n",
    "            x = x.float()\n",
    "            preds = model(x)# We do the same as above, but we don't mix the labels up, \n",
    "\n",
    "        #we also need to reshape the framewise output to calculate the evaluation metric\n",
    "        preds = torch.sigmoid(torch.max(preds['framewise_output'], dim=1)[0])\n",
    "        o = preds.cpu().numpy()\n",
    "        preds_.extend(o)\n",
    "\n",
    "\n",
    "    return np.array(preds_).max(axis=0) #return the CSV\n",
    "    "
   ]
  },
  {
   "cell_type": "code",
   "execution_count": 122,
   "id": "personal-metro",
   "metadata": {},
   "outputs": [],
   "source": [
    "from collections import defaultdict\n",
    "def prediction(test_df,config, path,): \n",
    "    #framewise predictions for getting the onset and offset of bird calls\n",
    "    #using one model\n",
    "    df, cv_preds, species_cols = preprocess(test_df, classes=classes, drop_classes=False, mode = config.mode)\n",
    "\n",
    "    model = load_model(path, config)\n",
    "    device = torch.device(\"cuda\" if torch.cuda.is_available() else \"cpu\")\n",
    "    model.to(device)\n",
    "    sub_idx=0\n",
    "    for filepath in tqdm(cv_preds.filepath): # for the audio files\n",
    "        clip, _ = librosa.load(f'{config.data_root}/{filepath}',sr=None,\n",
    "                               res_type=\"kaiser_fast\") #we load the audio\n",
    "\n",
    "        pred = prediction_for_clip(clip, config,  model, device)\n",
    "\n",
    "        cv_preds.loc[sub_idx,species_cols] = pred\n",
    "        sub_idx+=1\n",
    "    print(f'Saving predictions to {config.output_csv}')\n",
    "    cv_preds.to_csv(config.output_csv, index=False)\n",
    "    return cv_preds"
   ]
  },
  {
   "cell_type": "code",
   "execution_count": 123,
   "id": "entitled-mustang",
   "metadata": {},
   "outputs": [
    {
     "name": "stderr",
     "output_type": "stream",
     "text": [
      "D:\\ProgramFiles\\anaconda3\\envs\\pytorch\\lib\\site-packages\\librosa\\filters.py:239: UserWarning: Empty filters detected in mel frequency basis. Some channels will produce empty responses. Try increasing your sampling rate (and fmax) or reducing n_mels.\n",
      "  \"Empty filters detected in mel frequency basis. \"\n"
     ]
    },
    {
     "data": {
      "application/vnd.jupyter.widget-view+json": {
       "model_id": "b80299d80a12462f9bd1bb9162c74e6a",
       "version_major": 2,
       "version_minor": 0
      },
      "text/plain": [
       "  0%|          | 0/153 [00:00<?, ?it/s]"
      ]
     },
     "metadata": {},
     "output_type": "display_data"
    },
    {
     "name": "stdout",
     "output_type": "stream",
     "text": [
      "Saving predictions to output.csv\n"
     ]
    }
   ],
   "source": [
    "preds = prediction(df, config, glob(f'{config.model_path}/*.pth')[0])"
   ]
  },
  {
   "cell_type": "code",
   "execution_count": 124,
   "id": "distributed-owner",
   "metadata": {},
   "outputs": [
    {
     "data": {
      "text/html": [
       "<div>\n",
       "<style scoped>\n",
       "    .dataframe tbody tr th:only-of-type {\n",
       "        vertical-align: middle;\n",
       "    }\n",
       "\n",
       "    .dataframe tbody tr th {\n",
       "        vertical-align: top;\n",
       "    }\n",
       "\n",
       "    .dataframe thead th {\n",
       "        text-align: right;\n",
       "    }\n",
       "</style>\n",
       "<table border=\"1\" class=\"dataframe\">\n",
       "  <thead>\n",
       "    <tr style=\"text-align: right;\">\n",
       "      <th></th>\n",
       "      <th>BarCucDov</th>\n",
       "      <th>BroThrBar1</th>\n",
       "      <th>BroThrBar3</th>\n",
       "      <th>CheBelPar</th>\n",
       "      <th>CreCheBab1</th>\n",
       "      <th>EyeWreBab1</th>\n",
       "      <th>FlaFroBar1</th>\n",
       "      <th>GreHeaCan</th>\n",
       "      <th>HorWreBab1</th>\n",
       "      <th>HorWreBab3</th>\n",
       "      <th>...</th>\n",
       "      <th>SnoBroFly1</th>\n",
       "      <th>SnoBroFly2</th>\n",
       "      <th>SunBruCuc1</th>\n",
       "      <th>SunBruCuc2</th>\n",
       "      <th>SunBusWar</th>\n",
       "      <th>SunCuc1</th>\n",
       "      <th>SunCucShr1</th>\n",
       "      <th>SunWar</th>\n",
       "      <th>TriShrVir1</th>\n",
       "      <th>filepath</th>\n",
       "    </tr>\n",
       "  </thead>\n",
       "  <tbody>\n",
       "    <tr>\n",
       "      <th>0</th>\n",
       "      <td>0.503500</td>\n",
       "      <td>0.509965</td>\n",
       "      <td>0.505194</td>\n",
       "      <td>0.579459</td>\n",
       "      <td>0.718772</td>\n",
       "      <td>0.522245</td>\n",
       "      <td>0.535120</td>\n",
       "      <td>0.524652</td>\n",
       "      <td>0.522902</td>\n",
       "      <td>0.599663</td>\n",
       "      <td>...</td>\n",
       "      <td>0.574349</td>\n",
       "      <td>0.544880</td>\n",
       "      <td>0.525028</td>\n",
       "      <td>0.512050</td>\n",
       "      <td>0.539900</td>\n",
       "      <td>0.594786</td>\n",
       "      <td>0.504708</td>\n",
       "      <td>0.731058</td>\n",
       "      <td>0.597082</td>\n",
       "      <td>extr_1670_B09_20190727_060000_All_Day_3h.wav</td>\n",
       "    </tr>\n",
       "    <tr>\n",
       "      <th>1</th>\n",
       "      <td>0.509763</td>\n",
       "      <td>0.518879</td>\n",
       "      <td>0.505969</td>\n",
       "      <td>0.565183</td>\n",
       "      <td>0.731030</td>\n",
       "      <td>0.728696</td>\n",
       "      <td>0.581311</td>\n",
       "      <td>0.532075</td>\n",
       "      <td>0.723048</td>\n",
       "      <td>0.512448</td>\n",
       "      <td>...</td>\n",
       "      <td>0.513172</td>\n",
       "      <td>0.536872</td>\n",
       "      <td>0.606059</td>\n",
       "      <td>0.516536</td>\n",
       "      <td>0.666535</td>\n",
       "      <td>0.612820</td>\n",
       "      <td>0.521001</td>\n",
       "      <td>0.542102</td>\n",
       "      <td>0.540889</td>\n",
       "      <td>extr_1676_B01_20190718_060000_All_Day_3h.wav</td>\n",
       "    </tr>\n",
       "    <tr>\n",
       "      <th>2</th>\n",
       "      <td>0.504265</td>\n",
       "      <td>0.504124</td>\n",
       "      <td>0.503738</td>\n",
       "      <td>0.511782</td>\n",
       "      <td>0.599826</td>\n",
       "      <td>0.726585</td>\n",
       "      <td>0.554468</td>\n",
       "      <td>0.538623</td>\n",
       "      <td>0.731058</td>\n",
       "      <td>0.602205</td>\n",
       "      <td>...</td>\n",
       "      <td>0.504770</td>\n",
       "      <td>0.504192</td>\n",
       "      <td>0.641876</td>\n",
       "      <td>0.520661</td>\n",
       "      <td>0.573991</td>\n",
       "      <td>0.609488</td>\n",
       "      <td>0.514470</td>\n",
       "      <td>0.514113</td>\n",
       "      <td>0.523751</td>\n",
       "      <td>extr_1463_B05_20181212_000009_All_Day.wav</td>\n",
       "    </tr>\n",
       "    <tr>\n",
       "      <th>3</th>\n",
       "      <td>0.504016</td>\n",
       "      <td>0.508311</td>\n",
       "      <td>0.503862</td>\n",
       "      <td>0.548234</td>\n",
       "      <td>0.548771</td>\n",
       "      <td>0.519193</td>\n",
       "      <td>0.545046</td>\n",
       "      <td>0.542701</td>\n",
       "      <td>0.726175</td>\n",
       "      <td>0.505037</td>\n",
       "      <td>...</td>\n",
       "      <td>0.504275</td>\n",
       "      <td>0.505756</td>\n",
       "      <td>0.583905</td>\n",
       "      <td>0.549811</td>\n",
       "      <td>0.594032</td>\n",
       "      <td>0.598947</td>\n",
       "      <td>0.606853</td>\n",
       "      <td>0.509814</td>\n",
       "      <td>0.606657</td>\n",
       "      <td>extr_1673_B05_20190729_060000_All_Day_3h.wav</td>\n",
       "    </tr>\n",
       "    <tr>\n",
       "      <th>4</th>\n",
       "      <td>0.502838</td>\n",
       "      <td>0.506977</td>\n",
       "      <td>0.503140</td>\n",
       "      <td>0.511359</td>\n",
       "      <td>0.550509</td>\n",
       "      <td>0.579363</td>\n",
       "      <td>0.539103</td>\n",
       "      <td>0.600442</td>\n",
       "      <td>0.530400</td>\n",
       "      <td>0.522639</td>\n",
       "      <td>...</td>\n",
       "      <td>0.502556</td>\n",
       "      <td>0.516032</td>\n",
       "      <td>0.577347</td>\n",
       "      <td>0.526771</td>\n",
       "      <td>0.662753</td>\n",
       "      <td>0.575786</td>\n",
       "      <td>0.514367</td>\n",
       "      <td>0.511239</td>\n",
       "      <td>0.586876</td>\n",
       "      <td>extr_2153_B04_20190226_000231_All_Day.wav</td>\n",
       "    </tr>\n",
       "    <tr>\n",
       "      <th>...</th>\n",
       "      <td>...</td>\n",
       "      <td>...</td>\n",
       "      <td>...</td>\n",
       "      <td>...</td>\n",
       "      <td>...</td>\n",
       "      <td>...</td>\n",
       "      <td>...</td>\n",
       "      <td>...</td>\n",
       "      <td>...</td>\n",
       "      <td>...</td>\n",
       "      <td>...</td>\n",
       "      <td>...</td>\n",
       "      <td>...</td>\n",
       "      <td>...</td>\n",
       "      <td>...</td>\n",
       "      <td>...</td>\n",
       "      <td>...</td>\n",
       "      <td>...</td>\n",
       "      <td>...</td>\n",
       "      <td>...</td>\n",
       "      <td>...</td>\n",
       "    </tr>\n",
       "    <tr>\n",
       "      <th>148</th>\n",
       "      <td>0.506955</td>\n",
       "      <td>0.506442</td>\n",
       "      <td>0.502954</td>\n",
       "      <td>0.508359</td>\n",
       "      <td>0.559692</td>\n",
       "      <td>0.517290</td>\n",
       "      <td>0.549071</td>\n",
       "      <td>0.558185</td>\n",
       "      <td>0.518121</td>\n",
       "      <td>0.501056</td>\n",
       "      <td>...</td>\n",
       "      <td>0.503123</td>\n",
       "      <td>0.503243</td>\n",
       "      <td>0.599052</td>\n",
       "      <td>0.533823</td>\n",
       "      <td>0.578982</td>\n",
       "      <td>0.605591</td>\n",
       "      <td>0.536398</td>\n",
       "      <td>0.510248</td>\n",
       "      <td>0.518811</td>\n",
       "      <td>extr_1607_B12_20190726_060014_All_Day_3h.wav</td>\n",
       "    </tr>\n",
       "    <tr>\n",
       "      <th>149</th>\n",
       "      <td>0.511526</td>\n",
       "      <td>0.503636</td>\n",
       "      <td>0.507650</td>\n",
       "      <td>0.642264</td>\n",
       "      <td>0.730920</td>\n",
       "      <td>0.514964</td>\n",
       "      <td>0.698827</td>\n",
       "      <td>0.535997</td>\n",
       "      <td>0.521807</td>\n",
       "      <td>0.703726</td>\n",
       "      <td>...</td>\n",
       "      <td>0.516958</td>\n",
       "      <td>0.509303</td>\n",
       "      <td>0.522436</td>\n",
       "      <td>0.505653</td>\n",
       "      <td>0.558264</td>\n",
       "      <td>0.574572</td>\n",
       "      <td>0.524679</td>\n",
       "      <td>0.546167</td>\n",
       "      <td>0.572987</td>\n",
       "      <td>extr_5014_B06_20181006_064554_All_Day [-7.2658...</td>\n",
       "    </tr>\n",
       "    <tr>\n",
       "      <th>150</th>\n",
       "      <td>0.506813</td>\n",
       "      <td>0.505579</td>\n",
       "      <td>0.506911</td>\n",
       "      <td>0.610660</td>\n",
       "      <td>0.718606</td>\n",
       "      <td>0.512943</td>\n",
       "      <td>0.713959</td>\n",
       "      <td>0.529309</td>\n",
       "      <td>0.717101</td>\n",
       "      <td>0.551894</td>\n",
       "      <td>...</td>\n",
       "      <td>0.542584</td>\n",
       "      <td>0.518759</td>\n",
       "      <td>0.559418</td>\n",
       "      <td>0.525457</td>\n",
       "      <td>0.535822</td>\n",
       "      <td>0.573771</td>\n",
       "      <td>0.502780</td>\n",
       "      <td>0.639179</td>\n",
       "      <td>0.597479</td>\n",
       "      <td>extr_5001_B01_20180925_064600_All_Day [-7.2861...</td>\n",
       "    </tr>\n",
       "    <tr>\n",
       "      <th>151</th>\n",
       "      <td>0.503351</td>\n",
       "      <td>0.501821</td>\n",
       "      <td>0.504663</td>\n",
       "      <td>0.518281</td>\n",
       "      <td>0.704145</td>\n",
       "      <td>0.731059</td>\n",
       "      <td>0.552575</td>\n",
       "      <td>0.524876</td>\n",
       "      <td>0.530051</td>\n",
       "      <td>0.519836</td>\n",
       "      <td>...</td>\n",
       "      <td>0.509042</td>\n",
       "      <td>0.526114</td>\n",
       "      <td>0.583678</td>\n",
       "      <td>0.527495</td>\n",
       "      <td>0.526931</td>\n",
       "      <td>0.597851</td>\n",
       "      <td>0.502243</td>\n",
       "      <td>0.528691</td>\n",
       "      <td>0.511990</td>\n",
       "      <td>extr_5003_B02_20180920_063200_All_Day [-7.2733...</td>\n",
       "    </tr>\n",
       "    <tr>\n",
       "      <th>152</th>\n",
       "      <td>0.503676</td>\n",
       "      <td>0.502237</td>\n",
       "      <td>0.503258</td>\n",
       "      <td>0.601754</td>\n",
       "      <td>0.709830</td>\n",
       "      <td>0.520929</td>\n",
       "      <td>0.707245</td>\n",
       "      <td>0.544308</td>\n",
       "      <td>0.730788</td>\n",
       "      <td>0.503051</td>\n",
       "      <td>...</td>\n",
       "      <td>0.510077</td>\n",
       "      <td>0.503399</td>\n",
       "      <td>0.621070</td>\n",
       "      <td>0.561027</td>\n",
       "      <td>0.544117</td>\n",
       "      <td>0.583070</td>\n",
       "      <td>0.508184</td>\n",
       "      <td>0.520741</td>\n",
       "      <td>0.535721</td>\n",
       "      <td>extr_5007_B01_20180910_064734_All_Day [-7.2963...</td>\n",
       "    </tr>\n",
       "  </tbody>\n",
       "</table>\n",
       "<p>153 rows × 38 columns</p>\n",
       "</div>"
      ],
      "text/plain": [
       "     BarCucDov  BroThrBar1  BroThrBar3  CheBelPar  CreCheBab1  EyeWreBab1  \\\n",
       "0     0.503500    0.509965    0.505194   0.579459    0.718772    0.522245   \n",
       "1     0.509763    0.518879    0.505969   0.565183    0.731030    0.728696   \n",
       "2     0.504265    0.504124    0.503738   0.511782    0.599826    0.726585   \n",
       "3     0.504016    0.508311    0.503862   0.548234    0.548771    0.519193   \n",
       "4     0.502838    0.506977    0.503140   0.511359    0.550509    0.579363   \n",
       "..         ...         ...         ...        ...         ...         ...   \n",
       "148   0.506955    0.506442    0.502954   0.508359    0.559692    0.517290   \n",
       "149   0.511526    0.503636    0.507650   0.642264    0.730920    0.514964   \n",
       "150   0.506813    0.505579    0.506911   0.610660    0.718606    0.512943   \n",
       "151   0.503351    0.501821    0.504663   0.518281    0.704145    0.731059   \n",
       "152   0.503676    0.502237    0.503258   0.601754    0.709830    0.520929   \n",
       "\n",
       "     FlaFroBar1  GreHeaCan  HorWreBab1  HorWreBab3  ...  SnoBroFly1  \\\n",
       "0      0.535120   0.524652    0.522902    0.599663  ...    0.574349   \n",
       "1      0.581311   0.532075    0.723048    0.512448  ...    0.513172   \n",
       "2      0.554468   0.538623    0.731058    0.602205  ...    0.504770   \n",
       "3      0.545046   0.542701    0.726175    0.505037  ...    0.504275   \n",
       "4      0.539103   0.600442    0.530400    0.522639  ...    0.502556   \n",
       "..          ...        ...         ...         ...  ...         ...   \n",
       "148    0.549071   0.558185    0.518121    0.501056  ...    0.503123   \n",
       "149    0.698827   0.535997    0.521807    0.703726  ...    0.516958   \n",
       "150    0.713959   0.529309    0.717101    0.551894  ...    0.542584   \n",
       "151    0.552575   0.524876    0.530051    0.519836  ...    0.509042   \n",
       "152    0.707245   0.544308    0.730788    0.503051  ...    0.510077   \n",
       "\n",
       "     SnoBroFly2  SunBruCuc1  SunBruCuc2  SunBusWar   SunCuc1  SunCucShr1  \\\n",
       "0      0.544880    0.525028    0.512050   0.539900  0.594786    0.504708   \n",
       "1      0.536872    0.606059    0.516536   0.666535  0.612820    0.521001   \n",
       "2      0.504192    0.641876    0.520661   0.573991  0.609488    0.514470   \n",
       "3      0.505756    0.583905    0.549811   0.594032  0.598947    0.606853   \n",
       "4      0.516032    0.577347    0.526771   0.662753  0.575786    0.514367   \n",
       "..          ...         ...         ...        ...       ...         ...   \n",
       "148    0.503243    0.599052    0.533823   0.578982  0.605591    0.536398   \n",
       "149    0.509303    0.522436    0.505653   0.558264  0.574572    0.524679   \n",
       "150    0.518759    0.559418    0.525457   0.535822  0.573771    0.502780   \n",
       "151    0.526114    0.583678    0.527495   0.526931  0.597851    0.502243   \n",
       "152    0.503399    0.621070    0.561027   0.544117  0.583070    0.508184   \n",
       "\n",
       "       SunWar  TriShrVir1                                           filepath  \n",
       "0    0.731058    0.597082       extr_1670_B09_20190727_060000_All_Day_3h.wav  \n",
       "1    0.542102    0.540889       extr_1676_B01_20190718_060000_All_Day_3h.wav  \n",
       "2    0.514113    0.523751          extr_1463_B05_20181212_000009_All_Day.wav  \n",
       "3    0.509814    0.606657       extr_1673_B05_20190729_060000_All_Day_3h.wav  \n",
       "4    0.511239    0.586876          extr_2153_B04_20190226_000231_All_Day.wav  \n",
       "..        ...         ...                                                ...  \n",
       "148  0.510248    0.518811       extr_1607_B12_20190726_060014_All_Day_3h.wav  \n",
       "149  0.546167    0.572987  extr_5014_B06_20181006_064554_All_Day [-7.2658...  \n",
       "150  0.639179    0.597479  extr_5001_B01_20180925_064600_All_Day [-7.2861...  \n",
       "151  0.528691    0.511990  extr_5003_B02_20180920_063200_All_Day [-7.2733...  \n",
       "152  0.520741    0.535721  extr_5007_B01_20180910_064734_All_Day [-7.2963...  \n",
       "\n",
       "[153 rows x 38 columns]"
      ]
     },
     "execution_count": 124,
     "metadata": {},
     "output_type": "execute_result"
    }
   ],
   "source": [
    "preds"
   ]
  },
  {
   "cell_type": "markdown",
   "id": "armed-throat",
   "metadata": {},
   "source": [
    "## Framewise Onset and offset Prediction"
   ]
  },
  {
   "cell_type": "code",
   "execution_count": 133,
   "id": "duplicate-blake",
   "metadata": {},
   "outputs": [],
   "source": [
    "def prediction_for_clip_framewise(test_df: pd.DataFrame, clip: np.ndarray, config,  model,threshold=0.5):\n",
    "    PERIOD = config.duration\n",
    "    SR=config.original_sr\n",
    "    #we break the clip into multiple audio clips to pass to the GPU, we process each clip seperately\n",
    "    audios = []\n",
    "    y = clip.astype(np.float32)\n",
    "    len_y = len(y)\n",
    "    start = 0\n",
    "    end = int(PERIOD * SR)\n",
    "    while True:\n",
    "        y_batch = y[start:end].astype(np.float32) #the first batch\n",
    "        if len(y_batch) != PERIOD * SR: #we keep on adding till we get to the end of the audio clip\n",
    "            y_pad = np.zeros(PERIOD * SR, dtype=np.float32)\n",
    "            y_pad[:len(y_batch)] = y_batch\n",
    "            audios.append(y_pad)\n",
    "            break\n",
    "        start = end\n",
    "        end += int(PERIOD * SR)\n",
    "        audios.append(y_batch) #add the audio clip to anarrya\n",
    "    array = np.asarray(audios)\n",
    "    tensors = torch.from_numpy(array) #convert the audop batches to a tensor for the GPU\n",
    "    device = torch.device(\"cuda\" if torch.cuda.is_available() else \"cpu\")\n",
    "    \n",
    "    model.eval()  #the model is placed to evaluate mode\n",
    "    estimated_event_list = []\n",
    "    global_time = 0.0\n",
    "    audio_id = test_df[\"filepath\"].values[0] #get the audio ID\n",
    "    for image in tqdm(tensors): #for each image in the tensor\n",
    "        image = image.view(1, image.size(0)) #we convert to a batch of one and send to the GPU\n",
    "        image = image.to(device)\n",
    "        #we predict and get the framewise output. \n",
    "        with torch.no_grad():\n",
    "            prediction = model(image)\n",
    "            framewise_outputs = prediction[\"framewise_output\"].detach(\n",
    "                ).cpu().numpy()[0]\n",
    "        #we threshold the outputs, and get rid of items that are below the \n",
    "        thresholded = framewise_outputs >= threshold\n",
    "\n",
    "        for target_idx in range(thresholded.shape[1]): #thresholded.shape[1] is the number of classes youve trained on\n",
    "            if thresholded[:, target_idx].mean() == 0: #if mean is zero, nothing is detected\n",
    "                pass\n",
    "            else:\n",
    "                detected = np.argwhere(thresholded[:, target_idx]).reshape(-1) #else we get all of the thresholds at the target idx\n",
    "\n",
    "                head_idx = 0\n",
    "                tail_idx = 0 \n",
    "                while True:\n",
    "                    if (tail_idx + 1 == len(detected)) or (\n",
    "                            detected[tail_idx + 1] - \n",
    "                            detected[tail_idx] != 1): #if the tail idx is not larger than the detected class\n",
    "                        onset = 0.01 * detected[\n",
    "                            head_idx] + global_time #we loop through the detected classes and add to the onset and offset the detected is the time domain\n",
    "                        offset = 0.01 * detected[\n",
    "                            tail_idx] + global_time\n",
    "                        onset_idx = detected[head_idx]\n",
    "                        offset_idx = detected[tail_idx]\n",
    "                        max_confidence = framewise_outputs[\n",
    "                            onset_idx:offset_idx, target_idx].max() #we get the mean and max confidence scores \n",
    "                        mean_confidence = framewise_outputs[\n",
    "                            onset_idx:offset_idx, target_idx].mean()\n",
    "                        estimated_event = {\n",
    "                            \"audio_id\": audio_id,\n",
    "                            \"ebird_code\": classes[target_idx],\n",
    "                            \"onset\": onset,\n",
    "                            \"offset\": offset,\n",
    "                            \"max_confidence\": max_confidence,\n",
    "                            \"mean_confidence\": mean_confidence\n",
    "                        }\n",
    "                        estimated_event_list.append(estimated_event) #we append the estimated event for the class\n",
    "                        head_idx = tail_idx + 1\n",
    "                        tail_idx = tail_idx + 1\n",
    "                        if head_idx >= len(detected):\n",
    "                            break\n",
    "                    else:\n",
    "                        tail_idx += 1\n",
    "        global_time += PERIOD #we add to the global time and create a dataframe from the estimated time list\n",
    "        prediction_df = pd.DataFrame(estimated_event_list) \n",
    "    return prediction_df #return the CSV\n",
    "    "
   ]
  },
  {
   "cell_type": "code",
   "execution_count": 134,
   "id": "exotic-chance",
   "metadata": {},
   "outputs": [],
   "source": [
    "from collections import defaultdict\n",
    "def prediction_framewise(test_df,model, config, thresh=0.5): \n",
    "    #framewise predictions for getting the onset and offset of bird calls\n",
    "    #using one model\n",
    "    unique_audio_id = test_df.filepath.unique() #we get unique audio filepaths in the test_csv\n",
    "\n",
    "    prediction_dfs = [] #create a predictions df list\n",
    "    for filepath in tqdm(unique_audio_id): # for the audio files\n",
    "        clip, _ = librosa.load(f'{config.data_root}/{filepath}',sr=None,\n",
    "                               res_type=\"kaiser_fast\") #we load the audio\n",
    "        \n",
    "        test_df_for_audio_id = test_df.query(\n",
    "            f\"filepath == '{filepath}'\").reset_index(drop=True) #create a csv file for the filepath\n",
    "        prediction_df = prediction_for_clip_framewise(test_df_for_audio_id, #pass this to the prediction per clip\n",
    "                                                clip=clip,\n",
    "                                                config=config,\n",
    "                                                model=model,\n",
    "                                                threshold=thresh) #threshold of what confidence in a score we are looking for\n",
    "\n",
    "        prediction_dfs.append(prediction_df)\n",
    "    prediction_df = pd.concat(prediction_dfs, axis=0, sort=False).reset_index(drop=True) #ad all of the lists together\n",
    "    return prediction_df"
   ]
  },
  {
   "cell_type": "code",
   "execution_count": 136,
   "id": "requested-constraint",
   "metadata": {},
   "outputs": [
    {
     "data": {
      "text/plain": [
       "device(type='cuda')"
      ]
     },
     "execution_count": 136,
     "metadata": {},
     "output_type": "execute_result"
    }
   ],
   "source": [
    "device"
   ]
  },
  {
   "cell_type": "code",
   "execution_count": 137,
   "id": "perceived-attachment",
   "metadata": {},
   "outputs": [
    {
     "data": {
      "application/vnd.jupyter.widget-view+json": {
       "model_id": "100bb609574e408883233268639b45c7",
       "version_major": 2,
       "version_minor": 0
      },
      "text/plain": [
       "  0%|          | 0/153 [00:00<?, ?it/s]"
      ]
     },
     "metadata": {},
     "output_type": "display_data"
    },
    {
     "data": {
      "application/vnd.jupyter.widget-view+json": {
       "model_id": "da9ebab61327451e9e70b85b6c846ce4",
       "version_major": 2,
       "version_minor": 0
      },
      "text/plain": [
       "  0%|          | 0/4 [00:00<?, ?it/s]"
      ]
     },
     "metadata": {},
     "output_type": "display_data"
    },
    {
     "data": {
      "application/vnd.jupyter.widget-view+json": {
       "model_id": "6eda55622a994c55a5ed6efea5b4ef92",
       "version_major": 2,
       "version_minor": 0
      },
      "text/plain": [
       "  0%|          | 0/4 [00:00<?, ?it/s]"
      ]
     },
     "metadata": {},
     "output_type": "display_data"
    },
    {
     "data": {
      "application/vnd.jupyter.widget-view+json": {
       "model_id": "b51892150da048bd9fac4caa4772cd96",
       "version_major": 2,
       "version_minor": 0
      },
      "text/plain": [
       "  0%|          | 0/4 [00:00<?, ?it/s]"
      ]
     },
     "metadata": {},
     "output_type": "display_data"
    },
    {
     "data": {
      "application/vnd.jupyter.widget-view+json": {
       "model_id": "8eece5ca0bb141e89d0ec800ce772d28",
       "version_major": 2,
       "version_minor": 0
      },
      "text/plain": [
       "  0%|          | 0/4 [00:00<?, ?it/s]"
      ]
     },
     "metadata": {},
     "output_type": "display_data"
    },
    {
     "data": {
      "application/vnd.jupyter.widget-view+json": {
       "model_id": "0e2e520968704be09f64c2dc6202fd63",
       "version_major": 2,
       "version_minor": 0
      },
      "text/plain": [
       "  0%|          | 0/4 [00:00<?, ?it/s]"
      ]
     },
     "metadata": {},
     "output_type": "display_data"
    },
    {
     "data": {
      "application/vnd.jupyter.widget-view+json": {
       "model_id": "bc0715c2d7d349678e86dab2659a4c11",
       "version_major": 2,
       "version_minor": 0
      },
      "text/plain": [
       "  0%|          | 0/4 [00:00<?, ?it/s]"
      ]
     },
     "metadata": {},
     "output_type": "display_data"
    },
    {
     "data": {
      "application/vnd.jupyter.widget-view+json": {
       "model_id": "f880fa435bc54317ae665b5cfa898a0e",
       "version_major": 2,
       "version_minor": 0
      },
      "text/plain": [
       "  0%|          | 0/4 [00:00<?, ?it/s]"
      ]
     },
     "metadata": {},
     "output_type": "display_data"
    },
    {
     "data": {
      "application/vnd.jupyter.widget-view+json": {
       "model_id": "28d15abf735f425bb4406878aa7f9b72",
       "version_major": 2,
       "version_minor": 0
      },
      "text/plain": [
       "  0%|          | 0/4 [00:00<?, ?it/s]"
      ]
     },
     "metadata": {},
     "output_type": "display_data"
    },
    {
     "data": {
      "application/vnd.jupyter.widget-view+json": {
       "model_id": "a0ef952618c74cd89e6b93ec199cef54",
       "version_major": 2,
       "version_minor": 0
      },
      "text/plain": [
       "  0%|          | 0/4 [00:00<?, ?it/s]"
      ]
     },
     "metadata": {},
     "output_type": "display_data"
    },
    {
     "data": {
      "application/vnd.jupyter.widget-view+json": {
       "model_id": "6bfe68397b834379885c2ead04d1b522",
       "version_major": 2,
       "version_minor": 0
      },
      "text/plain": [
       "  0%|          | 0/4 [00:00<?, ?it/s]"
      ]
     },
     "metadata": {},
     "output_type": "display_data"
    },
    {
     "data": {
      "application/vnd.jupyter.widget-view+json": {
       "model_id": "b7841b2a847040ae8f129f22fdfb788a",
       "version_major": 2,
       "version_minor": 0
      },
      "text/plain": [
       "  0%|          | 0/4 [00:00<?, ?it/s]"
      ]
     },
     "metadata": {},
     "output_type": "display_data"
    },
    {
     "data": {
      "application/vnd.jupyter.widget-view+json": {
       "model_id": "6937350458064560ad54978354a046f4",
       "version_major": 2,
       "version_minor": 0
      },
      "text/plain": [
       "  0%|          | 0/4 [00:00<?, ?it/s]"
      ]
     },
     "metadata": {},
     "output_type": "display_data"
    },
    {
     "data": {
      "application/vnd.jupyter.widget-view+json": {
       "model_id": "a2c54692a2ee4c02a162c0069470e229",
       "version_major": 2,
       "version_minor": 0
      },
      "text/plain": [
       "  0%|          | 0/4 [00:00<?, ?it/s]"
      ]
     },
     "metadata": {},
     "output_type": "display_data"
    },
    {
     "data": {
      "application/vnd.jupyter.widget-view+json": {
       "model_id": "42b7fb33f4424cbbbac88f02e94ef4dc",
       "version_major": 2,
       "version_minor": 0
      },
      "text/plain": [
       "  0%|          | 0/4 [00:00<?, ?it/s]"
      ]
     },
     "metadata": {},
     "output_type": "display_data"
    },
    {
     "data": {
      "application/vnd.jupyter.widget-view+json": {
       "model_id": "0e0b00735edf4f9c84ce91e4a353a782",
       "version_major": 2,
       "version_minor": 0
      },
      "text/plain": [
       "  0%|          | 0/4 [00:00<?, ?it/s]"
      ]
     },
     "metadata": {},
     "output_type": "display_data"
    },
    {
     "data": {
      "application/vnd.jupyter.widget-view+json": {
       "model_id": "827cd089d1e846c5ac94e02af1a9b66e",
       "version_major": 2,
       "version_minor": 0
      },
      "text/plain": [
       "  0%|          | 0/4 [00:00<?, ?it/s]"
      ]
     },
     "metadata": {},
     "output_type": "display_data"
    },
    {
     "data": {
      "application/vnd.jupyter.widget-view+json": {
       "model_id": "214ed20d0c8b4037926f4d8887910f1f",
       "version_major": 2,
       "version_minor": 0
      },
      "text/plain": [
       "  0%|          | 0/4 [00:00<?, ?it/s]"
      ]
     },
     "metadata": {},
     "output_type": "display_data"
    },
    {
     "data": {
      "application/vnd.jupyter.widget-view+json": {
       "model_id": "2f5afd0476e2488db5324eabc7fc912f",
       "version_major": 2,
       "version_minor": 0
      },
      "text/plain": [
       "  0%|          | 0/4 [00:00<?, ?it/s]"
      ]
     },
     "metadata": {},
     "output_type": "display_data"
    },
    {
     "data": {
      "application/vnd.jupyter.widget-view+json": {
       "model_id": "c1f2a40d8e8842a7bf5e5b74cc3e2e7e",
       "version_major": 2,
       "version_minor": 0
      },
      "text/plain": [
       "  0%|          | 0/4 [00:00<?, ?it/s]"
      ]
     },
     "metadata": {},
     "output_type": "display_data"
    },
    {
     "data": {
      "application/vnd.jupyter.widget-view+json": {
       "model_id": "c226e673a8a947bdb862e64f85bb4b5a",
       "version_major": 2,
       "version_minor": 0
      },
      "text/plain": [
       "  0%|          | 0/4 [00:00<?, ?it/s]"
      ]
     },
     "metadata": {},
     "output_type": "display_data"
    },
    {
     "data": {
      "application/vnd.jupyter.widget-view+json": {
       "model_id": "59cfae269842414c93999a8a529871f8",
       "version_major": 2,
       "version_minor": 0
      },
      "text/plain": [
       "  0%|          | 0/4 [00:00<?, ?it/s]"
      ]
     },
     "metadata": {},
     "output_type": "display_data"
    },
    {
     "data": {
      "application/vnd.jupyter.widget-view+json": {
       "model_id": "ff43152607734eb9a3f1af6a345ec9c3",
       "version_major": 2,
       "version_minor": 0
      },
      "text/plain": [
       "  0%|          | 0/4 [00:00<?, ?it/s]"
      ]
     },
     "metadata": {},
     "output_type": "display_data"
    },
    {
     "data": {
      "application/vnd.jupyter.widget-view+json": {
       "model_id": "2c7fb87798c04556b4cccce35435929f",
       "version_major": 2,
       "version_minor": 0
      },
      "text/plain": [
       "  0%|          | 0/4 [00:00<?, ?it/s]"
      ]
     },
     "metadata": {},
     "output_type": "display_data"
    },
    {
     "data": {
      "application/vnd.jupyter.widget-view+json": {
       "model_id": "78759f79a6e24003baa664229778a717",
       "version_major": 2,
       "version_minor": 0
      },
      "text/plain": [
       "  0%|          | 0/4 [00:00<?, ?it/s]"
      ]
     },
     "metadata": {},
     "output_type": "display_data"
    },
    {
     "data": {
      "application/vnd.jupyter.widget-view+json": {
       "model_id": "864cf1343e8f425d8df2a44bd6cad716",
       "version_major": 2,
       "version_minor": 0
      },
      "text/plain": [
       "  0%|          | 0/4 [00:00<?, ?it/s]"
      ]
     },
     "metadata": {},
     "output_type": "display_data"
    },
    {
     "data": {
      "application/vnd.jupyter.widget-view+json": {
       "model_id": "4a63cfbade8a4ea4bc27e9a3974a66a7",
       "version_major": 2,
       "version_minor": 0
      },
      "text/plain": [
       "  0%|          | 0/4 [00:00<?, ?it/s]"
      ]
     },
     "metadata": {},
     "output_type": "display_data"
    },
    {
     "data": {
      "application/vnd.jupyter.widget-view+json": {
       "model_id": "87df1c5ab03c46b583d7834e14a6c506",
       "version_major": 2,
       "version_minor": 0
      },
      "text/plain": [
       "  0%|          | 0/4 [00:00<?, ?it/s]"
      ]
     },
     "metadata": {},
     "output_type": "display_data"
    },
    {
     "data": {
      "application/vnd.jupyter.widget-view+json": {
       "model_id": "4dfa963bd99b4182bc0cd1bcde18d370",
       "version_major": 2,
       "version_minor": 0
      },
      "text/plain": [
       "  0%|          | 0/4 [00:00<?, ?it/s]"
      ]
     },
     "metadata": {},
     "output_type": "display_data"
    },
    {
     "data": {
      "application/vnd.jupyter.widget-view+json": {
       "model_id": "9fd2bc5d9fe945168aa60d96d7ebe382",
       "version_major": 2,
       "version_minor": 0
      },
      "text/plain": [
       "  0%|          | 0/4 [00:00<?, ?it/s]"
      ]
     },
     "metadata": {},
     "output_type": "display_data"
    },
    {
     "data": {
      "application/vnd.jupyter.widget-view+json": {
       "model_id": "37347cadb1fb454e970de50ede7bdb3b",
       "version_major": 2,
       "version_minor": 0
      },
      "text/plain": [
       "  0%|          | 0/4 [00:00<?, ?it/s]"
      ]
     },
     "metadata": {},
     "output_type": "display_data"
    },
    {
     "data": {
      "application/vnd.jupyter.widget-view+json": {
       "model_id": "adc9a22e13dd4a21af9a642a0ae3ff3c",
       "version_major": 2,
       "version_minor": 0
      },
      "text/plain": [
       "  0%|          | 0/4 [00:00<?, ?it/s]"
      ]
     },
     "metadata": {},
     "output_type": "display_data"
    },
    {
     "data": {
      "application/vnd.jupyter.widget-view+json": {
       "model_id": "d7a84d3156164bbd94e806434b70e51c",
       "version_major": 2,
       "version_minor": 0
      },
      "text/plain": [
       "  0%|          | 0/4 [00:00<?, ?it/s]"
      ]
     },
     "metadata": {},
     "output_type": "display_data"
    },
    {
     "data": {
      "application/vnd.jupyter.widget-view+json": {
       "model_id": "efb9d4488dc2480289471976d4498d64",
       "version_major": 2,
       "version_minor": 0
      },
      "text/plain": [
       "  0%|          | 0/4 [00:00<?, ?it/s]"
      ]
     },
     "metadata": {},
     "output_type": "display_data"
    },
    {
     "data": {
      "application/vnd.jupyter.widget-view+json": {
       "model_id": "6969b523cf054a15a0be46eca56397a0",
       "version_major": 2,
       "version_minor": 0
      },
      "text/plain": [
       "  0%|          | 0/4 [00:00<?, ?it/s]"
      ]
     },
     "metadata": {},
     "output_type": "display_data"
    },
    {
     "data": {
      "application/vnd.jupyter.widget-view+json": {
       "model_id": "733904fdf1314279909a21e5e3f50a2e",
       "version_major": 2,
       "version_minor": 0
      },
      "text/plain": [
       "  0%|          | 0/4 [00:00<?, ?it/s]"
      ]
     },
     "metadata": {},
     "output_type": "display_data"
    },
    {
     "data": {
      "application/vnd.jupyter.widget-view+json": {
       "model_id": "11a26f62a217421fb83ae4b8bfc63ac5",
       "version_major": 2,
       "version_minor": 0
      },
      "text/plain": [
       "  0%|          | 0/4 [00:00<?, ?it/s]"
      ]
     },
     "metadata": {},
     "output_type": "display_data"
    },
    {
     "data": {
      "application/vnd.jupyter.widget-view+json": {
       "model_id": "120561954c1e47de8422c363ae262c75",
       "version_major": 2,
       "version_minor": 0
      },
      "text/plain": [
       "  0%|          | 0/4 [00:00<?, ?it/s]"
      ]
     },
     "metadata": {},
     "output_type": "display_data"
    },
    {
     "data": {
      "application/vnd.jupyter.widget-view+json": {
       "model_id": "1c5c2eb8ac6b42c2a11fc51c15e0fa3c",
       "version_major": 2,
       "version_minor": 0
      },
      "text/plain": [
       "  0%|          | 0/4 [00:00<?, ?it/s]"
      ]
     },
     "metadata": {},
     "output_type": "display_data"
    },
    {
     "data": {
      "application/vnd.jupyter.widget-view+json": {
       "model_id": "6c845087d4d74ce9ade4c6cbb7472ad1",
       "version_major": 2,
       "version_minor": 0
      },
      "text/plain": [
       "  0%|          | 0/4 [00:00<?, ?it/s]"
      ]
     },
     "metadata": {},
     "output_type": "display_data"
    },
    {
     "data": {
      "application/vnd.jupyter.widget-view+json": {
       "model_id": "c72b6387c5694a82adee83e5890bdeeb",
       "version_major": 2,
       "version_minor": 0
      },
      "text/plain": [
       "  0%|          | 0/4 [00:00<?, ?it/s]"
      ]
     },
     "metadata": {},
     "output_type": "display_data"
    },
    {
     "data": {
      "application/vnd.jupyter.widget-view+json": {
       "model_id": "419c6bcdc7404d73a3b02b35395515cf",
       "version_major": 2,
       "version_minor": 0
      },
      "text/plain": [
       "  0%|          | 0/4 [00:00<?, ?it/s]"
      ]
     },
     "metadata": {},
     "output_type": "display_data"
    },
    {
     "data": {
      "application/vnd.jupyter.widget-view+json": {
       "model_id": "ec20bc68929d415495c420139d4aaedb",
       "version_major": 2,
       "version_minor": 0
      },
      "text/plain": [
       "  0%|          | 0/4 [00:00<?, ?it/s]"
      ]
     },
     "metadata": {},
     "output_type": "display_data"
    },
    {
     "data": {
      "application/vnd.jupyter.widget-view+json": {
       "model_id": "76e218b980974e998ceeed9bba9194da",
       "version_major": 2,
       "version_minor": 0
      },
      "text/plain": [
       "  0%|          | 0/4 [00:00<?, ?it/s]"
      ]
     },
     "metadata": {},
     "output_type": "display_data"
    },
    {
     "data": {
      "application/vnd.jupyter.widget-view+json": {
       "model_id": "3e5bfd041ead49bb975c609a7dd101cf",
       "version_major": 2,
       "version_minor": 0
      },
      "text/plain": [
       "  0%|          | 0/4 [00:00<?, ?it/s]"
      ]
     },
     "metadata": {},
     "output_type": "display_data"
    },
    {
     "data": {
      "application/vnd.jupyter.widget-view+json": {
       "model_id": "aabd81443f7f41efbb06dcf56be3be3a",
       "version_major": 2,
       "version_minor": 0
      },
      "text/plain": [
       "  0%|          | 0/4 [00:00<?, ?it/s]"
      ]
     },
     "metadata": {},
     "output_type": "display_data"
    },
    {
     "data": {
      "application/vnd.jupyter.widget-view+json": {
       "model_id": "ce01c0ab798f4b3380cece4ed34f9e3a",
       "version_major": 2,
       "version_minor": 0
      },
      "text/plain": [
       "  0%|          | 0/4 [00:00<?, ?it/s]"
      ]
     },
     "metadata": {},
     "output_type": "display_data"
    },
    {
     "data": {
      "application/vnd.jupyter.widget-view+json": {
       "model_id": "6dc333934cc84e59b68679b85b11598c",
       "version_major": 2,
       "version_minor": 0
      },
      "text/plain": [
       "  0%|          | 0/4 [00:00<?, ?it/s]"
      ]
     },
     "metadata": {},
     "output_type": "display_data"
    },
    {
     "data": {
      "application/vnd.jupyter.widget-view+json": {
       "model_id": "5010f8fc990249afba8dc1153f0b8011",
       "version_major": 2,
       "version_minor": 0
      },
      "text/plain": [
       "  0%|          | 0/4 [00:00<?, ?it/s]"
      ]
     },
     "metadata": {},
     "output_type": "display_data"
    },
    {
     "data": {
      "application/vnd.jupyter.widget-view+json": {
       "model_id": "14c01b68eaf9420d8b19c0d43640407c",
       "version_major": 2,
       "version_minor": 0
      },
      "text/plain": [
       "  0%|          | 0/4 [00:00<?, ?it/s]"
      ]
     },
     "metadata": {},
     "output_type": "display_data"
    },
    {
     "data": {
      "application/vnd.jupyter.widget-view+json": {
       "model_id": "5cd8043495e7480c9f2d225d065f205b",
       "version_major": 2,
       "version_minor": 0
      },
      "text/plain": [
       "  0%|          | 0/4 [00:00<?, ?it/s]"
      ]
     },
     "metadata": {},
     "output_type": "display_data"
    },
    {
     "data": {
      "application/vnd.jupyter.widget-view+json": {
       "model_id": "5786204336074dc393882bba3a020e50",
       "version_major": 2,
       "version_minor": 0
      },
      "text/plain": [
       "  0%|          | 0/4 [00:00<?, ?it/s]"
      ]
     },
     "metadata": {},
     "output_type": "display_data"
    },
    {
     "data": {
      "application/vnd.jupyter.widget-view+json": {
       "model_id": "1c13b08240c74d27955f6ed24afcb65f",
       "version_major": 2,
       "version_minor": 0
      },
      "text/plain": [
       "  0%|          | 0/4 [00:00<?, ?it/s]"
      ]
     },
     "metadata": {},
     "output_type": "display_data"
    },
    {
     "data": {
      "application/vnd.jupyter.widget-view+json": {
       "model_id": "2a3e20ee86c64ca383bc2b44a2a29d9b",
       "version_major": 2,
       "version_minor": 0
      },
      "text/plain": [
       "  0%|          | 0/4 [00:00<?, ?it/s]"
      ]
     },
     "metadata": {},
     "output_type": "display_data"
    },
    {
     "data": {
      "application/vnd.jupyter.widget-view+json": {
       "model_id": "c306533384a14765bb87cd789480c59b",
       "version_major": 2,
       "version_minor": 0
      },
      "text/plain": [
       "  0%|          | 0/4 [00:00<?, ?it/s]"
      ]
     },
     "metadata": {},
     "output_type": "display_data"
    },
    {
     "data": {
      "application/vnd.jupyter.widget-view+json": {
       "model_id": "d5a45ea096ee4e1d9ba7f6b9d75abee1",
       "version_major": 2,
       "version_minor": 0
      },
      "text/plain": [
       "  0%|          | 0/4 [00:00<?, ?it/s]"
      ]
     },
     "metadata": {},
     "output_type": "display_data"
    },
    {
     "data": {
      "application/vnd.jupyter.widget-view+json": {
       "model_id": "eeb5f6d04cfd4f96b659e81ad315ab59",
       "version_major": 2,
       "version_minor": 0
      },
      "text/plain": [
       "  0%|          | 0/4 [00:00<?, ?it/s]"
      ]
     },
     "metadata": {},
     "output_type": "display_data"
    },
    {
     "data": {
      "application/vnd.jupyter.widget-view+json": {
       "model_id": "719f9fc710114102b224db99dcb65c68",
       "version_major": 2,
       "version_minor": 0
      },
      "text/plain": [
       "  0%|          | 0/4 [00:00<?, ?it/s]"
      ]
     },
     "metadata": {},
     "output_type": "display_data"
    },
    {
     "data": {
      "application/vnd.jupyter.widget-view+json": {
       "model_id": "f6d1138cfcbe4e0e865049572661a21c",
       "version_major": 2,
       "version_minor": 0
      },
      "text/plain": [
       "  0%|          | 0/4 [00:00<?, ?it/s]"
      ]
     },
     "metadata": {},
     "output_type": "display_data"
    },
    {
     "data": {
      "application/vnd.jupyter.widget-view+json": {
       "model_id": "f9bf21cf753340428ae5631037827433",
       "version_major": 2,
       "version_minor": 0
      },
      "text/plain": [
       "  0%|          | 0/4 [00:00<?, ?it/s]"
      ]
     },
     "metadata": {},
     "output_type": "display_data"
    },
    {
     "data": {
      "application/vnd.jupyter.widget-view+json": {
       "model_id": "369beb22ff2c4989a28842bde3f13733",
       "version_major": 2,
       "version_minor": 0
      },
      "text/plain": [
       "  0%|          | 0/4 [00:00<?, ?it/s]"
      ]
     },
     "metadata": {},
     "output_type": "display_data"
    },
    {
     "data": {
      "application/vnd.jupyter.widget-view+json": {
       "model_id": "87111a4a852b490abf87befee27cfd84",
       "version_major": 2,
       "version_minor": 0
      },
      "text/plain": [
       "  0%|          | 0/4 [00:00<?, ?it/s]"
      ]
     },
     "metadata": {},
     "output_type": "display_data"
    },
    {
     "data": {
      "application/vnd.jupyter.widget-view+json": {
       "model_id": "e763492d3841494fbea2508076463c4a",
       "version_major": 2,
       "version_minor": 0
      },
      "text/plain": [
       "  0%|          | 0/4 [00:00<?, ?it/s]"
      ]
     },
     "metadata": {},
     "output_type": "display_data"
    },
    {
     "data": {
      "application/vnd.jupyter.widget-view+json": {
       "model_id": "5a2fb7cd528f4709877e1f4f72529e4b",
       "version_major": 2,
       "version_minor": 0
      },
      "text/plain": [
       "  0%|          | 0/4 [00:00<?, ?it/s]"
      ]
     },
     "metadata": {},
     "output_type": "display_data"
    },
    {
     "data": {
      "application/vnd.jupyter.widget-view+json": {
       "model_id": "0973b1a87a3b483d8cbb67f913ab34c1",
       "version_major": 2,
       "version_minor": 0
      },
      "text/plain": [
       "  0%|          | 0/4 [00:00<?, ?it/s]"
      ]
     },
     "metadata": {},
     "output_type": "display_data"
    },
    {
     "data": {
      "application/vnd.jupyter.widget-view+json": {
       "model_id": "7fa7b93ea5674ad39ec132e5540b27a6",
       "version_major": 2,
       "version_minor": 0
      },
      "text/plain": [
       "  0%|          | 0/4 [00:00<?, ?it/s]"
      ]
     },
     "metadata": {},
     "output_type": "display_data"
    },
    {
     "data": {
      "application/vnd.jupyter.widget-view+json": {
       "model_id": "d047b2e3d6ca4f0f912622ab5ae04123",
       "version_major": 2,
       "version_minor": 0
      },
      "text/plain": [
       "  0%|          | 0/4 [00:00<?, ?it/s]"
      ]
     },
     "metadata": {},
     "output_type": "display_data"
    },
    {
     "data": {
      "application/vnd.jupyter.widget-view+json": {
       "model_id": "59f760fcef064b2db6b4c245bd3c6a06",
       "version_major": 2,
       "version_minor": 0
      },
      "text/plain": [
       "  0%|          | 0/4 [00:00<?, ?it/s]"
      ]
     },
     "metadata": {},
     "output_type": "display_data"
    },
    {
     "data": {
      "application/vnd.jupyter.widget-view+json": {
       "model_id": "71bf4fe3a42d4bb4b4c9a429b69021e2",
       "version_major": 2,
       "version_minor": 0
      },
      "text/plain": [
       "  0%|          | 0/4 [00:00<?, ?it/s]"
      ]
     },
     "metadata": {},
     "output_type": "display_data"
    },
    {
     "data": {
      "application/vnd.jupyter.widget-view+json": {
       "model_id": "1ae420e42fcf45cdb7042c41c3387d76",
       "version_major": 2,
       "version_minor": 0
      },
      "text/plain": [
       "  0%|          | 0/4 [00:00<?, ?it/s]"
      ]
     },
     "metadata": {},
     "output_type": "display_data"
    },
    {
     "data": {
      "application/vnd.jupyter.widget-view+json": {
       "model_id": "a9cb39b38981424f8069de1cdbfa4c3e",
       "version_major": 2,
       "version_minor": 0
      },
      "text/plain": [
       "  0%|          | 0/4 [00:00<?, ?it/s]"
      ]
     },
     "metadata": {},
     "output_type": "display_data"
    },
    {
     "data": {
      "application/vnd.jupyter.widget-view+json": {
       "model_id": "ac08762da4d546c48fe61fe675ae1c02",
       "version_major": 2,
       "version_minor": 0
      },
      "text/plain": [
       "  0%|          | 0/4 [00:00<?, ?it/s]"
      ]
     },
     "metadata": {},
     "output_type": "display_data"
    },
    {
     "data": {
      "application/vnd.jupyter.widget-view+json": {
       "model_id": "9b4a9dfe95df4e4ead834d2faf59d11f",
       "version_major": 2,
       "version_minor": 0
      },
      "text/plain": [
       "  0%|          | 0/4 [00:00<?, ?it/s]"
      ]
     },
     "metadata": {},
     "output_type": "display_data"
    },
    {
     "data": {
      "application/vnd.jupyter.widget-view+json": {
       "model_id": "52620a93a5d54d85bb9264b712465dde",
       "version_major": 2,
       "version_minor": 0
      },
      "text/plain": [
       "  0%|          | 0/4 [00:00<?, ?it/s]"
      ]
     },
     "metadata": {},
     "output_type": "display_data"
    },
    {
     "data": {
      "application/vnd.jupyter.widget-view+json": {
       "model_id": "f2f17d36985e40179d572eb7b4bcee4a",
       "version_major": 2,
       "version_minor": 0
      },
      "text/plain": [
       "  0%|          | 0/4 [00:00<?, ?it/s]"
      ]
     },
     "metadata": {},
     "output_type": "display_data"
    },
    {
     "data": {
      "application/vnd.jupyter.widget-view+json": {
       "model_id": "a94ca46f2a954b928f6bcffdc22d558d",
       "version_major": 2,
       "version_minor": 0
      },
      "text/plain": [
       "  0%|          | 0/4 [00:00<?, ?it/s]"
      ]
     },
     "metadata": {},
     "output_type": "display_data"
    },
    {
     "data": {
      "application/vnd.jupyter.widget-view+json": {
       "model_id": "f4cb038f472d43baaacbdbced216e9db",
       "version_major": 2,
       "version_minor": 0
      },
      "text/plain": [
       "  0%|          | 0/4 [00:00<?, ?it/s]"
      ]
     },
     "metadata": {},
     "output_type": "display_data"
    },
    {
     "data": {
      "application/vnd.jupyter.widget-view+json": {
       "model_id": "fcf36ffde9a847a6ac736eea088a2432",
       "version_major": 2,
       "version_minor": 0
      },
      "text/plain": [
       "  0%|          | 0/4 [00:00<?, ?it/s]"
      ]
     },
     "metadata": {},
     "output_type": "display_data"
    },
    {
     "data": {
      "application/vnd.jupyter.widget-view+json": {
       "model_id": "4b57e3f4a9b8441ea53508b70703d909",
       "version_major": 2,
       "version_minor": 0
      },
      "text/plain": [
       "  0%|          | 0/4 [00:00<?, ?it/s]"
      ]
     },
     "metadata": {},
     "output_type": "display_data"
    },
    {
     "data": {
      "application/vnd.jupyter.widget-view+json": {
       "model_id": "e2a0a95de9c44c2da0e844d6256b7fdf",
       "version_major": 2,
       "version_minor": 0
      },
      "text/plain": [
       "  0%|          | 0/4 [00:00<?, ?it/s]"
      ]
     },
     "metadata": {},
     "output_type": "display_data"
    },
    {
     "data": {
      "application/vnd.jupyter.widget-view+json": {
       "model_id": "2c60a79f0a3b43fb8a571e2ec7c20d0d",
       "version_major": 2,
       "version_minor": 0
      },
      "text/plain": [
       "  0%|          | 0/4 [00:00<?, ?it/s]"
      ]
     },
     "metadata": {},
     "output_type": "display_data"
    },
    {
     "data": {
      "application/vnd.jupyter.widget-view+json": {
       "model_id": "f9f0809b3d084c9cb984060c6caa3a28",
       "version_major": 2,
       "version_minor": 0
      },
      "text/plain": [
       "  0%|          | 0/4 [00:00<?, ?it/s]"
      ]
     },
     "metadata": {},
     "output_type": "display_data"
    },
    {
     "data": {
      "application/vnd.jupyter.widget-view+json": {
       "model_id": "3ca1c7c17a2842acb9daf67a37df18a0",
       "version_major": 2,
       "version_minor": 0
      },
      "text/plain": [
       "  0%|          | 0/4 [00:00<?, ?it/s]"
      ]
     },
     "metadata": {},
     "output_type": "display_data"
    },
    {
     "data": {
      "application/vnd.jupyter.widget-view+json": {
       "model_id": "cf3729b321a74476bc35663bcd3472eb",
       "version_major": 2,
       "version_minor": 0
      },
      "text/plain": [
       "  0%|          | 0/4 [00:00<?, ?it/s]"
      ]
     },
     "metadata": {},
     "output_type": "display_data"
    },
    {
     "data": {
      "application/vnd.jupyter.widget-view+json": {
       "model_id": "5e1d1456f61b4e859a086590d68d920b",
       "version_major": 2,
       "version_minor": 0
      },
      "text/plain": [
       "  0%|          | 0/4 [00:00<?, ?it/s]"
      ]
     },
     "metadata": {},
     "output_type": "display_data"
    },
    {
     "data": {
      "application/vnd.jupyter.widget-view+json": {
       "model_id": "df57a4db4a914b54b3b91af5bbd889a2",
       "version_major": 2,
       "version_minor": 0
      },
      "text/plain": [
       "  0%|          | 0/4 [00:00<?, ?it/s]"
      ]
     },
     "metadata": {},
     "output_type": "display_data"
    },
    {
     "data": {
      "application/vnd.jupyter.widget-view+json": {
       "model_id": "31fd513d749c4ad29c54867c108ede02",
       "version_major": 2,
       "version_minor": 0
      },
      "text/plain": [
       "  0%|          | 0/4 [00:00<?, ?it/s]"
      ]
     },
     "metadata": {},
     "output_type": "display_data"
    },
    {
     "data": {
      "application/vnd.jupyter.widget-view+json": {
       "model_id": "80d741fb4f6347c3a03a44534df244fd",
       "version_major": 2,
       "version_minor": 0
      },
      "text/plain": [
       "  0%|          | 0/4 [00:00<?, ?it/s]"
      ]
     },
     "metadata": {},
     "output_type": "display_data"
    },
    {
     "data": {
      "application/vnd.jupyter.widget-view+json": {
       "model_id": "1c7f985f88574dbcb36b52cdc973fb04",
       "version_major": 2,
       "version_minor": 0
      },
      "text/plain": [
       "  0%|          | 0/4 [00:00<?, ?it/s]"
      ]
     },
     "metadata": {},
     "output_type": "display_data"
    },
    {
     "data": {
      "application/vnd.jupyter.widget-view+json": {
       "model_id": "df374863e0914d0e92b40bde323cb991",
       "version_major": 2,
       "version_minor": 0
      },
      "text/plain": [
       "  0%|          | 0/4 [00:00<?, ?it/s]"
      ]
     },
     "metadata": {},
     "output_type": "display_data"
    },
    {
     "data": {
      "application/vnd.jupyter.widget-view+json": {
       "model_id": "187a8d2f86904254b03ce2b6a97b93df",
       "version_major": 2,
       "version_minor": 0
      },
      "text/plain": [
       "  0%|          | 0/4 [00:00<?, ?it/s]"
      ]
     },
     "metadata": {},
     "output_type": "display_data"
    },
    {
     "data": {
      "application/vnd.jupyter.widget-view+json": {
       "model_id": "c34c9a5f061d4d81803ae1bc1bc4b994",
       "version_major": 2,
       "version_minor": 0
      },
      "text/plain": [
       "  0%|          | 0/4 [00:00<?, ?it/s]"
      ]
     },
     "metadata": {},
     "output_type": "display_data"
    },
    {
     "data": {
      "application/vnd.jupyter.widget-view+json": {
       "model_id": "6eb312bb28cb4db2af814d4169b9e62b",
       "version_major": 2,
       "version_minor": 0
      },
      "text/plain": [
       "  0%|          | 0/4 [00:00<?, ?it/s]"
      ]
     },
     "metadata": {},
     "output_type": "display_data"
    },
    {
     "data": {
      "application/vnd.jupyter.widget-view+json": {
       "model_id": "37bf89b1d1b94535982d0195d4e28906",
       "version_major": 2,
       "version_minor": 0
      },
      "text/plain": [
       "  0%|          | 0/4 [00:00<?, ?it/s]"
      ]
     },
     "metadata": {},
     "output_type": "display_data"
    },
    {
     "data": {
      "application/vnd.jupyter.widget-view+json": {
       "model_id": "4b9c6fe0f9c24889bd91f2dee01a2756",
       "version_major": 2,
       "version_minor": 0
      },
      "text/plain": [
       "  0%|          | 0/4 [00:00<?, ?it/s]"
      ]
     },
     "metadata": {},
     "output_type": "display_data"
    },
    {
     "data": {
      "application/vnd.jupyter.widget-view+json": {
       "model_id": "597a9e36d3854c418de7d9833403cbee",
       "version_major": 2,
       "version_minor": 0
      },
      "text/plain": [
       "  0%|          | 0/4 [00:00<?, ?it/s]"
      ]
     },
     "metadata": {},
     "output_type": "display_data"
    },
    {
     "data": {
      "application/vnd.jupyter.widget-view+json": {
       "model_id": "ff5856905caf4408a8f8c52f44a78024",
       "version_major": 2,
       "version_minor": 0
      },
      "text/plain": [
       "  0%|          | 0/4 [00:00<?, ?it/s]"
      ]
     },
     "metadata": {},
     "output_type": "display_data"
    },
    {
     "data": {
      "application/vnd.jupyter.widget-view+json": {
       "model_id": "2e5777b30f0f467ebbca4dbdd862f91a",
       "version_major": 2,
       "version_minor": 0
      },
      "text/plain": [
       "  0%|          | 0/4 [00:00<?, ?it/s]"
      ]
     },
     "metadata": {},
     "output_type": "display_data"
    },
    {
     "data": {
      "application/vnd.jupyter.widget-view+json": {
       "model_id": "86002365b49d479f9d2d52609a350766",
       "version_major": 2,
       "version_minor": 0
      },
      "text/plain": [
       "  0%|          | 0/4 [00:00<?, ?it/s]"
      ]
     },
     "metadata": {},
     "output_type": "display_data"
    },
    {
     "data": {
      "application/vnd.jupyter.widget-view+json": {
       "model_id": "bc3a6f8b306a4b058be866ef70aafc1e",
       "version_major": 2,
       "version_minor": 0
      },
      "text/plain": [
       "  0%|          | 0/4 [00:00<?, ?it/s]"
      ]
     },
     "metadata": {},
     "output_type": "display_data"
    },
    {
     "data": {
      "application/vnd.jupyter.widget-view+json": {
       "model_id": "ace7d97ac3864309af62d3bea58d6a65",
       "version_major": 2,
       "version_minor": 0
      },
      "text/plain": [
       "  0%|          | 0/4 [00:00<?, ?it/s]"
      ]
     },
     "metadata": {},
     "output_type": "display_data"
    },
    {
     "data": {
      "application/vnd.jupyter.widget-view+json": {
       "model_id": "02489fd0fa8c4d6694347e1cf0ea09a5",
       "version_major": 2,
       "version_minor": 0
      },
      "text/plain": [
       "  0%|          | 0/4 [00:00<?, ?it/s]"
      ]
     },
     "metadata": {},
     "output_type": "display_data"
    },
    {
     "data": {
      "application/vnd.jupyter.widget-view+json": {
       "model_id": "75b1ec6e04c048e69bf18e7fc1b8592d",
       "version_major": 2,
       "version_minor": 0
      },
      "text/plain": [
       "  0%|          | 0/4 [00:00<?, ?it/s]"
      ]
     },
     "metadata": {},
     "output_type": "display_data"
    },
    {
     "data": {
      "application/vnd.jupyter.widget-view+json": {
       "model_id": "457d92b2165b438394cc6dd87a5ad285",
       "version_major": 2,
       "version_minor": 0
      },
      "text/plain": [
       "  0%|          | 0/4 [00:00<?, ?it/s]"
      ]
     },
     "metadata": {},
     "output_type": "display_data"
    },
    {
     "data": {
      "application/vnd.jupyter.widget-view+json": {
       "model_id": "5d9f12d5d9b645a48222af7cee705edd",
       "version_major": 2,
       "version_minor": 0
      },
      "text/plain": [
       "  0%|          | 0/4 [00:00<?, ?it/s]"
      ]
     },
     "metadata": {},
     "output_type": "display_data"
    },
    {
     "data": {
      "application/vnd.jupyter.widget-view+json": {
       "model_id": "8a8c9b40ac7644499536824ac583e5f0",
       "version_major": 2,
       "version_minor": 0
      },
      "text/plain": [
       "  0%|          | 0/4 [00:00<?, ?it/s]"
      ]
     },
     "metadata": {},
     "output_type": "display_data"
    },
    {
     "data": {
      "application/vnd.jupyter.widget-view+json": {
       "model_id": "c9c688279b20437ab8ea520de9ac429d",
       "version_major": 2,
       "version_minor": 0
      },
      "text/plain": [
       "  0%|          | 0/4 [00:00<?, ?it/s]"
      ]
     },
     "metadata": {},
     "output_type": "display_data"
    },
    {
     "data": {
      "application/vnd.jupyter.widget-view+json": {
       "model_id": "0d5b9b53960848d8879219d5bfaee749",
       "version_major": 2,
       "version_minor": 0
      },
      "text/plain": [
       "  0%|          | 0/4 [00:00<?, ?it/s]"
      ]
     },
     "metadata": {},
     "output_type": "display_data"
    },
    {
     "data": {
      "application/vnd.jupyter.widget-view+json": {
       "model_id": "8ad28249fbb847608374f494a1d619c5",
       "version_major": 2,
       "version_minor": 0
      },
      "text/plain": [
       "  0%|          | 0/4 [00:00<?, ?it/s]"
      ]
     },
     "metadata": {},
     "output_type": "display_data"
    },
    {
     "data": {
      "application/vnd.jupyter.widget-view+json": {
       "model_id": "d6fe1877a440454b96d8da60a5c352b7",
       "version_major": 2,
       "version_minor": 0
      },
      "text/plain": [
       "  0%|          | 0/4 [00:00<?, ?it/s]"
      ]
     },
     "metadata": {},
     "output_type": "display_data"
    },
    {
     "data": {
      "application/vnd.jupyter.widget-view+json": {
       "model_id": "99e51bdbe65b4317a95d253e2583e668",
       "version_major": 2,
       "version_minor": 0
      },
      "text/plain": [
       "  0%|          | 0/4 [00:00<?, ?it/s]"
      ]
     },
     "metadata": {},
     "output_type": "display_data"
    },
    {
     "data": {
      "application/vnd.jupyter.widget-view+json": {
       "model_id": "758acdc77162473fae7c694412a1edd7",
       "version_major": 2,
       "version_minor": 0
      },
      "text/plain": [
       "  0%|          | 0/4 [00:00<?, ?it/s]"
      ]
     },
     "metadata": {},
     "output_type": "display_data"
    },
    {
     "data": {
      "application/vnd.jupyter.widget-view+json": {
       "model_id": "137d9246bdab4362baf5ec5c66681083",
       "version_major": 2,
       "version_minor": 0
      },
      "text/plain": [
       "  0%|          | 0/4 [00:00<?, ?it/s]"
      ]
     },
     "metadata": {},
     "output_type": "display_data"
    },
    {
     "data": {
      "application/vnd.jupyter.widget-view+json": {
       "model_id": "469a62fab3b141498e9959b528dc2cd5",
       "version_major": 2,
       "version_minor": 0
      },
      "text/plain": [
       "  0%|          | 0/4 [00:00<?, ?it/s]"
      ]
     },
     "metadata": {},
     "output_type": "display_data"
    },
    {
     "data": {
      "application/vnd.jupyter.widget-view+json": {
       "model_id": "221c13150b4b4c4d91c313c077305faf",
       "version_major": 2,
       "version_minor": 0
      },
      "text/plain": [
       "  0%|          | 0/4 [00:00<?, ?it/s]"
      ]
     },
     "metadata": {},
     "output_type": "display_data"
    },
    {
     "data": {
      "application/vnd.jupyter.widget-view+json": {
       "model_id": "21f4b5b6dc1541cab4cf5afcdeec155a",
       "version_major": 2,
       "version_minor": 0
      },
      "text/plain": [
       "  0%|          | 0/4 [00:00<?, ?it/s]"
      ]
     },
     "metadata": {},
     "output_type": "display_data"
    },
    {
     "data": {
      "application/vnd.jupyter.widget-view+json": {
       "model_id": "b1a628c372b34ed494b9acffe6776d12",
       "version_major": 2,
       "version_minor": 0
      },
      "text/plain": [
       "  0%|          | 0/4 [00:00<?, ?it/s]"
      ]
     },
     "metadata": {},
     "output_type": "display_data"
    },
    {
     "data": {
      "application/vnd.jupyter.widget-view+json": {
       "model_id": "5e1b4d0b1b1f4180859f9433dfb101e0",
       "version_major": 2,
       "version_minor": 0
      },
      "text/plain": [
       "  0%|          | 0/4 [00:00<?, ?it/s]"
      ]
     },
     "metadata": {},
     "output_type": "display_data"
    },
    {
     "data": {
      "application/vnd.jupyter.widget-view+json": {
       "model_id": "708c55d6c65d4d61a421478223194231",
       "version_major": 2,
       "version_minor": 0
      },
      "text/plain": [
       "  0%|          | 0/4 [00:00<?, ?it/s]"
      ]
     },
     "metadata": {},
     "output_type": "display_data"
    },
    {
     "data": {
      "application/vnd.jupyter.widget-view+json": {
       "model_id": "8831334e05734d2eba92fd576fd9c0b6",
       "version_major": 2,
       "version_minor": 0
      },
      "text/plain": [
       "  0%|          | 0/4 [00:00<?, ?it/s]"
      ]
     },
     "metadata": {},
     "output_type": "display_data"
    },
    {
     "data": {
      "application/vnd.jupyter.widget-view+json": {
       "model_id": "34e49fcfb3f1440e98b7f3afa4621aa6",
       "version_major": 2,
       "version_minor": 0
      },
      "text/plain": [
       "  0%|          | 0/4 [00:00<?, ?it/s]"
      ]
     },
     "metadata": {},
     "output_type": "display_data"
    },
    {
     "data": {
      "application/vnd.jupyter.widget-view+json": {
       "model_id": "2a73de9559774af78e8cca2bf5c78e57",
       "version_major": 2,
       "version_minor": 0
      },
      "text/plain": [
       "  0%|          | 0/4 [00:00<?, ?it/s]"
      ]
     },
     "metadata": {},
     "output_type": "display_data"
    },
    {
     "data": {
      "application/vnd.jupyter.widget-view+json": {
       "model_id": "f5bd2bfc5ad8448c846907ec4a8cb600",
       "version_major": 2,
       "version_minor": 0
      },
      "text/plain": [
       "  0%|          | 0/4 [00:00<?, ?it/s]"
      ]
     },
     "metadata": {},
     "output_type": "display_data"
    },
    {
     "data": {
      "application/vnd.jupyter.widget-view+json": {
       "model_id": "24692dade5f0475599e61133006ed0d4",
       "version_major": 2,
       "version_minor": 0
      },
      "text/plain": [
       "  0%|          | 0/4 [00:00<?, ?it/s]"
      ]
     },
     "metadata": {},
     "output_type": "display_data"
    },
    {
     "data": {
      "application/vnd.jupyter.widget-view+json": {
       "model_id": "b7920032787a49219ee8bc02538d03dd",
       "version_major": 2,
       "version_minor": 0
      },
      "text/plain": [
       "  0%|          | 0/4 [00:00<?, ?it/s]"
      ]
     },
     "metadata": {},
     "output_type": "display_data"
    },
    {
     "data": {
      "application/vnd.jupyter.widget-view+json": {
       "model_id": "d15480bf024540c797c94795e083bfd6",
       "version_major": 2,
       "version_minor": 0
      },
      "text/plain": [
       "  0%|          | 0/4 [00:00<?, ?it/s]"
      ]
     },
     "metadata": {},
     "output_type": "display_data"
    },
    {
     "data": {
      "application/vnd.jupyter.widget-view+json": {
       "model_id": "0a9c08cd4c434129a8cc3852328c3af7",
       "version_major": 2,
       "version_minor": 0
      },
      "text/plain": [
       "  0%|          | 0/4 [00:00<?, ?it/s]"
      ]
     },
     "metadata": {},
     "output_type": "display_data"
    },
    {
     "data": {
      "application/vnd.jupyter.widget-view+json": {
       "model_id": "5f2a4d68fb9d4faab42fa4c68d7edb57",
       "version_major": 2,
       "version_minor": 0
      },
      "text/plain": [
       "  0%|          | 0/4 [00:00<?, ?it/s]"
      ]
     },
     "metadata": {},
     "output_type": "display_data"
    },
    {
     "data": {
      "application/vnd.jupyter.widget-view+json": {
       "model_id": "9d23c1fba93545c08aa840a1a04632d5",
       "version_major": 2,
       "version_minor": 0
      },
      "text/plain": [
       "  0%|          | 0/4 [00:00<?, ?it/s]"
      ]
     },
     "metadata": {},
     "output_type": "display_data"
    },
    {
     "data": {
      "application/vnd.jupyter.widget-view+json": {
       "model_id": "b556dbfdd0614c969342affbfd766fea",
       "version_major": 2,
       "version_minor": 0
      },
      "text/plain": [
       "  0%|          | 0/4 [00:00<?, ?it/s]"
      ]
     },
     "metadata": {},
     "output_type": "display_data"
    },
    {
     "data": {
      "application/vnd.jupyter.widget-view+json": {
       "model_id": "9dd18b75f87a47ff8e56c2cba96948d3",
       "version_major": 2,
       "version_minor": 0
      },
      "text/plain": [
       "  0%|          | 0/4 [00:00<?, ?it/s]"
      ]
     },
     "metadata": {},
     "output_type": "display_data"
    },
    {
     "data": {
      "application/vnd.jupyter.widget-view+json": {
       "model_id": "918f6e33aea14fbfae19f6eb582002ce",
       "version_major": 2,
       "version_minor": 0
      },
      "text/plain": [
       "  0%|          | 0/4 [00:00<?, ?it/s]"
      ]
     },
     "metadata": {},
     "output_type": "display_data"
    },
    {
     "data": {
      "application/vnd.jupyter.widget-view+json": {
       "model_id": "716dc6a3b5494f42b41047cfa35fe905",
       "version_major": 2,
       "version_minor": 0
      },
      "text/plain": [
       "  0%|          | 0/4 [00:00<?, ?it/s]"
      ]
     },
     "metadata": {},
     "output_type": "display_data"
    },
    {
     "data": {
      "application/vnd.jupyter.widget-view+json": {
       "model_id": "99260ef067f44f47aaaeb29ff7e678f3",
       "version_major": 2,
       "version_minor": 0
      },
      "text/plain": [
       "  0%|          | 0/4 [00:00<?, ?it/s]"
      ]
     },
     "metadata": {},
     "output_type": "display_data"
    },
    {
     "data": {
      "application/vnd.jupyter.widget-view+json": {
       "model_id": "648e61fd550e44cea3ef8e17ba3cfaad",
       "version_major": 2,
       "version_minor": 0
      },
      "text/plain": [
       "  0%|          | 0/4 [00:00<?, ?it/s]"
      ]
     },
     "metadata": {},
     "output_type": "display_data"
    },
    {
     "data": {
      "application/vnd.jupyter.widget-view+json": {
       "model_id": "8c803398b6ed4db8ad6f1087149a55fd",
       "version_major": 2,
       "version_minor": 0
      },
      "text/plain": [
       "  0%|          | 0/4 [00:00<?, ?it/s]"
      ]
     },
     "metadata": {},
     "output_type": "display_data"
    },
    {
     "data": {
      "application/vnd.jupyter.widget-view+json": {
       "model_id": "fc69a44dd71d432ba80545c6336dc60f",
       "version_major": 2,
       "version_minor": 0
      },
      "text/plain": [
       "  0%|          | 0/4 [00:00<?, ?it/s]"
      ]
     },
     "metadata": {},
     "output_type": "display_data"
    },
    {
     "data": {
      "application/vnd.jupyter.widget-view+json": {
       "model_id": "1914c7ae01c140bebea5f6cd81c9ddf1",
       "version_major": 2,
       "version_minor": 0
      },
      "text/plain": [
       "  0%|          | 0/4 [00:00<?, ?it/s]"
      ]
     },
     "metadata": {},
     "output_type": "display_data"
    },
    {
     "data": {
      "application/vnd.jupyter.widget-view+json": {
       "model_id": "f610a08e29e24674846c5cd2eabd4307",
       "version_major": 2,
       "version_minor": 0
      },
      "text/plain": [
       "  0%|          | 0/4 [00:00<?, ?it/s]"
      ]
     },
     "metadata": {},
     "output_type": "display_data"
    },
    {
     "data": {
      "application/vnd.jupyter.widget-view+json": {
       "model_id": "604593e9942e478fba396acbb9d38dcd",
       "version_major": 2,
       "version_minor": 0
      },
      "text/plain": [
       "  0%|          | 0/4 [00:00<?, ?it/s]"
      ]
     },
     "metadata": {},
     "output_type": "display_data"
    },
    {
     "data": {
      "application/vnd.jupyter.widget-view+json": {
       "model_id": "740aff0c30de41229c5253ba2dcf5431",
       "version_major": 2,
       "version_minor": 0
      },
      "text/plain": [
       "  0%|          | 0/4 [00:00<?, ?it/s]"
      ]
     },
     "metadata": {},
     "output_type": "display_data"
    },
    {
     "data": {
      "application/vnd.jupyter.widget-view+json": {
       "model_id": "e3f9c04f1ed8415ab2d85c40e1557e18",
       "version_major": 2,
       "version_minor": 0
      },
      "text/plain": [
       "  0%|          | 0/4 [00:00<?, ?it/s]"
      ]
     },
     "metadata": {},
     "output_type": "display_data"
    },
    {
     "data": {
      "application/vnd.jupyter.widget-view+json": {
       "model_id": "f0594b3329fe40b2b4830083817b93a3",
       "version_major": 2,
       "version_minor": 0
      },
      "text/plain": [
       "  0%|          | 0/4 [00:00<?, ?it/s]"
      ]
     },
     "metadata": {},
     "output_type": "display_data"
    },
    {
     "data": {
      "application/vnd.jupyter.widget-view+json": {
       "model_id": "79025a6b63a24889b749a699bbf977dc",
       "version_major": 2,
       "version_minor": 0
      },
      "text/plain": [
       "  0%|          | 0/4 [00:00<?, ?it/s]"
      ]
     },
     "metadata": {},
     "output_type": "display_data"
    },
    {
     "data": {
      "application/vnd.jupyter.widget-view+json": {
       "model_id": "108ad2a2817e4d13aff511c03523a15a",
       "version_major": 2,
       "version_minor": 0
      },
      "text/plain": [
       "  0%|          | 0/4 [00:00<?, ?it/s]"
      ]
     },
     "metadata": {},
     "output_type": "display_data"
    },
    {
     "data": {
      "application/vnd.jupyter.widget-view+json": {
       "model_id": "8701a80fdef04cd0aa214b932a8c78c1",
       "version_major": 2,
       "version_minor": 0
      },
      "text/plain": [
       "  0%|          | 0/4 [00:00<?, ?it/s]"
      ]
     },
     "metadata": {},
     "output_type": "display_data"
    },
    {
     "data": {
      "application/vnd.jupyter.widget-view+json": {
       "model_id": "e8887ab0c13a4d3b8fee9e522ac5478d",
       "version_major": 2,
       "version_minor": 0
      },
      "text/plain": [
       "  0%|          | 0/4 [00:00<?, ?it/s]"
      ]
     },
     "metadata": {},
     "output_type": "display_data"
    },
    {
     "data": {
      "application/vnd.jupyter.widget-view+json": {
       "model_id": "ce5ef3a29e194961b151dede114a247f",
       "version_major": 2,
       "version_minor": 0
      },
      "text/plain": [
       "  0%|          | 0/4 [00:00<?, ?it/s]"
      ]
     },
     "metadata": {},
     "output_type": "display_data"
    },
    {
     "data": {
      "application/vnd.jupyter.widget-view+json": {
       "model_id": "07c354a13edc4012b26e46153e6abedc",
       "version_major": 2,
       "version_minor": 0
      },
      "text/plain": [
       "  0%|          | 0/4 [00:00<?, ?it/s]"
      ]
     },
     "metadata": {},
     "output_type": "display_data"
    },
    {
     "data": {
      "application/vnd.jupyter.widget-view+json": {
       "model_id": "3040537f530a4dfaa22736890af3877b",
       "version_major": 2,
       "version_minor": 0
      },
      "text/plain": [
       "  0%|          | 0/4 [00:00<?, ?it/s]"
      ]
     },
     "metadata": {},
     "output_type": "display_data"
    },
    {
     "data": {
      "application/vnd.jupyter.widget-view+json": {
       "model_id": "e44bd0a5fc8342c9a50726c7be856148",
       "version_major": 2,
       "version_minor": 0
      },
      "text/plain": [
       "  0%|          | 0/4 [00:00<?, ?it/s]"
      ]
     },
     "metadata": {},
     "output_type": "display_data"
    },
    {
     "data": {
      "application/vnd.jupyter.widget-view+json": {
       "model_id": "f4bff594a5ec46ec9726982f18b5b48f",
       "version_major": 2,
       "version_minor": 0
      },
      "text/plain": [
       "  0%|          | 0/4 [00:00<?, ?it/s]"
      ]
     },
     "metadata": {},
     "output_type": "display_data"
    },
    {
     "data": {
      "application/vnd.jupyter.widget-view+json": {
       "model_id": "857050f697e245199d8e078bb6813e4e",
       "version_major": 2,
       "version_minor": 0
      },
      "text/plain": [
       "  0%|          | 0/4 [00:00<?, ?it/s]"
      ]
     },
     "metadata": {},
     "output_type": "display_data"
    },
    {
     "data": {
      "application/vnd.jupyter.widget-view+json": {
       "model_id": "ebffbe782efe424b94a5719e1b74f729",
       "version_major": 2,
       "version_minor": 0
      },
      "text/plain": [
       "  0%|          | 0/4 [00:00<?, ?it/s]"
      ]
     },
     "metadata": {},
     "output_type": "display_data"
    }
   ],
   "source": [
    "model = load_model(f'{config.save_path}/{config.exp_name}/models/model_0.pth', config)\n",
    "model.to(device)\n",
    "list_of_prediction_df = prediction_framewise(df, model, config, thresh=0.9)"
   ]
  },
  {
   "cell_type": "code",
   "execution_count": 141,
   "id": "appropriate-expansion",
   "metadata": {},
   "outputs": [
    {
     "data": {
      "text/html": [
       "<div>\n",
       "<style scoped>\n",
       "    .dataframe tbody tr th:only-of-type {\n",
       "        vertical-align: middle;\n",
       "    }\n",
       "\n",
       "    .dataframe tbody tr th {\n",
       "        vertical-align: top;\n",
       "    }\n",
       "\n",
       "    .dataframe thead th {\n",
       "        text-align: right;\n",
       "    }\n",
       "</style>\n",
       "<table border=\"1\" class=\"dataframe\">\n",
       "  <thead>\n",
       "    <tr style=\"text-align: right;\">\n",
       "      <th></th>\n",
       "      <th>audio_id</th>\n",
       "      <th>ebird_code</th>\n",
       "      <th>onset</th>\n",
       "      <th>offset</th>\n",
       "      <th>max_confidence</th>\n",
       "      <th>mean_confidence</th>\n",
       "    </tr>\n",
       "  </thead>\n",
       "  <tbody>\n",
       "    <tr>\n",
       "      <th>0</th>\n",
       "      <td>extr_1670_B09_20190727_060000_All_Day_3h.wav</td>\n",
       "      <td>CreCheBab1</td>\n",
       "      <td>2.1</td>\n",
       "      <td>2.39</td>\n",
       "      <td>0.938380</td>\n",
       "      <td>0.938381</td>\n",
       "    </tr>\n",
       "    <tr>\n",
       "      <th>1</th>\n",
       "      <td>extr_1670_B09_20190727_060000_All_Day_3h.wav</td>\n",
       "      <td>MouLeaWar1</td>\n",
       "      <td>0.0</td>\n",
       "      <td>2.69</td>\n",
       "      <td>0.999935</td>\n",
       "      <td>0.988133</td>\n",
       "    </tr>\n",
       "    <tr>\n",
       "      <th>2</th>\n",
       "      <td>extr_1670_B09_20190727_060000_All_Day_3h.wav</td>\n",
       "      <td>MouLeaWar1</td>\n",
       "      <td>4.0</td>\n",
       "      <td>5.49</td>\n",
       "      <td>0.996988</td>\n",
       "      <td>0.983448</td>\n",
       "    </tr>\n",
       "    <tr>\n",
       "      <th>3</th>\n",
       "      <td>extr_1670_B09_20190727_060000_All_Day_3h.wav</td>\n",
       "      <td>MouLeaWar1</td>\n",
       "      <td>8.6</td>\n",
       "      <td>9.79</td>\n",
       "      <td>0.998533</td>\n",
       "      <td>0.982834</td>\n",
       "    </tr>\n",
       "    <tr>\n",
       "      <th>4</th>\n",
       "      <td>extr_1670_B09_20190727_060000_All_Day_3h.wav</td>\n",
       "      <td>SunWar</td>\n",
       "      <td>12.0</td>\n",
       "      <td>13.49</td>\n",
       "      <td>0.999996</td>\n",
       "      <td>0.993999</td>\n",
       "    </tr>\n",
       "    <tr>\n",
       "      <th>...</th>\n",
       "      <td>...</td>\n",
       "      <td>...</td>\n",
       "      <td>...</td>\n",
       "      <td>...</td>\n",
       "      <td>...</td>\n",
       "      <td>...</td>\n",
       "    </tr>\n",
       "    <tr>\n",
       "      <th>640</th>\n",
       "      <td>extr_5003_B02_20180920_063200_All_Day [-7.2733...</td>\n",
       "      <td>EyeWreBab1</td>\n",
       "      <td>9.5</td>\n",
       "      <td>10.69</td>\n",
       "      <td>1.000000</td>\n",
       "      <td>0.999614</td>\n",
       "    </tr>\n",
       "    <tr>\n",
       "      <th>641</th>\n",
       "      <td>extr_5003_B02_20180920_063200_All_Day [-7.2733...</td>\n",
       "      <td>EyeWreBab1</td>\n",
       "      <td>12.3</td>\n",
       "      <td>13.79</td>\n",
       "      <td>1.000000</td>\n",
       "      <td>0.999683</td>\n",
       "    </tr>\n",
       "    <tr>\n",
       "      <th>642</th>\n",
       "      <td>extr_5007_B01_20180910_064734_All_Day [-7.2963...</td>\n",
       "      <td>HorWreBab1</td>\n",
       "      <td>5.2</td>\n",
       "      <td>6.09</td>\n",
       "      <td>0.982359</td>\n",
       "      <td>0.966977</td>\n",
       "    </tr>\n",
       "    <tr>\n",
       "      <th>643</th>\n",
       "      <td>extr_5007_B01_20180910_064734_All_Day [-7.2963...</td>\n",
       "      <td>HorWreBab1</td>\n",
       "      <td>8.9</td>\n",
       "      <td>9.49</td>\n",
       "      <td>0.935119</td>\n",
       "      <td>0.923277</td>\n",
       "    </tr>\n",
       "    <tr>\n",
       "      <th>644</th>\n",
       "      <td>extr_5007_B01_20180910_064734_All_Day [-7.2963...</td>\n",
       "      <td>HorWreBab1</td>\n",
       "      <td>13.2</td>\n",
       "      <td>14.39</td>\n",
       "      <td>0.998622</td>\n",
       "      <td>0.988225</td>\n",
       "    </tr>\n",
       "  </tbody>\n",
       "</table>\n",
       "<p>645 rows × 6 columns</p>\n",
       "</div>"
      ],
      "text/plain": [
       "                                              audio_id  ebird_code  onset  \\\n",
       "0         extr_1670_B09_20190727_060000_All_Day_3h.wav  CreCheBab1    2.1   \n",
       "1         extr_1670_B09_20190727_060000_All_Day_3h.wav  MouLeaWar1    0.0   \n",
       "2         extr_1670_B09_20190727_060000_All_Day_3h.wav  MouLeaWar1    4.0   \n",
       "3         extr_1670_B09_20190727_060000_All_Day_3h.wav  MouLeaWar1    8.6   \n",
       "4         extr_1670_B09_20190727_060000_All_Day_3h.wav      SunWar   12.0   \n",
       "..                                                 ...         ...    ...   \n",
       "640  extr_5003_B02_20180920_063200_All_Day [-7.2733...  EyeWreBab1    9.5   \n",
       "641  extr_5003_B02_20180920_063200_All_Day [-7.2733...  EyeWreBab1   12.3   \n",
       "642  extr_5007_B01_20180910_064734_All_Day [-7.2963...  HorWreBab1    5.2   \n",
       "643  extr_5007_B01_20180910_064734_All_Day [-7.2963...  HorWreBab1    8.9   \n",
       "644  extr_5007_B01_20180910_064734_All_Day [-7.2963...  HorWreBab1   13.2   \n",
       "\n",
       "     offset  max_confidence  mean_confidence  \n",
       "0      2.39        0.938380         0.938381  \n",
       "1      2.69        0.999935         0.988133  \n",
       "2      5.49        0.996988         0.983448  \n",
       "3      9.79        0.998533         0.982834  \n",
       "4     13.49        0.999996         0.993999  \n",
       "..      ...             ...              ...  \n",
       "640   10.69        1.000000         0.999614  \n",
       "641   13.79        1.000000         0.999683  \n",
       "642    6.09        0.982359         0.966977  \n",
       "643    9.49        0.935119         0.923277  \n",
       "644   14.39        0.998622         0.988225  \n",
       "\n",
       "[645 rows x 6 columns]"
      ]
     },
     "execution_count": 141,
     "metadata": {},
     "output_type": "execute_result"
    }
   ],
   "source": [
    "list_of_prediction_df"
   ]
  },
  {
   "cell_type": "code",
   "execution_count": null,
   "id": "shaped-barcelona",
   "metadata": {},
   "outputs": [],
   "source": []
  }
 ],
 "metadata": {
  "kernelspec": {
   "display_name": "Python 3",
   "language": "python",
   "name": "python3"
  },
  "language_info": {
   "codemirror_mode": {
    "name": "ipython",
    "version": 3
   },
   "file_extension": ".py",
   "mimetype": "text/x-python",
   "name": "python",
   "nbconvert_exporter": "python",
   "pygments_lexer": "ipython3",
   "version": "3.7.9"
  }
 },
 "nbformat": 4,
 "nbformat_minor": 5
}
